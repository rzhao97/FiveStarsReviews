{
 "cells": [
  {
   "cell_type": "markdown",
   "metadata": {},
   "source": [
    "# Las Vegas Restaurants Reviews NLP and more EDA"
   ]
  },
  {
   "cell_type": "markdown",
   "metadata": {},
   "source": [
    "### Imports"
   ]
  },
  {
   "cell_type": "code",
   "execution_count": 1,
   "metadata": {
    "ExecuteTime": {
     "end_time": "2020-05-14T00:15:30.911160Z",
     "start_time": "2020-05-14T00:15:28.543394Z"
    }
   },
   "outputs": [],
   "source": [
    "import numpy as np\n",
    "import pandas as pd\n",
    "\n",
    "import matplotlib.pyplot as plt\n",
    "import matplotlib.colors as mc\n",
    "import colorsys\n",
    "import seaborn as sns\n",
    "\n",
    "%matplotlib inline"
   ]
  },
  {
   "cell_type": "code",
   "execution_count": 2,
   "metadata": {
    "ExecuteTime": {
     "end_time": "2020-05-14T00:15:31.817030Z",
     "start_time": "2020-05-14T00:15:31.061044Z"
    }
   },
   "outputs": [],
   "source": [
    "# For NLP\n",
    "from sklearn.feature_extraction.text import TfidfVectorizer, CountVectorizer\n",
    "\n",
    "import unicodedata\n",
    "import string\n",
    "import re\n",
    "\n",
    "from nltk.util import ngrams\n",
    "from nltk.tokenize import sent_tokenize, word_tokenize\n",
    "from nltk.corpus import stopwords\n",
    "from nltk.stem.snowball import SnowballStemmer\n",
    "\n",
    "import nltk\n",
    "from nltk.corpus import wordnet\n",
    "from nltk.stem import WordNetLemmatizer\n",
    "\n",
    "np.set_printoptions(linewidth=100) \n",
    "\n",
    "pt = string.punctuation\n",
    "sw = stopwords.words('english')\n",
    "stemmer = SnowballStemmer('english')\n"
   ]
  },
  {
   "cell_type": "code",
   "execution_count": 3,
   "metadata": {
    "ExecuteTime": {
     "end_time": "2020-05-14T00:15:32.190898Z",
     "start_time": "2020-05-14T00:15:32.161725Z"
    }
   },
   "outputs": [],
   "source": [
    "from wordcloud import WordCloud, STOPWORDS "
   ]
  },
  {
   "cell_type": "code",
   "execution_count": 37,
   "metadata": {
    "ExecuteTime": {
     "end_time": "2020-05-14T00:24:10.665567Z",
     "start_time": "2020-05-14T00:24:10.484896Z"
    }
   },
   "outputs": [],
   "source": [
    "# For Modeling\n",
    "from sklearn.model_selection import train_test_split\n",
    "from sklearn.model_selection import GridSearchCV\n",
    "\n",
    "# Logisitc Regression\n",
    "from sklearn.linear_model import LogisticRegression\n",
    "\n",
    "# Random Forest\n",
    "from sklearn.ensemble import RandomForestClassifier\n",
    "\n",
    "# Gradient Boosting\n",
    "from sklearn.ensemble import GradientBoostingClassifier\n",
    "\n",
    "# AdaBoost\n",
    "from sklearn.ensemble import AdaBoostClassifier\n",
    "\n",
    "# Naive Bayes\n",
    "from sklearn.naive_bayes import MultinomialNB\n",
    "\n",
    "# Metrics\n",
    "from sklearn.metrics import accuracy_score, recall_score, precision_score, f1_score\n"
   ]
  },
  {
   "cell_type": "markdown",
   "metadata": {},
   "source": [
    "## Data Processing"
   ]
  },
  {
   "cell_type": "markdown",
   "metadata": {},
   "source": [
    "#### Import Data"
   ]
  },
  {
   "cell_type": "code",
   "execution_count": 4,
   "metadata": {
    "ExecuteTime": {
     "end_time": "2020-05-14T00:15:38.844625Z",
     "start_time": "2020-05-14T00:15:33.982659Z"
    }
   },
   "outputs": [],
   "source": [
    "raw_reviews = pd.read_pickle('../data/english_reviews.pkl')"
   ]
  },
  {
   "cell_type": "code",
   "execution_count": 5,
   "metadata": {
    "ExecuteTime": {
     "end_time": "2020-05-14T00:15:58.691853Z",
     "start_time": "2020-05-14T00:15:38.848045Z"
    }
   },
   "outputs": [],
   "source": [
    "reviews = raw_reviews.loc[raw_reviews.text.apply(lambda x : True if len(x.split(' ')) > 10 else False)]"
   ]
  },
  {
   "cell_type": "code",
   "execution_count": 6,
   "metadata": {
    "ExecuteTime": {
     "end_time": "2020-05-14T00:15:58.713131Z",
     "start_time": "2020-05-14T00:15:58.699949Z"
    }
   },
   "outputs": [],
   "source": [
    "reviews.reset_index(drop=True, inplace=True)"
   ]
  },
  {
   "cell_type": "code",
   "execution_count": 7,
   "metadata": {
    "ExecuteTime": {
     "end_time": "2020-05-14T00:15:59.487355Z",
     "start_time": "2020-05-14T00:15:58.727913Z"
    }
   },
   "outputs": [
    {
     "data": {
      "text/html": [
       "<div>\n",
       "<style scoped>\n",
       "    .dataframe tbody tr th:only-of-type {\n",
       "        vertical-align: middle;\n",
       "    }\n",
       "\n",
       "    .dataframe tbody tr th {\n",
       "        vertical-align: top;\n",
       "    }\n",
       "\n",
       "    .dataframe thead th {\n",
       "        text-align: right;\n",
       "    }\n",
       "</style>\n",
       "<table border=\"1\" class=\"dataframe\">\n",
       "  <thead>\n",
       "    <tr style=\"text-align: right;\">\n",
       "      <th></th>\n",
       "      <th>business_id</th>\n",
       "      <th>review_id</th>\n",
       "      <th>user_id</th>\n",
       "      <th>stars</th>\n",
       "      <th>useful</th>\n",
       "      <th>funny</th>\n",
       "      <th>cool</th>\n",
       "      <th>text</th>\n",
       "      <th>date</th>\n",
       "      <th>language</th>\n",
       "    </tr>\n",
       "  </thead>\n",
       "  <tbody>\n",
       "  </tbody>\n",
       "</table>\n",
       "</div>"
      ],
      "text/plain": [
       "Empty DataFrame\n",
       "Columns: [business_id, review_id, user_id, stars, useful, funny, cool, text, date, language]\n",
       "Index: []"
      ]
     },
     "execution_count": 7,
     "metadata": {},
     "output_type": "execute_result"
    }
   ],
   "source": [
    "reviews[reviews.isna().any(axis=1)]"
   ]
  },
  {
   "cell_type": "code",
   "execution_count": 8,
   "metadata": {
    "ExecuteTime": {
     "end_time": "2020-05-14T00:15:59.623205Z",
     "start_time": "2020-05-14T00:15:59.491881Z"
    },
    "scrolled": true
   },
   "outputs": [
    {
     "data": {
      "text/plain": [
       "1    0.124113\n",
       "2    0.084543\n",
       "3    0.118845\n",
       "4    0.228227\n",
       "5    0.444272\n",
       "Name: stars, dtype: float64"
      ]
     },
     "execution_count": 8,
     "metadata": {},
     "output_type": "execute_result"
    }
   ],
   "source": [
    "(reviews.stars.value_counts()/reviews.stars.value_counts().sum()).sort_index()"
   ]
  },
  {
   "cell_type": "code",
   "execution_count": 9,
   "metadata": {
    "ExecuteTime": {
     "end_time": "2020-05-14T00:15:59.653805Z",
     "start_time": "2020-05-14T00:15:59.635387Z"
    }
   },
   "outputs": [
    {
     "data": {
      "text/plain": [
       "(1527548, 10)"
      ]
     },
     "execution_count": 9,
     "metadata": {},
     "output_type": "execute_result"
    }
   ],
   "source": [
    "reviews.shape"
   ]
  },
  {
   "cell_type": "code",
   "execution_count": 10,
   "metadata": {
    "ExecuteTime": {
     "end_time": "2020-05-14T00:15:59.699620Z",
     "start_time": "2020-05-14T00:15:59.658603Z"
    }
   },
   "outputs": [
    {
     "data": {
      "text/html": [
       "<div>\n",
       "<style scoped>\n",
       "    .dataframe tbody tr th:only-of-type {\n",
       "        vertical-align: middle;\n",
       "    }\n",
       "\n",
       "    .dataframe tbody tr th {\n",
       "        vertical-align: top;\n",
       "    }\n",
       "\n",
       "    .dataframe thead th {\n",
       "        text-align: right;\n",
       "    }\n",
       "</style>\n",
       "<table border=\"1\" class=\"dataframe\">\n",
       "  <thead>\n",
       "    <tr style=\"text-align: right;\">\n",
       "      <th></th>\n",
       "      <th>business_id</th>\n",
       "      <th>review_id</th>\n",
       "      <th>user_id</th>\n",
       "      <th>stars</th>\n",
       "      <th>useful</th>\n",
       "      <th>funny</th>\n",
       "      <th>cool</th>\n",
       "      <th>text</th>\n",
       "      <th>date</th>\n",
       "      <th>language</th>\n",
       "    </tr>\n",
       "  </thead>\n",
       "  <tbody>\n",
       "    <tr>\n",
       "      <th>0</th>\n",
       "      <td>fnZrZlqW1Z8iWgTVDfv_MA</td>\n",
       "      <td>WUAt5-krh075Ie44np8Hew</td>\n",
       "      <td>YDkC5VVT8s9NlIZtAr8NUA</td>\n",
       "      <td>5</td>\n",
       "      <td>0</td>\n",
       "      <td>0</td>\n",
       "      <td>0</td>\n",
       "      <td>So why would I be giving a Fast Food chain loc...</td>\n",
       "      <td>2010-11-27 09:33:34</td>\n",
       "      <td>en</td>\n",
       "    </tr>\n",
       "    <tr>\n",
       "      <th>1</th>\n",
       "      <td>fnZrZlqW1Z8iWgTVDfv_MA</td>\n",
       "      <td>S9vIs-je49jqbhpWSQ8yHg</td>\n",
       "      <td>mxtalrN7VHVQwGjv8ln5yg</td>\n",
       "      <td>2</td>\n",
       "      <td>0</td>\n",
       "      <td>0</td>\n",
       "      <td>0</td>\n",
       "      <td>I come here bout 3x's a mo. &amp; I just can't do ...</td>\n",
       "      <td>2016-03-19 09:03:09</td>\n",
       "      <td>en</td>\n",
       "    </tr>\n",
       "    <tr>\n",
       "      <th>2</th>\n",
       "      <td>fnZrZlqW1Z8iWgTVDfv_MA</td>\n",
       "      <td>i2Soid_X8XsSTyIrPOst6g</td>\n",
       "      <td>xammeA3ftpFoAN13v5Blyg</td>\n",
       "      <td>1</td>\n",
       "      <td>2</td>\n",
       "      <td>0</td>\n",
       "      <td>0</td>\n",
       "      <td>WORST experience EVER!!!!! never have i ate an...</td>\n",
       "      <td>2015-04-02 06:14:51</td>\n",
       "      <td>en</td>\n",
       "    </tr>\n",
       "    <tr>\n",
       "      <th>3</th>\n",
       "      <td>fnZrZlqW1Z8iWgTVDfv_MA</td>\n",
       "      <td>uDYGaAOUgo7SLuH5nUZs3w</td>\n",
       "      <td>gQhFacMGI41mfVXqw1E7bQ</td>\n",
       "      <td>4</td>\n",
       "      <td>0</td>\n",
       "      <td>0</td>\n",
       "      <td>0</td>\n",
       "      <td>Hot fresh food usually.  Staff seems to turn o...</td>\n",
       "      <td>2014-08-14 23:00:34</td>\n",
       "      <td>en</td>\n",
       "    </tr>\n",
       "    <tr>\n",
       "      <th>4</th>\n",
       "      <td>fnZrZlqW1Z8iWgTVDfv_MA</td>\n",
       "      <td>Xg7HuBvuZHTBog1G_2Wk0w</td>\n",
       "      <td>0PXhJMztE3ijzQPjiwPERg</td>\n",
       "      <td>3</td>\n",
       "      <td>0</td>\n",
       "      <td>0</td>\n",
       "      <td>0</td>\n",
       "      <td>Beer battered cod fish seems really rubbery. I...</td>\n",
       "      <td>2015-03-23 02:10:52</td>\n",
       "      <td>en</td>\n",
       "    </tr>\n",
       "  </tbody>\n",
       "</table>\n",
       "</div>"
      ],
      "text/plain": [
       "              business_id               review_id                 user_id  \\\n",
       "0  fnZrZlqW1Z8iWgTVDfv_MA  WUAt5-krh075Ie44np8Hew  YDkC5VVT8s9NlIZtAr8NUA   \n",
       "1  fnZrZlqW1Z8iWgTVDfv_MA  S9vIs-je49jqbhpWSQ8yHg  mxtalrN7VHVQwGjv8ln5yg   \n",
       "2  fnZrZlqW1Z8iWgTVDfv_MA  i2Soid_X8XsSTyIrPOst6g  xammeA3ftpFoAN13v5Blyg   \n",
       "3  fnZrZlqW1Z8iWgTVDfv_MA  uDYGaAOUgo7SLuH5nUZs3w  gQhFacMGI41mfVXqw1E7bQ   \n",
       "4  fnZrZlqW1Z8iWgTVDfv_MA  Xg7HuBvuZHTBog1G_2Wk0w  0PXhJMztE3ijzQPjiwPERg   \n",
       "\n",
       "   stars  useful  funny  cool  \\\n",
       "0      5       0      0     0   \n",
       "1      2       0      0     0   \n",
       "2      1       2      0     0   \n",
       "3      4       0      0     0   \n",
       "4      3       0      0     0   \n",
       "\n",
       "                                                text                date  \\\n",
       "0  So why would I be giving a Fast Food chain loc... 2010-11-27 09:33:34   \n",
       "1  I come here bout 3x's a mo. & I just can't do ... 2016-03-19 09:03:09   \n",
       "2  WORST experience EVER!!!!! never have i ate an... 2015-04-02 06:14:51   \n",
       "3  Hot fresh food usually.  Staff seems to turn o... 2014-08-14 23:00:34   \n",
       "4  Beer battered cod fish seems really rubbery. I... 2015-03-23 02:10:52   \n",
       "\n",
       "  language  \n",
       "0       en  \n",
       "1       en  \n",
       "2       en  \n",
       "3       en  \n",
       "4       en  "
      ]
     },
     "execution_count": 10,
     "metadata": {},
     "output_type": "execute_result"
    }
   ],
   "source": [
    "reviews.head()"
   ]
  },
  {
   "cell_type": "code",
   "execution_count": 11,
   "metadata": {
    "ExecuteTime": {
     "end_time": "2020-05-14T00:16:00.836537Z",
     "start_time": "2020-05-14T00:15:59.713193Z"
    }
   },
   "outputs": [],
   "source": [
    "# X is reviews' text and y is 5 stars or not\n",
    "X = np.array(reviews.text)\n",
    "y = np.array(reviews.stars.apply(lambda s: 1 if s == 5 else 0))"
   ]
  },
  {
   "cell_type": "code",
   "execution_count": 12,
   "metadata": {
    "ExecuteTime": {
     "end_time": "2020-05-14T00:16:00.867437Z",
     "start_time": "2020-05-14T00:16:00.852251Z"
    }
   },
   "outputs": [
    {
     "data": {
      "text/plain": [
       "((1527548,), (1527548,))"
      ]
     },
     "execution_count": 12,
     "metadata": {},
     "output_type": "execute_result"
    }
   ],
   "source": [
    "X.shape, y.shape"
   ]
  },
  {
   "cell_type": "code",
   "execution_count": 13,
   "metadata": {
    "ExecuteTime": {
     "end_time": "2020-05-14T00:16:00.897378Z",
     "start_time": "2020-05-14T00:16:00.871045Z"
    }
   },
   "outputs": [
    {
     "data": {
      "text/plain": [
       "0.444272127618903"
      ]
     },
     "execution_count": 13,
     "metadata": {},
     "output_type": "execute_result"
    }
   ],
   "source": [
    "# Baseline Accuracy/Model = \n",
    "y.sum()/len(y)"
   ]
  },
  {
   "cell_type": "markdown",
   "metadata": {},
   "source": [
    "#### Split Data"
   ]
  },
  {
   "cell_type": "code",
   "execution_count": 14,
   "metadata": {
    "ExecuteTime": {
     "end_time": "2020-05-14T00:16:02.840998Z",
     "start_time": "2020-05-14T00:16:00.903529Z"
    }
   },
   "outputs": [],
   "source": [
    "final_X_train, final_X_test, final_y_train, final_y_test = train_test_split(X, y, test_size=0.2, random_state=7, stratify=y)"
   ]
  },
  {
   "cell_type": "code",
   "execution_count": 15,
   "metadata": {
    "ExecuteTime": {
     "end_time": "2020-05-14T00:16:02.864616Z",
     "start_time": "2020-05-14T00:16:02.844330Z"
    }
   },
   "outputs": [
    {
     "data": {
      "text/plain": [
       "((1222038,), (1222038,))"
      ]
     },
     "execution_count": 15,
     "metadata": {},
     "output_type": "execute_result"
    }
   ],
   "source": [
    "final_X_train.shape, final_y_train.shape"
   ]
  },
  {
   "cell_type": "code",
   "execution_count": 16,
   "metadata": {
    "ExecuteTime": {
     "end_time": "2020-05-14T00:16:02.890066Z",
     "start_time": "2020-05-14T00:16:02.868462Z"
    }
   },
   "outputs": [
    {
     "data": {
      "text/plain": [
       "611020"
      ]
     },
     "execution_count": 16,
     "metadata": {},
     "output_type": "execute_result"
    }
   ],
   "source": [
    "sli = (len(final_X_train) // 2) + 1 ; sli"
   ]
  },
  {
   "cell_type": "code",
   "execution_count": 17,
   "metadata": {
    "ExecuteTime": {
     "end_time": "2020-05-14T00:16:02.905525Z",
     "start_time": "2020-05-14T00:16:02.895822Z"
    }
   },
   "outputs": [],
   "source": [
    "X_half_1 = final_X_train[0:sli]\n",
    "X_half_2 = final_X_train[sli:]\n",
    "\n",
    "y_half_1 = final_y_train[0:sli]\n",
    "y_half_2 = final_y_train[sli:]\n"
   ]
  },
  {
   "cell_type": "code",
   "execution_count": 18,
   "metadata": {
    "ExecuteTime": {
     "end_time": "2020-05-14T00:16:02.935719Z",
     "start_time": "2020-05-14T00:16:02.910342Z"
    }
   },
   "outputs": [
    {
     "data": {
      "text/plain": [
       "(271420, 271497)"
      ]
     },
     "execution_count": 18,
     "metadata": {},
     "output_type": "execute_result"
    }
   ],
   "source": [
    "y_half_1.sum(), y_half_2.sum()"
   ]
  },
  {
   "cell_type": "markdown",
   "metadata": {
    "heading_collapsed": true
   },
   "source": [
    "##### Small Subsets"
   ]
  },
  {
   "cell_type": "code",
   "execution_count": 21,
   "metadata": {
    "ExecuteTime": {
     "end_time": "2020-05-14T00:17:18.902285Z",
     "start_time": "2020-05-14T00:17:18.892194Z"
    },
    "hidden": true
   },
   "outputs": [
    {
     "data": {
      "text/plain": [
       "(8807, 2236)"
      ]
     },
     "execution_count": 21,
     "metadata": {},
     "output_type": "execute_result"
    }
   ],
   "source": [
    "X_tiny = final_X_train[501000:521000]\n",
    "\n",
    "y_tiny = final_y_train[501000:521000]\n",
    "\n",
    "X_tiny_t = final_X_train[524000:529000]\n",
    "\n",
    "y_tiny_t = final_y_train[524000:529000]\n",
    "\n",
    "y_tiny.sum(), y_tiny_t.sum()"
   ]
  },
  {
   "cell_type": "code",
   "execution_count": 23,
   "metadata": {
    "ExecuteTime": {
     "end_time": "2020-05-14T00:19:51.526862Z",
     "start_time": "2020-05-14T00:19:51.515559Z"
    },
    "hidden": true
   },
   "outputs": [
    {
     "data": {
      "text/plain": [
       "(88435, 22059)"
      ]
     },
     "execution_count": 23,
     "metadata": {},
     "output_type": "execute_result"
    }
   ],
   "source": [
    "X_small = final_X_train[30000:230000]\n",
    "\n",
    "y_small = final_y_train[30000:230000]\n",
    "\n",
    "X_small_t = final_X_train[231000:281000]\n",
    "\n",
    "y_small_t = final_y_train[231000:281000]\n",
    "\n",
    "y_small.sum(), y_small_t.sum()"
   ]
  },
  {
   "cell_type": "markdown",
   "metadata": {},
   "source": [
    "## NLP"
   ]
  },
  {
   "cell_type": "code",
   "execution_count": 24,
   "metadata": {
    "ExecuteTime": {
     "end_time": "2020-05-14T00:20:01.400463Z",
     "start_time": "2020-05-14T00:20:01.395611Z"
    }
   },
   "outputs": [],
   "source": [
    "for i, w in enumerate(sw):\n",
    "    sw[i] = w.replace(\"'\",'')"
   ]
  },
  {
   "cell_type": "code",
   "execution_count": 25,
   "metadata": {
    "ExecuteTime": {
     "end_time": "2020-05-14T00:20:01.611844Z",
     "start_time": "2020-05-14T00:20:01.606654Z"
    }
   },
   "outputs": [],
   "source": [
    "sw + ['u', 'a', 'aa', 'aaa', 'im', 'ive', 'isnt'];"
   ]
  },
  {
   "cell_type": "code",
   "execution_count": 26,
   "metadata": {
    "ExecuteTime": {
     "end_time": "2020-05-14T00:20:01.969949Z",
     "start_time": "2020-05-14T00:20:01.950977Z"
    }
   },
   "outputs": [
    {
     "data": {
      "text/plain": [
       "'!\"#$%&\\'()*+,-./:;<=>?@[\\\\]^_`{|}~'"
      ]
     },
     "execution_count": 26,
     "metadata": {},
     "output_type": "execute_result"
    }
   ],
   "source": [
    "pt"
   ]
  },
  {
   "cell_type": "code",
   "execution_count": 27,
   "metadata": {
    "ExecuteTime": {
     "end_time": "2020-05-14T00:20:02.550689Z",
     "start_time": "2020-05-14T00:20:02.542825Z"
    }
   },
   "outputs": [],
   "source": [
    "def tokenizer(doc):\n",
    "    doc = doc.lower()\n",
    "    doc = unicodedata.normalize('NFKD', doc).encode('ASCII', 'ignore').decode('utf8')\n",
    "    \n",
    "    doc = re.sub(r\"[^a-z ]+\", '', doc)\n",
    "    \n",
    "    doc = word_tokenize(doc)\n",
    "\n",
    "    #tags = pos_tag(doc, tagset='universal')\n",
    "    #doc = [word for word,pos in tags if (pos == 'ADJ')]\n",
    "                            #pos == 'NOUN' or pos == 'VERB' or pos == 'ADJ')]\n",
    "                            # or pos == 'NNP' or pos == 'NNS' or pos == 'NNPS')]\n",
    "            \n",
    "    doc = [token for token in doc if token not in sw]\n",
    "\n",
    "    #lemma = WordNetLemmatizer()\n",
    "    #doc = [lemma.lemmatize(token) for token in doc]\n",
    "    \n",
    "    doc = [stemmer.stem(token) for token in doc]\n",
    "    \n",
    "    \n",
    "    return doc"
   ]
  },
  {
   "cell_type": "markdown",
   "metadata": {
    "heading_collapsed": true
   },
   "source": [
    "### TFIDF Vectorize X_tiny data subset"
   ]
  },
  {
   "cell_type": "code",
   "execution_count": 28,
   "metadata": {
    "ExecuteTime": {
     "end_time": "2020-05-14T00:20:04.364443Z",
     "start_time": "2020-05-14T00:20:04.359202Z"
    },
    "hidden": true
   },
   "outputs": [],
   "source": [
    "# Create tfidf vectorizer for tiny subset of data\n",
    "tfidf_tiny = TfidfVectorizer(tokenizer=tokenizer)"
   ]
  },
  {
   "cell_type": "code",
   "execution_count": 29,
   "metadata": {
    "ExecuteTime": {
     "end_time": "2020-05-14T00:20:54.970769Z",
     "start_time": "2020-05-14T00:20:04.626791Z"
    },
    "hidden": true
   },
   "outputs": [],
   "source": [
    "tfidf_X_tiny = tfidf_tiny.fit_transform(X_tiny).todense();"
   ]
  },
  {
   "cell_type": "code",
   "execution_count": 30,
   "metadata": {
    "ExecuteTime": {
     "end_time": "2020-05-14T00:20:55.153319Z",
     "start_time": "2020-05-14T00:20:54.984616Z"
    },
    "hidden": true
   },
   "outputs": [],
   "source": [
    "columns = sorted(tfidf_tiny.vocabulary_, key=lambda k: tfidf_tiny.vocabulary_[k])\n",
    "X_tiny_df = pd.DataFrame(tfidf_X_tiny, columns=columns);"
   ]
  },
  {
   "cell_type": "code",
   "execution_count": 31,
   "metadata": {
    "ExecuteTime": {
     "end_time": "2020-05-14T00:20:55.178524Z",
     "start_time": "2020-05-14T00:20:55.162404Z"
    },
    "hidden": true
   },
   "outputs": [
    {
     "data": {
      "text/plain": [
       "37768"
      ]
     },
     "execution_count": 31,
     "metadata": {},
     "output_type": "execute_result"
    }
   ],
   "source": [
    "len(X_tiny_df.columns)"
   ]
  },
  {
   "cell_type": "code",
   "execution_count": 32,
   "metadata": {
    "ExecuteTime": {
     "end_time": "2020-05-14T00:21:22.458165Z",
     "start_time": "2020-05-14T00:20:55.193659Z"
    },
    "hidden": true
   },
   "outputs": [
    {
     "data": {
      "text/plain": [
       "great     400.342345\n",
       "food      355.309416\n",
       "place     329.614837\n",
       "servic    270.720891\n",
       "good      250.504116\n",
       "love      250.232777\n",
       "amaz      246.654722\n",
       "best      238.763890\n",
       "delici    214.065240\n",
       "time      213.178613\n",
       "dtype: float64"
      ]
     },
     "execution_count": 32,
     "metadata": {},
     "output_type": "execute_result"
    }
   ],
   "source": [
    "np.sum(X_tiny_df[np.array(y_tiny)==1], axis=0).sort_values(ascending=False)[:10]"
   ]
  },
  {
   "cell_type": "code",
   "execution_count": 33,
   "metadata": {
    "ExecuteTime": {
     "end_time": "2020-05-14T00:21:50.977750Z",
     "start_time": "2020-05-14T00:21:22.481926Z"
    },
    "hidden": true
   },
   "outputs": [
    {
     "data": {
      "text/plain": [
       "food      414.183724\n",
       "good      399.123833\n",
       "order     345.034039\n",
       "place     328.772749\n",
       "like      279.914708\n",
       "servic    275.397900\n",
       "time      263.027543\n",
       "get       263.005962\n",
       "go        246.870398\n",
       "great     232.407217\n",
       "dtype: float64"
      ]
     },
     "execution_count": 33,
     "metadata": {},
     "output_type": "execute_result"
    }
   ],
   "source": [
    "np.sum(X_tiny_df[np.array(y_tiny)==0], axis=0).sort_values(ascending=False)[:10]"
   ]
  },
  {
   "cell_type": "code",
   "execution_count": 34,
   "metadata": {
    "ExecuteTime": {
     "end_time": "2020-05-14T00:22:09.735742Z",
     "start_time": "2020-05-14T00:21:51.010141Z"
    },
    "hidden": true
   },
   "outputs": [],
   "source": [
    "# Transform tiny test set\n",
    "tfidf_X_tiny_t = tfidf_tiny.transform(X_tiny_t).todense()"
   ]
  },
  {
   "cell_type": "markdown",
   "metadata": {},
   "source": [
    "### TFIDF Vectorize X_small data subset"
   ]
  },
  {
   "cell_type": "code",
   "execution_count": 72,
   "metadata": {
    "ExecuteTime": {
     "end_time": "2020-05-14T00:56:35.847314Z",
     "start_time": "2020-05-14T00:56:35.841457Z"
    }
   },
   "outputs": [],
   "source": [
    "# Create tfidf vectorizer for small subset of data\n",
    "tfidf_small = TfidfVectorizer(tokenizer=tokenizer, vocabulary=mVOCAB)"
   ]
  },
  {
   "cell_type": "code",
   "execution_count": 73,
   "metadata": {
    "ExecuteTime": {
     "end_time": "2020-05-14T01:05:36.160228Z",
     "start_time": "2020-05-14T00:56:38.190548Z"
    }
   },
   "outputs": [],
   "source": [
    "tfidf_X_small = tfidf_small.fit_transform(X_small).todense();"
   ]
  },
  {
   "cell_type": "code",
   "execution_count": 74,
   "metadata": {
    "ExecuteTime": {
     "end_time": "2020-05-14T01:46:38.254085Z",
     "start_time": "2020-05-14T01:46:38.223137Z"
    }
   },
   "outputs": [],
   "source": [
    "columns = sorted(tfidf_small.vocabulary_, key=lambda k: tfidf_small.vocabulary_[k])\n",
    "X_small_df = pd.DataFrame(tfidf_X_small, columns=columns);"
   ]
  },
  {
   "cell_type": "code",
   "execution_count": null,
   "metadata": {
    "ExecuteTime": {
     "end_time": "2020-05-14T00:10:02.930649Z",
     "start_time": "2020-05-14T00:10:02.914347Z"
    }
   },
   "outputs": [],
   "source": [
    "#len(X_small_df.columns)"
   ]
  },
  {
   "cell_type": "code",
   "execution_count": null,
   "metadata": {
    "ExecuteTime": {
     "end_time": "2020-05-14T00:22:20.770793Z",
     "start_time": "2020-05-14T00:22:20.766059Z"
    }
   },
   "outputs": [],
   "source": [
    "#X_small_df.columns[150:200]"
   ]
  },
  {
   "cell_type": "code",
   "execution_count": null,
   "metadata": {
    "ExecuteTime": {
     "start_time": "2020-05-14T00:10:39.524Z"
    }
   },
   "outputs": [],
   "source": [
    "#np.sum(X_small_df[np.array(y_small)==1], axis=0).sort_values(ascending=False)[:10]"
   ]
  },
  {
   "cell_type": "code",
   "execution_count": null,
   "metadata": {
    "ExecuteTime": {
     "start_time": "2020-05-14T00:10:40.327Z"
    }
   },
   "outputs": [],
   "source": [
    "#np.sum(X_small_df[np.array(y_small)==0], axis=0).sort_values(ascending=False)[:10]"
   ]
  },
  {
   "cell_type": "code",
   "execution_count": 75,
   "metadata": {
    "ExecuteTime": {
     "end_time": "2020-05-14T01:48:53.180863Z",
     "start_time": "2020-05-14T01:47:00.169579Z"
    }
   },
   "outputs": [],
   "source": [
    "# Transform small test set\n",
    "tfidf_X_small_t = tfidf_small.transform(X_small_t).todense()"
   ]
  },
  {
   "cell_type": "markdown",
   "metadata": {},
   "source": [
    "# Models"
   ]
  },
  {
   "cell_type": "markdown",
   "metadata": {},
   "source": [
    "### Models with Tiny Dataset"
   ]
  },
  {
   "cell_type": "markdown",
   "metadata": {},
   "source": [
    "#### Logistic Regression"
   ]
  },
  {
   "cell_type": "code",
   "execution_count": 38,
   "metadata": {
    "ExecuteTime": {
     "end_time": "2020-05-14T00:25:12.118311Z",
     "start_time": "2020-05-14T00:25:12.110374Z"
    }
   },
   "outputs": [],
   "source": [
    "tiny_log = LogisticRegression()"
   ]
  },
  {
   "cell_type": "code",
   "execution_count": 39,
   "metadata": {
    "ExecuteTime": {
     "end_time": "2020-05-14T00:31:15.407745Z",
     "start_time": "2020-05-14T00:25:23.299934Z"
    }
   },
   "outputs": [
    {
     "data": {
      "text/plain": [
       "LogisticRegression(C=1.0, class_weight=None, dual=False, fit_intercept=True,\n",
       "                   intercept_scaling=1, l1_ratio=None, max_iter=100,\n",
       "                   multi_class='auto', n_jobs=None, penalty='l2',\n",
       "                   random_state=None, solver='lbfgs', tol=0.0001, verbose=0,\n",
       "                   warm_start=False)"
      ]
     },
     "execution_count": 39,
     "metadata": {},
     "output_type": "execute_result"
    }
   ],
   "source": [
    "tiny_log.fit(tfidf_X_tiny, y_tiny)"
   ]
  },
  {
   "cell_type": "code",
   "execution_count": 43,
   "metadata": {
    "ExecuteTime": {
     "end_time": "2020-05-14T00:33:02.166534Z",
     "start_time": "2020-05-14T00:32:37.577451Z"
    }
   },
   "outputs": [
    {
     "data": {
      "text/plain": [
       "(0.86415, 0.844074605451937)"
      ]
     },
     "execution_count": 43,
     "metadata": {},
     "output_type": "execute_result"
    }
   ],
   "source": [
    "# training scores\n",
    "accuracy_score(y_tiny, tiny_log.predict(tfidf_X_tiny)), f1_score(y_tiny, tiny_log.predict(tfidf_X_tiny))"
   ]
  },
  {
   "cell_type": "code",
   "execution_count": 44,
   "metadata": {
    "ExecuteTime": {
     "end_time": "2020-05-14T00:33:05.833403Z",
     "start_time": "2020-05-14T00:33:02.193848Z"
    }
   },
   "outputs": [],
   "source": [
    "y_tiny_prob = tiny_log.predict_proba(tfidf_X_tiny_t)[:,1]\n",
    "y_tiny_hat = tiny_log.predict(tfidf_X_tiny_t)"
   ]
  },
  {
   "cell_type": "code",
   "execution_count": 45,
   "metadata": {
    "ExecuteTime": {
     "end_time": "2020-05-14T00:33:05.880120Z",
     "start_time": "2020-05-14T00:33:05.843284Z"
    }
   },
   "outputs": [
    {
     "data": {
      "text/plain": [
       "(0.8116, 0.7862006354970495)"
      ]
     },
     "execution_count": 45,
     "metadata": {},
     "output_type": "execute_result"
    }
   ],
   "source": [
    "# test scores\n",
    "accuracy_score(y_tiny_t, y_tiny_hat), f1_score(y_tiny_t, y_tiny_hat)"
   ]
  },
  {
   "cell_type": "markdown",
   "metadata": {},
   "source": [
    "#### Random Forest"
   ]
  },
  {
   "cell_type": "code",
   "execution_count": 46,
   "metadata": {
    "ExecuteTime": {
     "end_time": "2020-05-14T00:38:54.946877Z",
     "start_time": "2020-05-14T00:33:19.861898Z"
    }
   },
   "outputs": [
    {
     "data": {
      "text/plain": [
       "RandomForestClassifier(bootstrap=True, ccp_alpha=0.0, class_weight=None,\n",
       "                       criterion='entropy', max_depth=50, max_features='sqrt',\n",
       "                       max_leaf_nodes=None, max_samples=None,\n",
       "                       min_impurity_decrease=0.0, min_impurity_split=None,\n",
       "                       min_samples_leaf=1, min_samples_split=2,\n",
       "                       min_weight_fraction_leaf=0.0, n_estimators=50,\n",
       "                       n_jobs=None, oob_score=False, random_state=None,\n",
       "                       verbose=0, warm_start=False)"
      ]
     },
     "execution_count": 46,
     "metadata": {},
     "output_type": "execute_result"
    }
   ],
   "source": [
    "# best random forest parameters found\n",
    "rfc = RandomForestClassifier(n_estimators=50, criterion='entropy', max_depth=50, max_features='sqrt')\n",
    "rfc.fit(tfidf_X_tiny, y_tiny)"
   ]
  },
  {
   "cell_type": "code",
   "execution_count": 47,
   "metadata": {
    "ExecuteTime": {
     "end_time": "2020-05-14T00:41:37.691141Z",
     "start_time": "2020-05-14T00:40:42.367592Z"
    }
   },
   "outputs": [
    {
     "data": {
      "text/plain": [
       "(0.9684, 0.9645541222658441)"
      ]
     },
     "execution_count": 47,
     "metadata": {},
     "output_type": "execute_result"
    }
   ],
   "source": [
    "# training scores\n",
    "accuracy_score(y_tiny, rfc.predict(tfidf_X_tiny)), f1_score(y_tiny, rfc.predict(tfidf_X_tiny))"
   ]
  },
  {
   "cell_type": "code",
   "execution_count": 48,
   "metadata": {
    "ExecuteTime": {
     "end_time": "2020-05-14T00:41:50.963016Z",
     "start_time": "2020-05-14T00:41:44.752016Z"
    }
   },
   "outputs": [],
   "source": [
    "rfc_y_tiny_prob = rfc.predict_proba(tfidf_X_tiny_t)\n",
    "rfc_y_tiny_hat = rfc.predict(tfidf_X_tiny_t)"
   ]
  },
  {
   "cell_type": "code",
   "execution_count": 49,
   "metadata": {
    "ExecuteTime": {
     "end_time": "2020-05-14T00:41:52.213594Z",
     "start_time": "2020-05-14T00:41:52.177256Z"
    }
   },
   "outputs": [
    {
     "data": {
      "text/plain": [
       "(0.8116, 0.7862006354970495)"
      ]
     },
     "execution_count": 49,
     "metadata": {},
     "output_type": "execute_result"
    }
   ],
   "source": [
    "# test scores\n",
    "accuracy_score(y_tiny_t, y_tiny_hat), f1_score(y_tiny_t, y_tiny_hat)"
   ]
  },
  {
   "cell_type": "code",
   "execution_count": 51,
   "metadata": {
    "ExecuteTime": {
     "end_time": "2020-05-14T00:42:05.418573Z",
     "start_time": "2020-05-14T00:42:05.062790Z"
    }
   },
   "outputs": [
    {
     "data": {
      "text/plain": [
       "37768"
      ]
     },
     "execution_count": 51,
     "metadata": {},
     "output_type": "execute_result"
    }
   ],
   "source": [
    "importances = rfc.feature_importances_; len(importances)"
   ]
  },
  {
   "cell_type": "code",
   "execution_count": 52,
   "metadata": {
    "ExecuteTime": {
     "end_time": "2020-05-14T00:42:34.187881Z",
     "start_time": "2020-05-14T00:42:34.171486Z"
    }
   },
   "outputs": [],
   "source": [
    "indices = importances.argsort()[::-1]\n",
    "indices;"
   ]
  },
  {
   "cell_type": "code",
   "execution_count": 64,
   "metadata": {
    "ExecuteTime": {
     "end_time": "2020-05-14T00:50:09.771634Z",
     "start_time": "2020-05-14T00:50:09.755915Z"
    }
   },
   "outputs": [
    {
     "data": {
      "text/plain": [
       "['amaz',\n",
       " 'best',\n",
       " 'love',\n",
       " 'great',\n",
       " 'delici',\n",
       " 'recommend',\n",
       " 'would',\n",
       " 'awesom',\n",
       " 'like',\n",
       " 'definit']"
      ]
     },
     "execution_count": 64,
     "metadata": {},
     "output_type": "execute_result"
    }
   ],
   "source": [
    "# top 500 features in the model\n",
    "X_tiny_df.columns[indices].tolist()[:10]"
   ]
  },
  {
   "cell_type": "code",
   "execution_count": 59,
   "metadata": {
    "ExecuteTime": {
     "end_time": "2020-05-14T00:46:11.973513Z",
     "start_time": "2020-05-14T00:46:09.899753Z"
    },
    "code_folding": [
     1
    ]
   },
   "outputs": [],
   "source": [
    "# 1000 vocabulary\n",
    "sVOCAB = ['amaz',\n",
    " 'best',\n",
    " 'love',\n",
    " 'great',\n",
    " 'delici',\n",
    " 'recommend',\n",
    " 'would',\n",
    " 'awesom',\n",
    " 'like',\n",
    " 'definit',\n",
    " 'vega',\n",
    " 'pretti',\n",
    " 'perfect',\n",
    " 'ok',\n",
    " 'order',\n",
    " 'bad',\n",
    " 'get',\n",
    " 'good',\n",
    " 'place',\n",
    " 'servic',\n",
    " 'thank',\n",
    " 'terribl',\n",
    " 'favorit',\n",
    " 'worst',\n",
    " 'alway',\n",
    " 'excel',\n",
    " 'star',\n",
    " 'slow',\n",
    " 'food',\n",
    " 'bland',\n",
    " 'decent',\n",
    " 'friend',\n",
    " 'everyth',\n",
    " 'back',\n",
    " 'noth',\n",
    " 'howev',\n",
    " 'staff',\n",
    " 'horribl',\n",
    " 'better',\n",
    " 'pay',\n",
    " 'fresh',\n",
    " 'minut',\n",
    " 'seem',\n",
    " 'everi',\n",
    " 'super',\n",
    " 'dri',\n",
    " 'littl',\n",
    " 'go',\n",
    " 'give',\n",
    " 'come',\n",
    " 'wait',\n",
    " 'tri',\n",
    " 'one',\n",
    " 'anoth',\n",
    " 'told',\n",
    " 'could',\n",
    " 'time',\n",
    " 'expect',\n",
    " 'charg',\n",
    " 'mayb',\n",
    " 'overal',\n",
    " 'cant',\n",
    " 'also',\n",
    " 'rude',\n",
    " 'got',\n",
    " 'said',\n",
    " 'ask',\n",
    " 'use',\n",
    " 'high',\n",
    " 'room',\n",
    " 'bit',\n",
    " 'realli',\n",
    " 'okay',\n",
    " 'tabl',\n",
    " 'ive',\n",
    " 'much',\n",
    " 'nice',\n",
    " 'look',\n",
    " 'wonder',\n",
    " 'came',\n",
    " 'ever',\n",
    " 'tast',\n",
    " 'town',\n",
    " 'absolut',\n",
    " 'still',\n",
    " 'make',\n",
    " 'suck',\n",
    " 'want',\n",
    " 'drink',\n",
    " 'spot',\n",
    " 'well',\n",
    " 'restaur',\n",
    " 'price',\n",
    " 'las',\n",
    " 'must',\n",
    " 'lack',\n",
    " 'disappoint',\n",
    " 'though',\n",
    " 'rather',\n",
    " 'averag',\n",
    " 'fantast',\n",
    " 'us',\n",
    " 'never',\n",
    " 'even',\n",
    " 'guess',\n",
    " 'mediocr',\n",
    " 'took',\n",
    " 'say',\n",
    " 'think',\n",
    " 'poor',\n",
    " 'made',\n",
    " 'cold',\n",
    " 'unfortun',\n",
    " 'locat',\n",
    " 'overpr',\n",
    " 'enjoy',\n",
    " 'way',\n",
    " 'manag',\n",
    " 'went',\n",
    " 'experi',\n",
    " 'menu',\n",
    " 'famili',\n",
    " 'money',\n",
    " 'chicken',\n",
    " 'take',\n",
    " 'need',\n",
    " 'visit',\n",
    " 'help',\n",
    " 'im',\n",
    " 'first',\n",
    " 'hour',\n",
    " 'peopl',\n",
    " 'fri',\n",
    " 'aw',\n",
    " 'eat',\n",
    " 'sure',\n",
    " 'lot',\n",
    " 'thing',\n",
    " 'quit',\n",
    " 'flavor',\n",
    " 'attent',\n",
    " 'worth',\n",
    " 'that',\n",
    " 'right',\n",
    " 'hotel',\n",
    " 'welcom',\n",
    " 'outstand',\n",
    " 'small',\n",
    " 'top',\n",
    " 'new',\n",
    " 'incred',\n",
    " 'around',\n",
    " 'two',\n",
    " 'everyon',\n",
    " 'chef',\n",
    " 'paid',\n",
    " 'salad',\n",
    " 'stay',\n",
    " 'end',\n",
    " 'dish',\n",
    " 'custom',\n",
    " 'meal',\n",
    " 'next',\n",
    " 'busi',\n",
    " 'night',\n",
    " 'dinner',\n",
    " 'portion',\n",
    " 'side',\n",
    " 'lunch',\n",
    " 'find',\n",
    " 'server',\n",
    " 'someon',\n",
    " 'strip',\n",
    " 'atmospher',\n",
    " 'expens',\n",
    " 'id',\n",
    " 'call',\n",
    " 'die',\n",
    " 'bar',\n",
    " 'quick',\n",
    " 'cost',\n",
    " 'final',\n",
    " 'actual',\n",
    " 'someth',\n",
    " 'walk',\n",
    " 'stop',\n",
    " 'sweet',\n",
    " 'happi',\n",
    " 'gem',\n",
    " 'reason',\n",
    " 'check',\n",
    " 'sit',\n",
    " 'line',\n",
    " 'given',\n",
    " 'long',\n",
    " 'els',\n",
    " 'beauti',\n",
    " 'thought',\n",
    " 'bill',\n",
    " 'know',\n",
    " 'cook',\n",
    " 'day',\n",
    " 'differ',\n",
    " 'soon',\n",
    " 'buffet',\n",
    " 'mani',\n",
    " 'serv',\n",
    " 'suppos',\n",
    " 'probabl',\n",
    " 'anyth',\n",
    " 'pizza',\n",
    " 'fast',\n",
    " 'wors',\n",
    " 'sinc',\n",
    " 'sushi',\n",
    " 'left',\n",
    " 'review',\n",
    " 'instead',\n",
    " 'hard',\n",
    " 'seat',\n",
    " 'tasti',\n",
    " 'meat',\n",
    " 'dessert',\n",
    " 'breakfast',\n",
    " 'last',\n",
    " 'fine',\n",
    " 'open',\n",
    " 'min',\n",
    " 'burger',\n",
    " 'see',\n",
    " 'half',\n",
    " 'sauc',\n",
    " 'sandwich',\n",
    " 'wast',\n",
    " 'feel',\n",
    " 'special',\n",
    " 'away',\n",
    " 'far',\n",
    " 'apolog',\n",
    " 'glad',\n",
    " 'huge',\n",
    " 'felt',\n",
    " 'chees',\n",
    " 'pm',\n",
    " 'let',\n",
    " 'waitress',\n",
    " 'work',\n",
    " 'rice',\n",
    " 'rate',\n",
    " 'elsewher',\n",
    " 'year',\n",
    " 'least',\n",
    " 'hope',\n",
    " 'home',\n",
    " 'plate',\n",
    " 'clean',\n",
    " 'hot',\n",
    " 'wrong',\n",
    " 'trip',\n",
    " 'full',\n",
    " 'piec',\n",
    " 'live',\n",
    " 'coupl',\n",
    " 'loud',\n",
    " 'part',\n",
    " 'enough',\n",
    " 'extra',\n",
    " 'size',\n",
    " 'soup',\n",
    " 'water',\n",
    " 'spici',\n",
    " 'alright',\n",
    " 'oh',\n",
    " 'keep',\n",
    " 'big',\n",
    " 'option',\n",
    " 'disgust',\n",
    " 'bread',\n",
    " 'put',\n",
    " 'husband',\n",
    " 'yummi',\n",
    " 'notch',\n",
    " 'casino',\n",
    " 'watch',\n",
    " 'hand',\n",
    " 'either',\n",
    " 'owner',\n",
    " 'potato',\n",
    " 'dine',\n",
    " 'decid',\n",
    " 'vegan',\n",
    " 'omg',\n",
    " 'return',\n",
    " 'fun',\n",
    " 'gave',\n",
    " 'cheap',\n",
    " 'hous',\n",
    " 'greet',\n",
    " 'beef',\n",
    " 'guy',\n",
    " 'usual',\n",
    " 'outsid',\n",
    " 'steak',\n",
    " 'offer',\n",
    " 'point',\n",
    " 'close',\n",
    " 'coffe',\n",
    " 'waiter',\n",
    " 'shrimp',\n",
    " 'item',\n",
    " 'issu',\n",
    " 'start',\n",
    " 'roll',\n",
    " 'problem',\n",
    " 'qualiti',\n",
    " 'sad',\n",
    " 'wish',\n",
    " 'week',\n",
    " 'area',\n",
    " 'leav',\n",
    " 'show',\n",
    " 'ice',\n",
    " 'free',\n",
    " 'almost',\n",
    " 'ate',\n",
    " 'person',\n",
    " 'fish',\n",
    " 'receiv',\n",
    " 'kind',\n",
    " 'local',\n",
    " 'front',\n",
    " 'heaven',\n",
    " 'fill',\n",
    " 'select',\n",
    " 'tender',\n",
    " 'bite',\n",
    " 'turn',\n",
    " 'share',\n",
    " 'insid',\n",
    " 'empti',\n",
    " 'old',\n",
    " 'phenomen',\n",
    " 'flag',\n",
    " 'crab',\n",
    " 'chang',\n",
    " 'egg',\n",
    " 'ambianc',\n",
    " 'thai',\n",
    " 'appet',\n",
    " 'late',\n",
    " 'drive',\n",
    " 'ill',\n",
    " 'tea',\n",
    " 'present',\n",
    " 'arriv',\n",
    " 'life',\n",
    " 'choic',\n",
    " 'deal',\n",
    " 'otherwis',\n",
    " 'park',\n",
    " 'mouth',\n",
    " 'pricey',\n",
    " 'salti',\n",
    " 'bomb',\n",
    " 'yelp',\n",
    " 'music',\n",
    " 'cours',\n",
    " 'wow',\n",
    " 'regular',\n",
    " 'kid',\n",
    " 'decor',\n",
    " 'less',\n",
    " 'brought',\n",
    " 'surpris',\n",
    " 'cake',\n",
    " 'larg',\n",
    " 'pleas',\n",
    " 'care',\n",
    " 'dirti',\n",
    " 'believ',\n",
    " 'authent',\n",
    " 'complain',\n",
    " 'happen',\n",
    " 'found',\n",
    " 'limit',\n",
    " 'impress',\n",
    " 'real',\n",
    " 'solid',\n",
    " 'parti',\n",
    " 'three',\n",
    " 'cut',\n",
    " 'may',\n",
    " 'sat',\n",
    " 'attitud',\n",
    " 'tell',\n",
    " 'fan',\n",
    " 'card',\n",
    " 'chip',\n",
    " 'varieti',\n",
    " 'floor',\n",
    " 'garlic',\n",
    " 'flavorless',\n",
    " 'onion',\n",
    " 'fair',\n",
    " 'basic',\n",
    " 'group',\n",
    " 'tomato',\n",
    " 'anyon',\n",
    " 'season',\n",
    " 'cream',\n",
    " 'without',\n",
    " 'style',\n",
    " 'understand',\n",
    " 'pork',\n",
    " 'rush',\n",
    " 'easi',\n",
    " 'reserv',\n",
    " 'crispi',\n",
    " 'gross',\n",
    " 'clear',\n",
    " 'truli',\n",
    " 'cool',\n",
    " 'bbq',\n",
    " 'green',\n",
    " 'spend',\n",
    " 'hungri',\n",
    " 'frozen',\n",
    " 'except',\n",
    " 'fact',\n",
    " 'veggi',\n",
    " 'bring',\n",
    " 'grill',\n",
    " 'accommod',\n",
    " 'becom',\n",
    " 'move',\n",
    " 'pick',\n",
    " 'forev',\n",
    " 'crave',\n",
    " 'wife',\n",
    " 'later',\n",
    " 'especi',\n",
    " 'done',\n",
    " 'amount',\n",
    " 'bother',\n",
    " 'stand',\n",
    " 'knew',\n",
    " 'bartend',\n",
    " 'although',\n",
    " 'hidden',\n",
    " 'plus',\n",
    " 'hit',\n",
    " 'total',\n",
    " 'stale',\n",
    " 'sever',\n",
    " 'cute',\n",
    " 'rest',\n",
    " 'chocol',\n",
    " 'second',\n",
    " 'name',\n",
    " 'theyr',\n",
    " 'toast',\n",
    " 'short',\n",
    " 'birthday',\n",
    " 'uniqu',\n",
    " 'main',\n",
    " 'mean',\n",
    " 'includ',\n",
    " 'sorri',\n",
    " 'near',\n",
    " 'girl',\n",
    " 'red',\n",
    " 'forward',\n",
    " 'wine',\n",
    " 'seafood',\n",
    " 'salsa',\n",
    " 'beer',\n",
    " 'corn',\n",
    " 'anywher',\n",
    " 'prepar',\n",
    " 'set',\n",
    " 'club',\n",
    " 'saw',\n",
    " 'twice',\n",
    " 'forgot',\n",
    " 'suggest',\n",
    " 'combo',\n",
    " 'chines',\n",
    " 'rib',\n",
    " 'entre',\n",
    " 'plenti',\n",
    " 'possibl',\n",
    " 'extrem',\n",
    " 'mention',\n",
    " 'noodl',\n",
    " 'date',\n",
    " 'consid',\n",
    " 'taco',\n",
    " 'juici',\n",
    " 'month',\n",
    " 'add',\n",
    " 'superb',\n",
    " 'door',\n",
    " 'crowd',\n",
    " 'ramen',\n",
    " 'excit',\n",
    " 'anyway',\n",
    " 'eaten',\n",
    " 'standard',\n",
    " 'employe',\n",
    " 'complet',\n",
    " 'warm',\n",
    " 'honest',\n",
    " 'mix',\n",
    " 'phone',\n",
    " 'mexican',\n",
    " 'pack',\n",
    " 'whole',\n",
    " 'bacon',\n",
    " 'hype',\n",
    " 'might',\n",
    " 'avoid',\n",
    " 'shop',\n",
    " 'pasta',\n",
    " 'celebr',\n",
    " 'view',\n",
    " 'complaint',\n",
    " 'tip',\n",
    " 'refil',\n",
    " 'miss',\n",
    " 'caus',\n",
    " 'desk',\n",
    " 'run',\n",
    " 'soggi',\n",
    " 'knowledg',\n",
    " 'wing',\n",
    " 'tasteless',\n",
    " 'overcook',\n",
    " 'bean',\n",
    " 'cocktail',\n",
    " 'acknowledg',\n",
    " 'stuff',\n",
    " 'job',\n",
    " 'bag',\n",
    " 'banana',\n",
    " 'tradit',\n",
    " 'bare',\n",
    " 'dress',\n",
    " 'butter',\n",
    " 'plain',\n",
    " 'smile',\n",
    " 'salt',\n",
    " 'yes',\n",
    " 'due',\n",
    " 'notic',\n",
    " 'serious',\n",
    " 'appreci',\n",
    " 'today',\n",
    " 'smell',\n",
    " 'bowl',\n",
    " 'somewher',\n",
    " 'kept',\n",
    " 'oyster',\n",
    " 'kitchen',\n",
    " 'ingredi',\n",
    " 'correct',\n",
    " 'five',\n",
    " 'along',\n",
    " 'abl',\n",
    " 'compar',\n",
    " 'gone',\n",
    " 'rock',\n",
    " 'meh',\n",
    " 'mind',\n",
    " 'rare',\n",
    " 'sign',\n",
    " 'kinda',\n",
    " 'certain',\n",
    " 'treat',\n",
    " 'stuf',\n",
    " 'medium',\n",
    " 'save',\n",
    " 'ago',\n",
    " 'lobster',\n",
    " 'homemad',\n",
    " 'often',\n",
    " 'there',\n",
    " 'roast',\n",
    " 'diner',\n",
    " 'poke',\n",
    " 'fix',\n",
    " 'greasi',\n",
    " 'curri',\n",
    " 'other',\n",
    " 'pair',\n",
    " 'tini',\n",
    " 'longer',\n",
    " 'finish',\n",
    " 'alreadi',\n",
    " 'street',\n",
    " 'pass',\n",
    " 'pancak',\n",
    " 'weekend',\n",
    " 'sunday',\n",
    " 'game',\n",
    " 'smoke',\n",
    " 'allow',\n",
    " 'type',\n",
    " 'store',\n",
    " 'rememb',\n",
    " 'sometim',\n",
    " 'rich',\n",
    " 'level',\n",
    " 'fabul',\n",
    " 'lol',\n",
    " 'french',\n",
    " 'slight',\n",
    " 'black',\n",
    " 'heard',\n",
    " 'japanes',\n",
    " 'readi',\n",
    " 'simpl',\n",
    " 'generous',\n",
    " 'slice',\n",
    " 'window',\n",
    " 'across',\n",
    " 'soft',\n",
    " 'mall',\n",
    " 'list',\n",
    " 'saturday',\n",
    " 'four',\n",
    " 'spice',\n",
    " 'pictur',\n",
    " 'sausag',\n",
    " 'prime',\n",
    " 'ignor',\n",
    " 'salmon',\n",
    " 'state',\n",
    " 'world',\n",
    " 'counter',\n",
    " 'vibe',\n",
    " 'whenev',\n",
    " 'burrito',\n",
    " 'beyond',\n",
    " 'burnt',\n",
    " 'yet',\n",
    " 'normal',\n",
    " 'lover',\n",
    " 'entir',\n",
    " 'base',\n",
    " 'mac',\n",
    " 'consist',\n",
    " 'per',\n",
    " 'liter',\n",
    " 'ad',\n",
    " 'pleasant',\n",
    " 'afford',\n",
    " 'ridicul',\n",
    " 'exact',\n",
    " 'tuna',\n",
    " 'joint',\n",
    " 'margarita',\n",
    " 'daughter',\n",
    " 'broth',\n",
    " 'buck',\n",
    " 'nois',\n",
    " 'choos',\n",
    " 'bake',\n",
    " 'crazi',\n",
    " 'fluffi',\n",
    " 'nacho',\n",
    " 'ladi',\n",
    " 'hostess',\n",
    " 'la',\n",
    " 'light',\n",
    " 'exceed',\n",
    " 'head',\n",
    " 'pull',\n",
    " 'yum',\n",
    " 'n',\n",
    " 'talk',\n",
    " 'filet',\n",
    " 'brown',\n",
    " 'provid',\n",
    " 'waffl',\n",
    " 'cup',\n",
    " 'profession',\n",
    " 'creami',\n",
    " 'conveni',\n",
    " 'addit',\n",
    " 'prefer',\n",
    " 'upon',\n",
    " 'ayc',\n",
    " 'california',\n",
    " 'sea',\n",
    " 'singl',\n",
    " 'annoy',\n",
    " 'negat',\n",
    " 'mushroom',\n",
    " 'boyfriend',\n",
    " 'earli',\n",
    " 'morn',\n",
    " 'cafe',\n",
    " 'comfort',\n",
    " 'prompt',\n",
    " 'creativ',\n",
    " 'delish',\n",
    " 'particular',\n",
    " 'bottl',\n",
    " 'belli',\n",
    " 'bathroom',\n",
    " 'weve',\n",
    " 'healthi',\n",
    " 'yell',\n",
    " 'italian',\n",
    " 'word',\n",
    " 'beat',\n",
    " 'hubbi',\n",
    " 'hate',\n",
    " 'melt',\n",
    " 'korean',\n",
    " 'mash',\n",
    " 'polit',\n",
    " 'shake',\n",
    " 'within',\n",
    " 'fountain',\n",
    " 'over',\n",
    " 'behind',\n",
    " 'refresh',\n",
    " 'pepper',\n",
    " 'confus',\n",
    " 'weird',\n",
    " 'import',\n",
    " 'casual',\n",
    " 'speak',\n",
    " 'mom',\n",
    " 'valu',\n",
    " 'indian',\n",
    " 'interest',\n",
    " 'modern',\n",
    " 'pie',\n",
    " 'cashier',\n",
    " 'citi',\n",
    " 'sum',\n",
    " 'truffl',\n",
    " 'impecc',\n",
    " 'space',\n",
    " 'easili',\n",
    " 'brunch',\n",
    " 'satisfi',\n",
    " 'man',\n",
    " 'bellagio',\n",
    " 'pho',\n",
    " 'write',\n",
    " 'hear',\n",
    " 'question',\n",
    " 'moment',\n",
    " 'cover',\n",
    " 'mess',\n",
    " 'patio',\n",
    " 'doubl',\n",
    " 'golden',\n",
    " 'savori',\n",
    " 'cuisin',\n",
    " 'alon',\n",
    " 'deliv',\n",
    " 'mango',\n",
    " 'ruin',\n",
    " 'figur',\n",
    " 'combin',\n",
    " 'dip',\n",
    " 'desert',\n",
    " 'section',\n",
    " 'ambienc',\n",
    " 'obvious',\n",
    " 'taken',\n",
    " 'guest',\n",
    " 'avail',\n",
    " 'team',\n",
    " 'caesar',\n",
    " 'recent',\n",
    " 'steakhous',\n",
    " 'cooki',\n",
    " 'chill',\n",
    " 'environ',\n",
    " 'face',\n",
    " 'lemon',\n",
    " 'hes',\n",
    " 'lost',\n",
    " 'glass',\n",
    " 'starv',\n",
    " 'play',\n",
    " 'book',\n",
    " 'station',\n",
    " 'past',\n",
    " 'white',\n",
    " 'sound',\n",
    " 'sick',\n",
    " 'win',\n",
    " 'lettuc',\n",
    " 'fruit',\n",
    " 'touch',\n",
    " 'relat',\n",
    " 'wynn',\n",
    " 'soooo',\n",
    " 'terrif',\n",
    " 'togeth',\n",
    " 'regret',\n",
    " 'chop',\n",
    " 'simpli',\n",
    " 'w',\n",
    " 'moist',\n",
    " 'tough',\n",
    " 'crust',\n",
    " 'patient',\n",
    " 'number',\n",
    " 'smaller',\n",
    " 'ton',\n",
    " 'joke',\n",
    " 'establish',\n",
    " 'boy',\n",
    " 'forget',\n",
    " 'hash',\n",
    " 'blue',\n",
    " 'discount',\n",
    " 'immedi',\n",
    " 'answer',\n",
    " 'idea',\n",
    " 'middl',\n",
    " 'pud',\n",
    " 'brew',\n",
    " 'begin',\n",
    " 'damn',\n",
    " 'crap',\n",
    " 'york',\n",
    " 'request',\n",
    " 'contact',\n",
    " 'low',\n",
    " 'effici',\n",
    " 'learn',\n",
    " 'finger',\n",
    " 'seen',\n",
    " 'sprout',\n",
    " 'popular',\n",
    " 'cozi',\n",
    " 'case',\n",
    " 'pastri',\n",
    " 'tv',\n",
    " 'delight',\n",
    " 'avocado',\n",
    " 'eater',\n",
    " 'quiet',\n",
    " 'sent',\n",
    " 'search',\n",
    " 'gon',\n",
    " 'chanc',\n",
    " 'spinach',\n",
    " 'major',\n",
    " 'bun',\n",
    " 'anniversari',\n",
    " 'chewi',\n",
    " 'scallop',\n",
    " 'dog',\n",
    " 'shut',\n",
    " 'deep',\n",
    " 'duck',\n",
    " 'nasti',\n",
    " 'hang',\n",
    " 'depend',\n",
    " 'vegetarian',\n",
    " 'mistak',\n",
    " 'booth',\n",
    " 'wrap',\n",
    " 'plan',\n",
    " 'whatev',\n",
    " 'ring',\n",
    " 'leg',\n",
    " 'detail',\n",
    " 'realiz',\n",
    " 'soda',\n",
    " 'purchas',\n",
    " 'southern',\n",
    " 'frequent',\n",
    " 'tom',\n",
    " 'origin',\n",
    " 'deserv',\n",
    " 'benedict',\n",
    " 'relax',\n",
    " 'penni',\n",
    " 'cheaper',\n",
    " 'tempura',\n",
    " 'crisp',\n",
    " 'tower',\n",
    " 'pink',\n",
    " 'girlfriend',\n",
    " 'self',\n",
    " 'mignon',\n",
    " 'lamb',\n",
    " 'shot',\n",
    " 'chain',\n",
    " 'goe',\n",
    " 'split',\n",
    " 'kick',\n",
    " 'veget',\n",
    " 'general',\n",
    " 'read',\n",
    " 'heart',\n",
    " 'picki',\n",
    " 'undercook',\n",
    " 'lucki',\n",
    " 'pop',\n",
    " 'unless',\n",
    " 'previous',\n",
    " 'bed',\n",
    " 'typic',\n",
    " 'sashimi',\n",
    " 'updat',\n",
    " 'wouldv',\n",
    " 'follow',\n",
    " 'textur',\n",
    " 'nearbi',\n",
    " 'luckili',\n",
    " 'parmesan',\n",
    " 'loung',\n",
    " 'strawberri',\n",
    " 'signatur',\n",
    " 'brule',\n",
    " 'def',\n",
    " 'tail',\n",
    " 'odd',\n",
    " 'friday',\n",
    " 'convers',\n",
    " 'etc',\n",
    " 'famous',\n",
    " 'inform',\n",
    " 'genuin',\n",
    " 'mile',\n",
    " 'blah',\n",
    " 'ny',\n",
    " 'most',\n",
    " 'multipl',\n",
    " 'ran',\n",
    " 'u',\n",
    " 'step',\n",
    " 'interior',\n",
    " 'honey',\n",
    " 'batter',\n",
    " 'own',\n",
    " 'hawaiian',\n",
    " 'complimentari',\n",
    " 'grab',\n",
    " 'sticki',\n",
    " 'market',\n",
    " 'meet',\n",
    " 'drop',\n",
    " 'chorizo',\n",
    " 'similar',\n",
    " 'outdoor',\n",
    " 'deliveri',\n",
    " 'wall',\n",
    " 'sour',\n",
    " 'biscuit',\n",
    " 'spent',\n",
    " 'higher',\n",
    " 'stick',\n",
    " 'st',\n",
    " 'closer',\n",
    " 'machin',\n",
    " 'fanci',\n",
    " 'platter',\n",
    " 'build',\n",
    " 'awkward',\n",
    " 'american',\n",
    " 'mine',\n",
    " 'brisket',\n",
    " 'throw',\n",
    " 'starter',\n",
    " 'eye',\n",
    " 'pepperoni',\n",
    " 'note',\n",
    " 'aria',\n",
    " 'ahead',\n",
    " 'cowork',\n",
    " 'buy',\n",
    " 'calamari',\n",
    " 'pan',\n",
    " 'gotten',\n",
    " 'bought',\n",
    " 'hell',\n",
    " 'app',\n",
    " 'juic',\n",
    " 'accept',\n",
    " 'travel',\n",
    " 'pool',\n",
    " 'sooo',\n",
    " 'son',\n",
    " 'skip',\n",
    " 'vietnames',\n",
    " 'snack',\n",
    " 'lv',\n",
    " 'milk']"
   ]
  },
  {
   "cell_type": "code",
   "execution_count": 65,
   "metadata": {
    "ExecuteTime": {
     "end_time": "2020-05-14T00:51:11.342764Z",
     "start_time": "2020-05-14T00:51:11.333643Z"
    }
   },
   "outputs": [],
   "source": [
    "mVOCAB = X_tiny_df.columns[indices].tolist()[:5000]"
   ]
  },
  {
   "cell_type": "code",
   "execution_count": 63,
   "metadata": {
    "ExecuteTime": {
     "end_time": "2020-05-14T00:47:39.539446Z",
     "start_time": "2020-05-14T00:47:39.529889Z"
    }
   },
   "outputs": [],
   "source": [
    "bigVOCAB = X_tiny_df.columns[indices].tolist()[:10000]"
   ]
  },
  {
   "cell_type": "markdown",
   "metadata": {},
   "source": [
    "#### Gradient Boosting Classifier"
   ]
  },
  {
   "cell_type": "code",
   "execution_count": 253,
   "metadata": {
    "ExecuteTime": {
     "end_time": "2020-05-13T17:01:21.917801Z",
     "start_time": "2020-05-13T17:01:13.392478Z"
    }
   },
   "outputs": [
    {
     "data": {
      "text/plain": [
       "GradientBoostingClassifier(ccp_alpha=0.0, criterion='friedman_mse', init=None,\n",
       "                           learning_rate=0.1, loss='deviance', max_depth=5,\n",
       "                           max_features='sqrt', max_leaf_nodes=None,\n",
       "                           min_impurity_decrease=0.0, min_impurity_split=None,\n",
       "                           min_samples_leaf=1, min_samples_split=2,\n",
       "                           min_weight_fraction_leaf=0.0, n_estimators=50,\n",
       "                           n_iter_no_change=None, presort='deprecated',\n",
       "                           random_state=None, subsample=1.0, tol=0.0001,\n",
       "                           validation_fraction=0.1, verbose=0,\n",
       "                           warm_start=False)"
      ]
     },
     "execution_count": 253,
     "metadata": {},
     "output_type": "execute_result"
    }
   ],
   "source": [
    "tiny_gbc = GradientBoostingClassifier(learning_rate=0.1,\n",
    "                                  n_estimators=50,\n",
    "                                  max_depth=5,\n",
    "                                max_features='sqrt')\n",
    "tiny_gbc.fit(tfidf_X_tiny, y_tiny)\n"
   ]
  },
  {
   "cell_type": "code",
   "execution_count": 67,
   "metadata": {
    "ExecuteTime": {
     "end_time": "2020-05-14T00:55:12.380569Z",
     "start_time": "2020-05-14T00:54:43.867089Z"
    }
   },
   "outputs": [
    {
     "data": {
      "text/plain": [
       "(0.8101, 0.7423337856173677)"
      ]
     },
     "execution_count": 67,
     "metadata": {},
     "output_type": "execute_result"
    }
   ],
   "source": [
    "accuracy_score(y_tiny, tiny_gbc.predict(tfidf_X_tiny)), f1_score(y_tiny, tiny_gbc.predict(tfidf_X_tiny))"
   ]
  },
  {
   "cell_type": "code",
   "execution_count": 70,
   "metadata": {
    "ExecuteTime": {
     "end_time": "2020-05-14T00:55:52.309786Z",
     "start_time": "2020-05-14T00:55:50.713926Z"
    }
   },
   "outputs": [],
   "source": [
    "tiny_gbc_y_hat = tiny_gbc.predict(tfidf_X_tiny_t)\n",
    "tiny_gbc_y_prob = tiny_gbc.predict_proba(tfidf_X_tiny_t)[:,1]"
   ]
  },
  {
   "cell_type": "code",
   "execution_count": 71,
   "metadata": {
    "ExecuteTime": {
     "end_time": "2020-05-14T00:55:52.360772Z",
     "start_time": "2020-05-14T00:55:52.325862Z"
    }
   },
   "outputs": [
    {
     "data": {
      "text/plain": [
       "(0.7348, 0.6256352343308865)"
      ]
     },
     "execution_count": 71,
     "metadata": {},
     "output_type": "execute_result"
    }
   ],
   "source": [
    "accuracy_score(y_tiny_t, tiny_gbc_y_hat), f1_score(y_tiny_t, tiny_gbc_y_hat)"
   ]
  },
  {
   "cell_type": "markdown",
   "metadata": {},
   "source": [
    "#### Naive Bayes Model"
   ]
  },
  {
   "cell_type": "code",
   "execution_count": 66,
   "metadata": {
    "ExecuteTime": {
     "end_time": "2020-05-14T00:53:42.478425Z",
     "start_time": "2020-05-14T00:53:10.080562Z"
    }
   },
   "outputs": [],
   "source": [
    "tiny_nbc = MultinomialNB().fit(tfidf_X_tiny, y_tiny)"
   ]
  },
  {
   "cell_type": "code",
   "execution_count": 67,
   "metadata": {
    "ExecuteTime": {
     "end_time": "2020-05-14T00:55:12.380569Z",
     "start_time": "2020-05-14T00:54:43.867089Z"
    }
   },
   "outputs": [
    {
     "data": {
      "text/plain": [
       "(0.8101, 0.7423337856173677)"
      ]
     },
     "execution_count": 67,
     "metadata": {},
     "output_type": "execute_result"
    }
   ],
   "source": [
    "accuracy_score(y_tiny, tiny_nbc.predict(tfidf_X_tiny)), f1_score(y_tiny, tiny_nbc.predict(tfidf_X_tiny))"
   ]
  },
  {
   "cell_type": "code",
   "execution_count": 70,
   "metadata": {
    "ExecuteTime": {
     "end_time": "2020-05-14T00:55:52.309786Z",
     "start_time": "2020-05-14T00:55:50.713926Z"
    }
   },
   "outputs": [],
   "source": [
    "tiny_nbc_y_hat = tiny_nbc.predict(tfidf_X_tiny_t)\n",
    "tiny_nbc_y_prob = tiny_nbc.predict_proba(tfidf_X_tiny_t)[:,1]"
   ]
  },
  {
   "cell_type": "code",
   "execution_count": 71,
   "metadata": {
    "ExecuteTime": {
     "end_time": "2020-05-14T00:55:52.360772Z",
     "start_time": "2020-05-14T00:55:52.325862Z"
    }
   },
   "outputs": [
    {
     "data": {
      "text/plain": [
       "(0.7348, 0.6256352343308865)"
      ]
     },
     "execution_count": 71,
     "metadata": {},
     "output_type": "execute_result"
    }
   ],
   "source": [
    "accuracy_score(y_tiny_t, tiny_nbc_y_hat), f1_score(y_tiny_t, tiny_nbc_y_hat)"
   ]
  },
  {
   "cell_type": "code",
   "execution_count": null,
   "metadata": {
    "ExecuteTime": {
     "end_time": "2020-05-13T16:49:58.890647Z",
     "start_time": "2020-05-13T16:49:58.878241Z"
    }
   },
   "outputs": [],
   "source": []
  },
  {
   "cell_type": "code",
   "execution_count": null,
   "metadata": {},
   "outputs": [],
   "source": []
  },
  {
   "cell_type": "code",
   "execution_count": null,
   "metadata": {},
   "outputs": [],
   "source": []
  },
  {
   "cell_type": "code",
   "execution_count": null,
   "metadata": {},
   "outputs": [],
   "source": []
  },
  {
   "cell_type": "markdown",
   "metadata": {},
   "source": [
    "### Models with Small Dataset"
   ]
  },
  {
   "cell_type": "markdown",
   "metadata": {},
   "source": [
    "#### Logistic Regression"
   ]
  },
  {
   "cell_type": "code",
   "execution_count": 76,
   "metadata": {
    "ExecuteTime": {
     "end_time": "2020-05-14T02:04:52.103213Z",
     "start_time": "2020-05-14T02:04:52.087389Z"
    }
   },
   "outputs": [],
   "source": [
    "small_log = LogisticRegression()"
   ]
  },
  {
   "cell_type": "code",
   "execution_count": 77,
   "metadata": {
    "ExecuteTime": {
     "end_time": "2020-05-14T02:34:31.097708Z",
     "start_time": "2020-05-14T02:04:53.400473Z"
    }
   },
   "outputs": [
    {
     "name": "stderr",
     "output_type": "stream",
     "text": [
      "/opt/anaconda3/lib/python3.7/site-packages/sklearn/linear_model/_logistic.py:940: ConvergenceWarning: lbfgs failed to converge (status=1):\n",
      "STOP: TOTAL NO. of ITERATIONS REACHED LIMIT.\n",
      "\n",
      "Increase the number of iterations (max_iter) or scale the data as shown in:\n",
      "    https://scikit-learn.org/stable/modules/preprocessing.html\n",
      "Please also refer to the documentation for alternative solver options:\n",
      "    https://scikit-learn.org/stable/modules/linear_model.html#logistic-regression\n",
      "  extra_warning_msg=_LOGISTIC_SOLVER_CONVERGENCE_MSG)\n"
     ]
    },
    {
     "data": {
      "text/plain": [
       "LogisticRegression(C=1.0, class_weight=None, dual=False, fit_intercept=True,\n",
       "                   intercept_scaling=1, l1_ratio=None, max_iter=100,\n",
       "                   multi_class='auto', n_jobs=None, penalty='l2',\n",
       "                   random_state=None, solver='lbfgs', tol=0.0001, verbose=0,\n",
       "                   warm_start=False)"
      ]
     },
     "execution_count": 77,
     "metadata": {},
     "output_type": "execute_result"
    }
   ],
   "source": [
    "small_log.fit(tfidf_X_small, y_small)"
   ]
  },
  {
   "cell_type": "code",
   "execution_count": 78,
   "metadata": {
    "ExecuteTime": {
     "end_time": "2020-05-14T02:35:19.952910Z",
     "start_time": "2020-05-14T02:34:39.614906Z"
    }
   },
   "outputs": [
    {
     "data": {
      "text/plain": [
       "(0.834095, 0.8126753645606922)"
      ]
     },
     "execution_count": 78,
     "metadata": {},
     "output_type": "execute_result"
    }
   ],
   "source": [
    "# training scores\n",
    "accuracy_score(y_small, small_log.predict(tfidf_X_small)), f1_score(y_small, small_log.predict(tfidf_X_small))"
   ]
  },
  {
   "cell_type": "code",
   "execution_count": 79,
   "metadata": {
    "ExecuteTime": {
     "end_time": "2020-05-14T03:02:27.318706Z",
     "start_time": "2020-05-14T03:02:24.003142Z"
    }
   },
   "outputs": [],
   "source": [
    "y_small_prob = small_log.predict_proba(tfidf_X_small_t)\n",
    "y_small_hat = small_log.predict(tfidf_X_small_t)"
   ]
  },
  {
   "cell_type": "code",
   "execution_count": 80,
   "metadata": {
    "ExecuteTime": {
     "end_time": "2020-05-14T03:02:27.428672Z",
     "start_time": "2020-05-14T03:02:27.333314Z"
    }
   },
   "outputs": [
    {
     "data": {
      "text/plain": [
       "(0.82802, 0.8053864433631323)"
      ]
     },
     "execution_count": 80,
     "metadata": {},
     "output_type": "execute_result"
    }
   ],
   "source": [
    "# test scores\n",
    "accuracy_score(y_small_t, y_small_hat), f1_score(y_small_t, y_small_hat)"
   ]
  },
  {
   "cell_type": "markdown",
   "metadata": {},
   "source": [
    "#### Random Forest"
   ]
  },
  {
   "cell_type": "code",
   "execution_count": 86,
   "metadata": {
    "ExecuteTime": {
     "end_time": "2020-05-14T03:22:37.348740Z",
     "start_time": "2020-05-14T03:09:06.102391Z"
    }
   },
   "outputs": [
    {
     "data": {
      "text/plain": [
       "RandomForestClassifier(bootstrap=True, ccp_alpha=0.0, class_weight=None,\n",
       "                       criterion='entropy', max_depth=50, max_features='sqrt',\n",
       "                       max_leaf_nodes=None, max_samples=None,\n",
       "                       min_impurity_decrease=0.0, min_impurity_split=None,\n",
       "                       min_samples_leaf=1, min_samples_split=2,\n",
       "                       min_weight_fraction_leaf=0.0, n_estimators=50,\n",
       "                       n_jobs=None, oob_score=False, random_state=None,\n",
       "                       verbose=0, warm_start=False)"
      ]
     },
     "execution_count": 86,
     "metadata": {},
     "output_type": "execute_result"
    }
   ],
   "source": [
    "# best random forest parameters found\n",
    "small_rfc = RandomForestClassifier(n_estimators=50, criterion='entropy', max_depth=50, max_features='sqrt')\n",
    "small_rfc.fit(tfidf_X_small, y_small)"
   ]
  },
  {
   "cell_type": "code",
   "execution_count": 87,
   "metadata": {
    "ExecuteTime": {
     "end_time": "2020-05-14T03:29:05.246852Z",
     "start_time": "2020-05-14T03:28:04.019832Z"
    }
   },
   "outputs": [
    {
     "data": {
      "text/plain": [
       "(0.94484, 0.9381246704880704)"
      ]
     },
     "execution_count": 87,
     "metadata": {},
     "output_type": "execute_result"
    }
   ],
   "source": [
    "# training scores\n",
    "accuracy_score(y_small, small_rfc.predict(tfidf_X_small)), f1_score(y_small, small_rfc.predict(tfidf_X_small))"
   ]
  },
  {
   "cell_type": "code",
   "execution_count": 92,
   "metadata": {
    "ExecuteTime": {
     "end_time": "2020-05-14T03:48:34.461612Z",
     "start_time": "2020-05-14T03:48:28.550731Z"
    }
   },
   "outputs": [],
   "source": [
    "small_rfc_y_prob = small_rfc.predict_proba(tfidf_X_small_t)\n",
    "small_rfc_y_hat = small_rfc.predict(tfidf_X_small_t)"
   ]
  },
  {
   "cell_type": "code",
   "execution_count": 94,
   "metadata": {
    "ExecuteTime": {
     "end_time": "2020-05-14T03:54:16.528300Z",
     "start_time": "2020-05-14T03:54:16.492069Z"
    }
   },
   "outputs": [
    {
     "data": {
      "text/plain": [
       "(0.7953, 0.7596458680694174)"
      ]
     },
     "execution_count": 94,
     "metadata": {},
     "output_type": "execute_result"
    }
   ],
   "source": [
    "# test scores\n",
    "accuracy_score(y_small_t, small_rfc_y_hat), f1_score(y_small_t, small_rfc_y_hat)"
   ]
  },
  {
   "cell_type": "markdown",
   "metadata": {},
   "source": [
    "#### Gradient Boosting Classifier"
   ]
  },
  {
   "cell_type": "code",
   "execution_count": 88,
   "metadata": {
    "ExecuteTime": {
     "end_time": "2020-05-14T03:33:13.896464Z",
     "start_time": "2020-05-14T03:29:14.373850Z"
    }
   },
   "outputs": [
    {
     "data": {
      "text/plain": [
       "GradientBoostingClassifier(ccp_alpha=0.0, criterion='friedman_mse', init=None,\n",
       "                           learning_rate=0.1, loss='deviance', max_depth=5,\n",
       "                           max_features='sqrt', max_leaf_nodes=None,\n",
       "                           min_impurity_decrease=0.0, min_impurity_split=None,\n",
       "                           min_samples_leaf=1, min_samples_split=2,\n",
       "                           min_weight_fraction_leaf=0.0, n_estimators=50,\n",
       "                           n_iter_no_change=None, presort='deprecated',\n",
       "                           random_state=None, subsample=1.0, tol=0.0001,\n",
       "                           validation_fraction=0.1, verbose=0,\n",
       "                           warm_start=False)"
      ]
     },
     "execution_count": 88,
     "metadata": {},
     "output_type": "execute_result"
    }
   ],
   "source": [
    "small_gbc = GradientBoostingClassifier(learning_rate=0.1,\n",
    "                                  n_estimators=50,\n",
    "                                  max_depth=5,\n",
    "                                max_features='sqrt')\n",
    "small_gbc.fit(tfidf_X_small, y_small)\n"
   ]
  },
  {
   "cell_type": "code",
   "execution_count": 89,
   "metadata": {
    "ExecuteTime": {
     "end_time": "2020-05-14T03:48:22.648643Z",
     "start_time": "2020-05-14T03:47:38.363826Z"
    }
   },
   "outputs": [
    {
     "data": {
      "text/plain": [
       "(0.776795, 0.7277606005720314)"
      ]
     },
     "execution_count": 89,
     "metadata": {},
     "output_type": "execute_result"
    }
   ],
   "source": [
    "accuracy_score(y_small, small_gbc.predict(tfidf_X_small)), f1_score(y_small, small_gbc.predict(tfidf_X_small))"
   ]
  },
  {
   "cell_type": "code",
   "execution_count": 90,
   "metadata": {
    "ExecuteTime": {
     "end_time": "2020-05-14T03:48:28.480370Z",
     "start_time": "2020-05-14T03:48:22.670016Z"
    }
   },
   "outputs": [],
   "source": [
    "small_gbc_y_hat = small_gbc.predict(tfidf_X_small_t)\n",
    "small_gbc_y_prob = small_gbc.predict_proba(tfidf_X_small_t)[:,1]"
   ]
  },
  {
   "cell_type": "code",
   "execution_count": 91,
   "metadata": {
    "ExecuteTime": {
     "end_time": "2020-05-14T03:48:28.543063Z",
     "start_time": "2020-05-14T03:48:28.487970Z"
    }
   },
   "outputs": [
    {
     "data": {
      "text/plain": [
       "(0.77714, 0.7282393971172842)"
      ]
     },
     "execution_count": 91,
     "metadata": {},
     "output_type": "execute_result"
    }
   ],
   "source": [
    "accuracy_score(y_small_t, small_gbc_y_hat), f1_score(y_small_t, small_gbc_y_hat)"
   ]
  },
  {
   "cell_type": "markdown",
   "metadata": {},
   "source": [
    "#### AdaBoost Classifier"
   ]
  },
  {
   "cell_type": "code",
   "execution_count": 95,
   "metadata": {
    "ExecuteTime": {
     "end_time": "2020-05-14T05:28:39.411278Z",
     "start_time": "2020-05-14T03:55:07.642692Z"
    }
   },
   "outputs": [
    {
     "ename": "KeyboardInterrupt",
     "evalue": "",
     "output_type": "error",
     "traceback": [
      "\u001b[0;31m---------------------------------------------------------------------------\u001b[0m",
      "\u001b[0;31mKeyboardInterrupt\u001b[0m                         Traceback (most recent call last)",
      "\u001b[0;32m<ipython-input-95-c986d204d755>\u001b[0m in \u001b[0;36m<module>\u001b[0;34m\u001b[0m\n\u001b[1;32m      1\u001b[0m \u001b[0mabc\u001b[0m \u001b[0;34m=\u001b[0m \u001b[0mAdaBoostClassifier\u001b[0m\u001b[0;34m(\u001b[0m\u001b[0mlearning_rate\u001b[0m\u001b[0;34m=\u001b[0m\u001b[0;36m0.2\u001b[0m\u001b[0;34m,\u001b[0m \u001b[0mn_estimators\u001b[0m\u001b[0;34m=\u001b[0m\u001b[0;36m50\u001b[0m\u001b[0;34m)\u001b[0m\u001b[0;34m\u001b[0m\u001b[0;34m\u001b[0m\u001b[0m\n\u001b[0;32m----> 2\u001b[0;31m \u001b[0mabc\u001b[0m\u001b[0;34m.\u001b[0m\u001b[0mfit\u001b[0m\u001b[0;34m(\u001b[0m\u001b[0mtfidf_X_small\u001b[0m\u001b[0;34m,\u001b[0m \u001b[0my_small\u001b[0m\u001b[0;34m)\u001b[0m\u001b[0;34m\u001b[0m\u001b[0;34m\u001b[0m\u001b[0m\n\u001b[0m",
      "\u001b[0;32m/opt/anaconda3/lib/python3.7/site-packages/sklearn/ensemble/_weight_boosting.py\u001b[0m in \u001b[0;36mfit\u001b[0;34m(self, X, y, sample_weight)\u001b[0m\n\u001b[1;32m    436\u001b[0m \u001b[0;34m\u001b[0m\u001b[0m\n\u001b[1;32m    437\u001b[0m         \u001b[0;31m# Fit\u001b[0m\u001b[0;34m\u001b[0m\u001b[0;34m\u001b[0m\u001b[0;34m\u001b[0m\u001b[0m\n\u001b[0;32m--> 438\u001b[0;31m         \u001b[0;32mreturn\u001b[0m \u001b[0msuper\u001b[0m\u001b[0;34m(\u001b[0m\u001b[0;34m)\u001b[0m\u001b[0;34m.\u001b[0m\u001b[0mfit\u001b[0m\u001b[0;34m(\u001b[0m\u001b[0mX\u001b[0m\u001b[0;34m,\u001b[0m \u001b[0my\u001b[0m\u001b[0;34m,\u001b[0m \u001b[0msample_weight\u001b[0m\u001b[0;34m)\u001b[0m\u001b[0;34m\u001b[0m\u001b[0;34m\u001b[0m\u001b[0m\n\u001b[0m\u001b[1;32m    439\u001b[0m \u001b[0;34m\u001b[0m\u001b[0m\n\u001b[1;32m    440\u001b[0m     \u001b[0;32mdef\u001b[0m \u001b[0m_validate_estimator\u001b[0m\u001b[0;34m(\u001b[0m\u001b[0mself\u001b[0m\u001b[0;34m)\u001b[0m\u001b[0;34m:\u001b[0m\u001b[0;34m\u001b[0m\u001b[0;34m\u001b[0m\u001b[0m\n",
      "\u001b[0;32m/opt/anaconda3/lib/python3.7/site-packages/sklearn/ensemble/_weight_boosting.py\u001b[0m in \u001b[0;36mfit\u001b[0;34m(self, X, y, sample_weight)\u001b[0m\n\u001b[1;32m    140\u001b[0m                 \u001b[0mX\u001b[0m\u001b[0;34m,\u001b[0m \u001b[0my\u001b[0m\u001b[0;34m,\u001b[0m\u001b[0;34m\u001b[0m\u001b[0;34m\u001b[0m\u001b[0m\n\u001b[1;32m    141\u001b[0m                 \u001b[0msample_weight\u001b[0m\u001b[0;34m,\u001b[0m\u001b[0;34m\u001b[0m\u001b[0;34m\u001b[0m\u001b[0m\n\u001b[0;32m--> 142\u001b[0;31m                 random_state)\n\u001b[0m\u001b[1;32m    143\u001b[0m \u001b[0;34m\u001b[0m\u001b[0m\n\u001b[1;32m    144\u001b[0m             \u001b[0;31m# Early termination\u001b[0m\u001b[0;34m\u001b[0m\u001b[0;34m\u001b[0m\u001b[0;34m\u001b[0m\u001b[0m\n",
      "\u001b[0;32m/opt/anaconda3/lib/python3.7/site-packages/sklearn/ensemble/_weight_boosting.py\u001b[0m in \u001b[0;36m_boost\u001b[0;34m(self, iboost, X, y, sample_weight, random_state)\u001b[0m\n\u001b[1;32m    495\u001b[0m         \"\"\"\n\u001b[1;32m    496\u001b[0m         \u001b[0;32mif\u001b[0m \u001b[0mself\u001b[0m\u001b[0;34m.\u001b[0m\u001b[0malgorithm\u001b[0m \u001b[0;34m==\u001b[0m \u001b[0;34m'SAMME.R'\u001b[0m\u001b[0;34m:\u001b[0m\u001b[0;34m\u001b[0m\u001b[0;34m\u001b[0m\u001b[0m\n\u001b[0;32m--> 497\u001b[0;31m             \u001b[0;32mreturn\u001b[0m \u001b[0mself\u001b[0m\u001b[0;34m.\u001b[0m\u001b[0m_boost_real\u001b[0m\u001b[0;34m(\u001b[0m\u001b[0miboost\u001b[0m\u001b[0;34m,\u001b[0m \u001b[0mX\u001b[0m\u001b[0;34m,\u001b[0m \u001b[0my\u001b[0m\u001b[0;34m,\u001b[0m \u001b[0msample_weight\u001b[0m\u001b[0;34m,\u001b[0m \u001b[0mrandom_state\u001b[0m\u001b[0;34m)\u001b[0m\u001b[0;34m\u001b[0m\u001b[0;34m\u001b[0m\u001b[0m\n\u001b[0m\u001b[1;32m    498\u001b[0m \u001b[0;34m\u001b[0m\u001b[0m\n\u001b[1;32m    499\u001b[0m         \u001b[0;32melse\u001b[0m\u001b[0;34m:\u001b[0m  \u001b[0;31m# elif self.algorithm == \"SAMME\":\u001b[0m\u001b[0;34m\u001b[0m\u001b[0;34m\u001b[0m\u001b[0m\n",
      "\u001b[0;32m/opt/anaconda3/lib/python3.7/site-packages/sklearn/ensemble/_weight_boosting.py\u001b[0m in \u001b[0;36m_boost_real\u001b[0;34m(self, iboost, X, y, sample_weight, random_state)\u001b[0m\n\u001b[1;32m    505\u001b[0m         \u001b[0mestimator\u001b[0m \u001b[0;34m=\u001b[0m \u001b[0mself\u001b[0m\u001b[0;34m.\u001b[0m\u001b[0m_make_estimator\u001b[0m\u001b[0;34m(\u001b[0m\u001b[0mrandom_state\u001b[0m\u001b[0;34m=\u001b[0m\u001b[0mrandom_state\u001b[0m\u001b[0;34m)\u001b[0m\u001b[0;34m\u001b[0m\u001b[0;34m\u001b[0m\u001b[0m\n\u001b[1;32m    506\u001b[0m \u001b[0;34m\u001b[0m\u001b[0m\n\u001b[0;32m--> 507\u001b[0;31m         \u001b[0mestimator\u001b[0m\u001b[0;34m.\u001b[0m\u001b[0mfit\u001b[0m\u001b[0;34m(\u001b[0m\u001b[0mX\u001b[0m\u001b[0;34m,\u001b[0m \u001b[0my\u001b[0m\u001b[0;34m,\u001b[0m \u001b[0msample_weight\u001b[0m\u001b[0;34m=\u001b[0m\u001b[0msample_weight\u001b[0m\u001b[0;34m)\u001b[0m\u001b[0;34m\u001b[0m\u001b[0;34m\u001b[0m\u001b[0m\n\u001b[0m\u001b[1;32m    508\u001b[0m \u001b[0;34m\u001b[0m\u001b[0m\n\u001b[1;32m    509\u001b[0m         \u001b[0my_predict_proba\u001b[0m \u001b[0;34m=\u001b[0m \u001b[0mestimator\u001b[0m\u001b[0;34m.\u001b[0m\u001b[0mpredict_proba\u001b[0m\u001b[0;34m(\u001b[0m\u001b[0mX\u001b[0m\u001b[0;34m)\u001b[0m\u001b[0;34m\u001b[0m\u001b[0;34m\u001b[0m\u001b[0m\n",
      "\u001b[0;32m/opt/anaconda3/lib/python3.7/site-packages/sklearn/tree/_classes.py\u001b[0m in \u001b[0;36mfit\u001b[0;34m(self, X, y, sample_weight, check_input, X_idx_sorted)\u001b[0m\n\u001b[1;32m    875\u001b[0m             \u001b[0msample_weight\u001b[0m\u001b[0;34m=\u001b[0m\u001b[0msample_weight\u001b[0m\u001b[0;34m,\u001b[0m\u001b[0;34m\u001b[0m\u001b[0;34m\u001b[0m\u001b[0m\n\u001b[1;32m    876\u001b[0m             \u001b[0mcheck_input\u001b[0m\u001b[0;34m=\u001b[0m\u001b[0mcheck_input\u001b[0m\u001b[0;34m,\u001b[0m\u001b[0;34m\u001b[0m\u001b[0;34m\u001b[0m\u001b[0m\n\u001b[0;32m--> 877\u001b[0;31m             X_idx_sorted=X_idx_sorted)\n\u001b[0m\u001b[1;32m    878\u001b[0m         \u001b[0;32mreturn\u001b[0m \u001b[0mself\u001b[0m\u001b[0;34m\u001b[0m\u001b[0;34m\u001b[0m\u001b[0m\n\u001b[1;32m    879\u001b[0m \u001b[0;34m\u001b[0m\u001b[0m\n",
      "\u001b[0;32m/opt/anaconda3/lib/python3.7/site-packages/sklearn/tree/_classes.py\u001b[0m in \u001b[0;36mfit\u001b[0;34m(self, X, y, sample_weight, check_input, X_idx_sorted)\u001b[0m\n\u001b[1;32m    365\u001b[0m                                            min_impurity_split)\n\u001b[1;32m    366\u001b[0m \u001b[0;34m\u001b[0m\u001b[0m\n\u001b[0;32m--> 367\u001b[0;31m         \u001b[0mbuilder\u001b[0m\u001b[0;34m.\u001b[0m\u001b[0mbuild\u001b[0m\u001b[0;34m(\u001b[0m\u001b[0mself\u001b[0m\u001b[0;34m.\u001b[0m\u001b[0mtree_\u001b[0m\u001b[0;34m,\u001b[0m \u001b[0mX\u001b[0m\u001b[0;34m,\u001b[0m \u001b[0my\u001b[0m\u001b[0;34m,\u001b[0m \u001b[0msample_weight\u001b[0m\u001b[0;34m,\u001b[0m \u001b[0mX_idx_sorted\u001b[0m\u001b[0;34m)\u001b[0m\u001b[0;34m\u001b[0m\u001b[0;34m\u001b[0m\u001b[0m\n\u001b[0m\u001b[1;32m    368\u001b[0m \u001b[0;34m\u001b[0m\u001b[0m\n\u001b[1;32m    369\u001b[0m         \u001b[0;32mif\u001b[0m \u001b[0mself\u001b[0m\u001b[0;34m.\u001b[0m\u001b[0mn_outputs_\u001b[0m \u001b[0;34m==\u001b[0m \u001b[0;36m1\u001b[0m \u001b[0;32mand\u001b[0m \u001b[0mis_classifier\u001b[0m\u001b[0;34m(\u001b[0m\u001b[0mself\u001b[0m\u001b[0;34m)\u001b[0m\u001b[0;34m:\u001b[0m\u001b[0;34m\u001b[0m\u001b[0;34m\u001b[0m\u001b[0m\n",
      "\u001b[0;31mKeyboardInterrupt\u001b[0m: "
     ]
    }
   ],
   "source": [
    "abc = AdaBoostClassifier(learning_rate=0.2, n_estimators=50)\n",
    "abc.fit(tfidf_X_small, y_small)"
   ]
  },
  {
   "cell_type": "code",
   "execution_count": null,
   "metadata": {
    "ExecuteTime": {
     "end_time": "2020-05-14T03:48:22.648643Z",
     "start_time": "2020-05-14T03:47:38.363826Z"
    }
   },
   "outputs": [],
   "source": [
    "accuracy_score(y_small, abc.predict(tfidf_X_small)), f1_score(y_small, abc.predict(tfidf_X_small))"
   ]
  },
  {
   "cell_type": "code",
   "execution_count": null,
   "metadata": {
    "ExecuteTime": {
     "end_time": "2020-05-14T03:48:28.480370Z",
     "start_time": "2020-05-14T03:48:22.670016Z"
    }
   },
   "outputs": [],
   "source": [
    "small_abc_y_hat = abc.predict(tfidf_X_small_t)\n",
    "small_abc_y_prob = abc.predict_proba(tfidf_X_small_t)[:,1]"
   ]
  },
  {
   "cell_type": "code",
   "execution_count": null,
   "metadata": {
    "ExecuteTime": {
     "end_time": "2020-05-14T03:48:28.543063Z",
     "start_time": "2020-05-14T03:48:28.487970Z"
    }
   },
   "outputs": [],
   "source": [
    "accuracy_score(y_small_t, small_abc_y_hat), f1_score(y_small_t, small_abc_y_hat)"
   ]
  },
  {
   "cell_type": "markdown",
   "metadata": {},
   "source": [
    "#### Naive Bayes Model"
   ]
  },
  {
   "cell_type": "code",
   "execution_count": 81,
   "metadata": {
    "ExecuteTime": {
     "end_time": "2020-05-14T03:03:21.388278Z",
     "start_time": "2020-05-14T03:02:47.323156Z"
    }
   },
   "outputs": [],
   "source": [
    "small_nbc = MultinomialNB().fit(tfidf_X_small, y_small)"
   ]
  },
  {
   "cell_type": "code",
   "execution_count": 82,
   "metadata": {
    "ExecuteTime": {
     "end_time": "2020-05-14T03:07:35.886326Z",
     "start_time": "2020-05-14T03:07:00.458471Z"
    }
   },
   "outputs": [
    {
     "data": {
      "text/plain": [
       "(0.8039, 0.7750553471672575)"
      ]
     },
     "execution_count": 82,
     "metadata": {},
     "output_type": "execute_result"
    }
   ],
   "source": [
    "accuracy_score(y_small, small_nbc.predict(tfidf_X_small)), f1_score(y_small, small_nbc.predict(tfidf_X_small))"
   ]
  },
  {
   "cell_type": "code",
   "execution_count": 83,
   "metadata": {
    "ExecuteTime": {
     "end_time": "2020-05-14T03:07:40.299194Z",
     "start_time": "2020-05-14T03:07:35.905462Z"
    }
   },
   "outputs": [],
   "source": [
    "small_nbc_y_hat = small_nbc.predict(tfidf_X_small_t)\n",
    "small_nbc_y_prob = small_nbc.predict_proba(tfidf_X_small_t)[:,1]"
   ]
  },
  {
   "cell_type": "code",
   "execution_count": 85,
   "metadata": {
    "ExecuteTime": {
     "end_time": "2020-05-14T03:08:14.336649Z",
     "start_time": "2020-05-14T03:08:14.286671Z"
    }
   },
   "outputs": [
    {
     "data": {
      "text/plain": [
       "(0.80134, 0.7713555693667564)"
      ]
     },
     "execution_count": 85,
     "metadata": {},
     "output_type": "execute_result"
    }
   ],
   "source": [
    "accuracy_score(y_small_t, small_nbc_y_hat), f1_score(y_small_t, small_nbc_y_hat)"
   ]
  },
  {
   "cell_type": "markdown",
   "metadata": {},
   "source": [
    "### ROC Curve"
   ]
  },
  {
   "cell_type": "code",
   "execution_count": null,
   "metadata": {
    "ExecuteTime": {
     "end_time": "2020-05-14T05:28:39.449228Z",
     "start_time": "2020-05-14T03:56:39.464Z"
    }
   },
   "outputs": [],
   "source": [
    "# y_prob = probabilities and y_test = labels\n",
    "\n",
    "def ROC_curve(probabilities, labels):\n",
    "    \n",
    "    #Sort instances by their prediction strength (the probabilities)\n",
    "    thresholds = np.sort(probabilities)\n",
    "    \n",
    "    TPRs = []\n",
    "    FPRs = []\n",
    "    \n",
    "    num_positive_cases = sum(labels)\n",
    "    num_negative_cases = len(labels) - num_positive_cases\n",
    "    \n",
    "    #For every instance in increasing order of probability:\n",
    "    for idx, threshold in enumerate(thresholds):\n",
    "        \n",
    "        #Set everything above the threshold to the positive class\n",
    "        predicted_positive = probabilities >= threshold\n",
    "        \n",
    "        # Calculate the number of correctly predicted positive cases\n",
    "        true_positives = np.sum(predicted_positive * labels)\n",
    "        \n",
    "        # Calculate the number of incorrectly predicted positive cases\n",
    "        false_positives = np.sum(predicted_positive) - true_positives\n",
    "        \n",
    "        #Calculate the True Positive Rate (aka sensitivity or recall)\n",
    "        #True positives divided by positive cases\n",
    "        TPR = true_positives / num_positive_cases\n",
    "        TPRs.append(TPR)\n",
    "        \n",
    "        #Calculate the False Positive Rate (1 - specificity)\n",
    "        FPR = false_positives / num_negative_cases\n",
    "        FPRs.append(FPR)\n",
    "    \n",
    "    #Return three lists: TPRs, FPRs, thresholds\n",
    "    return TPRs, FPRs, thresholds"
   ]
  },
  {
   "cell_type": "code",
   "execution_count": null,
   "metadata": {},
   "outputs": [],
   "source": [
    "# y_small_prob, small_rfc_y_prob, small_gbc_y_prob, small_abc_y_prob, small_nbc_y_prob\n",
    "\n",
    "TPRs, FPRs, thresholds = ROC_curve(y_small_prob, y_small_t)\n",
    "\n",
    "fig, ax = plt.subplots()\n",
    "ax.plot(FPRs, TPRs)\n",
    "ax.set_xlabel('False Positive Rate', fontsize=14)\n",
    "ax.set_ylabel('True Positive Rate', fontsize=14)\n",
    "ax.set_title('ROC Curve', fontsize=20)\n",
    "#plt.savefig('roc_curve.png')"
   ]
  },
  {
   "cell_type": "markdown",
   "metadata": {},
   "source": [
    "## Additional Exploratory Data Analysis"
   ]
  },
  {
   "cell_type": "code",
   "execution_count": 35,
   "metadata": {},
   "outputs": [],
   "source": [
    "# Word Cloud for Reviews\n",
    "\n",
    "comment_words = '' \n",
    "#stopwords = set(STOPWORDS) \n",
    "# stopwords = sw\n",
    "  \n",
    "# iterate through the csv file \n",
    "for val in X_small: \n",
    "      \n",
    "    # typecaste each val to string \n",
    "    val = str(val) \n",
    "  \n",
    "    # split the value \n",
    "    tokens = tokenizer(val) \n",
    "      \n",
    "    comment_words += \" \".join(tokens)+\" \""
   ]
  },
  {
   "cell_type": "code",
   "execution_count": 36,
   "metadata": {
    "code_folding": []
   },
   "outputs": [
    {
     "data": {
      "image/png": "[encoded data removed]",
      "text/plain": [
       "<Figure size 576x576 with 1 Axes>"
      ]
     },
     "metadata": {
      "needs_background": "light"
     },
     "output_type": "display_data"
    }
   ],
   "source": [
    "wordcloud = WordCloud(width = 800, height = 600, \n",
    "                background_color ='white', \n",
    "                stopwords = sw, \n",
    "                min_font_size = 10).generate(comment_words) \n",
    "  \n",
    "# plot the WordCloud image                        \n",
    "plt.figure(figsize = (8, 8), facecolor = None) \n",
    "plt.imshow(wordcloud) \n",
    "plt.axis(\"off\") \n",
    "plt.tight_layout(pad = 0) \n",
    "  \n",
    "plt.show()"
   ]
  }
 ],
 "metadata": {
  "kernelspec": {
   "display_name": "Python 3",
   "language": "python",
   "name": "python3"
  },
  "language_info": {
   "codemirror_mode": {
    "name": "ipython",
    "version": 3
   },
   "file_extension": ".py",
   "mimetype": "text/x-python",
   "name": "python",
   "nbconvert_exporter": "python",
   "pygments_lexer": "ipython3",
   "version": "3.7.6"
  }
 },
 "nbformat": 4,
 "nbformat_minor": 4
}
