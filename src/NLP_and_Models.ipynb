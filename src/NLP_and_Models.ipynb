{
 "cells": [
  {
   "cell_type": "markdown",
   "metadata": {
    "colab_type": "text",
    "id": "pAbxjjfsAHv6"
   },
   "source": [
    "# Las Vegas Restaurants Reviews NLP and more EDA"
   ]
  },
  {
   "cell_type": "markdown",
   "metadata": {
    "colab_type": "text",
    "id": "6Jj1jvhIAHwD"
   },
   "source": [
    "### Imports"
   ]
  },
  {
   "cell_type": "code",
   "execution_count": 1,
   "metadata": {
    "ExecuteTime": {
     "end_time": "2020-05-18T16:08:15.576092Z",
     "start_time": "2020-05-18T16:08:12.357297Z"
    },
    "colab": {
     "base_uri": "https://localhost:8080/",
     "height": 71
    },
    "colab_type": "code",
    "id": "zrmeLLVSAHwE",
    "outputId": "58614b00-cb17-41ae-969f-ad20213e0d95"
   },
   "outputs": [],
   "source": [
    "import numpy as np\n",
    "import pandas as pd\n",
    "\n",
    "import matplotlib.pyplot as plt\n",
    "import matplotlib.colors as mc\n",
    "import colorsys\n",
    "import seaborn as sns\n",
    "\n",
    "%matplotlib inline"
   ]
  },
  {
   "cell_type": "code",
   "execution_count": 2,
   "metadata": {
    "ExecuteTime": {
     "end_time": "2020-05-18T16:08:27.062498Z",
     "start_time": "2020-05-18T16:08:26.254844Z"
    },
    "colab": {
     "base_uri": "https://localhost:8080/",
     "height": 187
    },
    "colab_type": "code",
    "id": "pR5bc8PjAHwd",
    "outputId": "605a0cde-66da-4a9e-e11c-4569b76eda1a"
   },
   "outputs": [],
   "source": [
    "# For NLP\n",
    "from sklearn.feature_extraction.text import TfidfVectorizer, CountVectorizer\n",
    "\n",
    "import unicodedata\n",
    "import string\n",
    "import re\n",
    "\n",
    "from nltk.util import ngrams\n",
    "from nltk.tokenize import sent_tokenize, word_tokenize\n",
    "from nltk.corpus import stopwords\n",
    "from nltk.stem.snowball import SnowballStemmer\n",
    "\n",
    "import nltk\n",
    "from nltk.corpus import wordnet\n",
    "from nltk.stem import WordNetLemmatizer\n",
    "\n",
    "np.set_printoptions(linewidth=100) \n",
    "\n",
    "pt = string.punctuation\n",
    "sw = stopwords.words('english')\n",
    "stemmer = SnowballStemmer('english')"
   ]
  },
  {
   "cell_type": "code",
   "execution_count": 0,
   "metadata": {
    "ExecuteTime": {
     "end_time": "2020-05-14T19:00:17.780297Z",
     "start_time": "2020-05-14T19:00:17.750004Z"
    },
    "colab": {},
    "colab_type": "code",
    "id": "E0rmKbcmAHwv"
   },
   "outputs": [],
   "source": [
    "from wordcloud import WordCloud, STOPWORDS "
   ]
  },
  {
   "cell_type": "code",
   "execution_count": 0,
   "metadata": {
    "ExecuteTime": {
     "end_time": "2020-05-14T19:00:17.919093Z",
     "start_time": "2020-05-14T19:00:17.784372Z"
    },
    "colab": {},
    "colab_type": "code",
    "id": "_MTpm3EHAHxC"
   },
   "outputs": [],
   "source": [
    "# For Modeling\n",
    "from sklearn.model_selection import train_test_split\n",
    "from sklearn.model_selection import GridSearchCV\n",
    "\n",
    "# Logisitc Regression\n",
    "from sklearn.linear_model import LogisticRegression\n",
    "\n",
    "# Random Forest\n",
    "from sklearn.ensemble import RandomForestClassifier\n",
    "\n",
    "# Gradient Boosting\n",
    "from sklearn.ensemble import GradientBoostingClassifier\n",
    "\n",
    "# AdaBoost\n",
    "from sklearn.ensemble import AdaBoostClassifier\n",
    "\n",
    "# Naive Bayes\n",
    "from sklearn.naive_bayes import MultinomialNB\n",
    "\n",
    "# Metrics\n",
    "from sklearn.metrics import accuracy_score, f1_score, roc_auc_score\n"
   ]
  },
  {
   "cell_type": "markdown",
   "metadata": {
    "colab_type": "text",
    "id": "xT8qh56UAHyR"
   },
   "source": [
    "## Data Processing"
   ]
  },
  {
   "cell_type": "markdown",
   "metadata": {
    "colab_type": "text",
    "id": "uVoH5ZP0AHyV"
   },
   "source": [
    "#### Import Data"
   ]
  },
  {
   "cell_type": "code",
   "execution_count": 0,
   "metadata": {
    "ExecuteTime": {
     "end_time": "2020-05-14T19:00:35.310398Z",
     "start_time": "2020-05-14T19:00:29.152791Z"
    },
    "colab": {},
    "colab_type": "code",
    "id": "wLWOf1PXAHys"
   },
   "outputs": [],
   "source": [
    "raw_reviews = pd.read_pickle('data/english_reviews.pkl')"
   ]
  },
  {
   "cell_type": "code",
   "execution_count": 0,
   "metadata": {
    "ExecuteTime": {
     "end_time": "2020-05-14T19:00:54.382201Z",
     "start_time": "2020-05-14T19:00:54.364390Z"
    },
    "colab": {},
    "colab_type": "code",
    "id": "cLRxzk5xAHzt"
   },
   "outputs": [],
   "source": [
    "reviews.reset_index(drop=True, inplace=True)"
   ]
  },
  {
   "cell_type": "code",
   "execution_count": 0,
   "metadata": {
    "ExecuteTime": {
     "end_time": "2020-05-14T19:00:55.431938Z",
     "start_time": "2020-05-14T19:00:54.407980Z"
    },
    "colab": {
     "base_uri": "https://localhost:8080/",
     "height": 49
    },
    "colab_type": "code",
    "id": "t13CwQmBAH0I",
    "outputId": "0dca939b-e33b-4d9c-8213-1d0456599679"
   },
   "outputs": [
    {
     "data": {
      "text/html": [
       "<div>\n",
       "<style scoped>\n",
       "    .dataframe tbody tr th:only-of-type {\n",
       "        vertical-align: middle;\n",
       "    }\n",
       "\n",
       "    .dataframe tbody tr th {\n",
       "        vertical-align: top;\n",
       "    }\n",
       "\n",
       "    .dataframe thead th {\n",
       "        text-align: right;\n",
       "    }\n",
       "</style>\n",
       "<table border=\"1\" class=\"dataframe\">\n",
       "  <thead>\n",
       "    <tr style=\"text-align: right;\">\n",
       "      <th></th>\n",
       "      <th>business_id</th>\n",
       "      <th>review_id</th>\n",
       "      <th>user_id</th>\n",
       "      <th>stars</th>\n",
       "      <th>useful</th>\n",
       "      <th>funny</th>\n",
       "      <th>cool</th>\n",
       "      <th>text</th>\n",
       "      <th>date</th>\n",
       "      <th>language</th>\n",
       "    </tr>\n",
       "  </thead>\n",
       "  <tbody>\n",
       "  </tbody>\n",
       "</table>\n",
       "</div>"
      ],
      "text/plain": [
       "Empty DataFrame\n",
       "Columns: [business_id, review_id, user_id, stars, useful, funny, cool, text, date, language]\n",
       "Index: []"
      ]
     },
     "execution_count": 11,
     "metadata": {
      "tags": []
     },
     "output_type": "execute_result"
    }
   ],
   "source": [
    "reviews[reviews.isna().any(axis=1)]"
   ]
  },
  {
   "cell_type": "code",
   "execution_count": 0,
   "metadata": {
    "ExecuteTime": {
     "end_time": "2020-05-14T19:00:55.598824Z",
     "start_time": "2020-05-14T19:00:55.443673Z"
    },
    "colab": {
     "base_uri": "https://localhost:8080/",
     "height": 119
    },
    "colab_type": "code",
    "id": "lYeWJiEGAH0p",
    "outputId": "8ca24867-f9b5-449e-8c7f-444b2c71bbf4",
    "scrolled": true
   },
   "outputs": [
    {
     "data": {
      "text/plain": [
       "1    0.124113\n",
       "2    0.084543\n",
       "3    0.118845\n",
       "4    0.228227\n",
       "5    0.444272\n",
       "Name: stars, dtype: float64"
      ]
     },
     "execution_count": 12,
     "metadata": {
      "tags": []
     },
     "output_type": "execute_result"
    }
   ],
   "source": [
    "(reviews.stars.value_counts()/reviews.stars.value_counts().sum()).sort_index()"
   ]
  },
  {
   "cell_type": "code",
   "execution_count": 0,
   "metadata": {
    "ExecuteTime": {
     "end_time": "2020-05-14T19:00:55.618815Z",
     "start_time": "2020-05-14T19:00:55.601873Z"
    },
    "colab": {
     "base_uri": "https://localhost:8080/",
     "height": 34
    },
    "colab_type": "code",
    "id": "6fEKhxviAH1w",
    "outputId": "b2929fca-d82e-4d5b-d6f1-6061b6a431f0"
   },
   "outputs": [
    {
     "data": {
      "text/plain": [
       "(1527548, 10)"
      ]
     },
     "execution_count": 13,
     "metadata": {
      "tags": []
     },
     "output_type": "execute_result"
    }
   ],
   "source": [
    "reviews.shape"
   ]
  },
  {
   "cell_type": "code",
   "execution_count": 0,
   "metadata": {
    "ExecuteTime": {
     "end_time": "2020-05-14T19:00:55.709073Z",
     "start_time": "2020-05-14T19:00:55.625568Z"
    },
    "colab": {
     "base_uri": "https://localhost:8080/",
     "height": 632
    },
    "colab_type": "code",
    "id": "P3shX6nTAH3B",
    "outputId": "24831a41-d038-4769-8019-43c3a9f6c085"
   },
   "outputs": [
    {
     "data": {
      "text/html": [
       "<div>\n",
       "<style scoped>\n",
       "    .dataframe tbody tr th:only-of-type {\n",
       "        vertical-align: middle;\n",
       "    }\n",
       "\n",
       "    .dataframe tbody tr th {\n",
       "        vertical-align: top;\n",
       "    }\n",
       "\n",
       "    .dataframe thead th {\n",
       "        text-align: right;\n",
       "    }\n",
       "</style>\n",
       "<table border=\"1\" class=\"dataframe\">\n",
       "  <thead>\n",
       "    <tr style=\"text-align: right;\">\n",
       "      <th></th>\n",
       "      <th>business_id</th>\n",
       "      <th>review_id</th>\n",
       "      <th>user_id</th>\n",
       "      <th>stars</th>\n",
       "      <th>useful</th>\n",
       "      <th>funny</th>\n",
       "      <th>cool</th>\n",
       "      <th>text</th>\n",
       "      <th>date</th>\n",
       "      <th>language</th>\n",
       "    </tr>\n",
       "  </thead>\n",
       "  <tbody>\n",
       "    <tr>\n",
       "      <th>0</th>\n",
       "      <td>fnZrZlqW1Z8iWgTVDfv_MA</td>\n",
       "      <td>WUAt5-krh075Ie44np8Hew</td>\n",
       "      <td>YDkC5VVT8s9NlIZtAr8NUA</td>\n",
       "      <td>5</td>\n",
       "      <td>0</td>\n",
       "      <td>0</td>\n",
       "      <td>0</td>\n",
       "      <td>So why would I be giving a Fast Food chain loc...</td>\n",
       "      <td>2010-11-27 09:33:34</td>\n",
       "      <td>en</td>\n",
       "    </tr>\n",
       "    <tr>\n",
       "      <th>1</th>\n",
       "      <td>fnZrZlqW1Z8iWgTVDfv_MA</td>\n",
       "      <td>S9vIs-je49jqbhpWSQ8yHg</td>\n",
       "      <td>mxtalrN7VHVQwGjv8ln5yg</td>\n",
       "      <td>2</td>\n",
       "      <td>0</td>\n",
       "      <td>0</td>\n",
       "      <td>0</td>\n",
       "      <td>I come here bout 3x's a mo. &amp; I just can't do ...</td>\n",
       "      <td>2016-03-19 09:03:09</td>\n",
       "      <td>en</td>\n",
       "    </tr>\n",
       "    <tr>\n",
       "      <th>2</th>\n",
       "      <td>fnZrZlqW1Z8iWgTVDfv_MA</td>\n",
       "      <td>i2Soid_X8XsSTyIrPOst6g</td>\n",
       "      <td>xammeA3ftpFoAN13v5Blyg</td>\n",
       "      <td>1</td>\n",
       "      <td>2</td>\n",
       "      <td>0</td>\n",
       "      <td>0</td>\n",
       "      <td>WORST experience EVER!!!!! never have i ate an...</td>\n",
       "      <td>2015-04-02 06:14:51</td>\n",
       "      <td>en</td>\n",
       "    </tr>\n",
       "    <tr>\n",
       "      <th>3</th>\n",
       "      <td>fnZrZlqW1Z8iWgTVDfv_MA</td>\n",
       "      <td>uDYGaAOUgo7SLuH5nUZs3w</td>\n",
       "      <td>gQhFacMGI41mfVXqw1E7bQ</td>\n",
       "      <td>4</td>\n",
       "      <td>0</td>\n",
       "      <td>0</td>\n",
       "      <td>0</td>\n",
       "      <td>Hot fresh food usually.  Staff seems to turn o...</td>\n",
       "      <td>2014-08-14 23:00:34</td>\n",
       "      <td>en</td>\n",
       "    </tr>\n",
       "    <tr>\n",
       "      <th>4</th>\n",
       "      <td>fnZrZlqW1Z8iWgTVDfv_MA</td>\n",
       "      <td>Xg7HuBvuZHTBog1G_2Wk0w</td>\n",
       "      <td>0PXhJMztE3ijzQPjiwPERg</td>\n",
       "      <td>3</td>\n",
       "      <td>0</td>\n",
       "      <td>0</td>\n",
       "      <td>0</td>\n",
       "      <td>Beer battered cod fish seems really rubbery. I...</td>\n",
       "      <td>2015-03-23 02:10:52</td>\n",
       "      <td>en</td>\n",
       "    </tr>\n",
       "  </tbody>\n",
       "</table>\n",
       "</div>"
      ],
      "text/plain": [
       "              business_id               review_id  ...                date  language\n",
       "0  fnZrZlqW1Z8iWgTVDfv_MA  WUAt5-krh075Ie44np8Hew  ... 2010-11-27 09:33:34        en\n",
       "1  fnZrZlqW1Z8iWgTVDfv_MA  S9vIs-je49jqbhpWSQ8yHg  ... 2016-03-19 09:03:09        en\n",
       "2  fnZrZlqW1Z8iWgTVDfv_MA  i2Soid_X8XsSTyIrPOst6g  ... 2015-04-02 06:14:51        en\n",
       "3  fnZrZlqW1Z8iWgTVDfv_MA  uDYGaAOUgo7SLuH5nUZs3w  ... 2014-08-14 23:00:34        en\n",
       "4  fnZrZlqW1Z8iWgTVDfv_MA  Xg7HuBvuZHTBog1G_2Wk0w  ... 2015-03-23 02:10:52        en\n",
       "\n",
       "[5 rows x 10 columns]"
      ]
     },
     "execution_count": 14,
     "metadata": {
      "tags": []
     },
     "output_type": "execute_result"
    }
   ],
   "source": [
    "reviews.head()"
   ]
  },
  {
   "cell_type": "code",
   "execution_count": 0,
   "metadata": {
    "ExecuteTime": {
     "end_time": "2020-05-14T19:00:57.076918Z",
     "start_time": "2020-05-14T19:00:55.718724Z"
    },
    "colab": {},
    "colab_type": "code",
    "id": "c3ar4fy1AH3f"
   },
   "outputs": [],
   "source": [
    "# X is reviews' text and y is 5 stars or not\n",
    "X = np.array(reviews.text)\n",
    "y = np.array(reviews.stars.apply(lambda s: 1 if s == 5 else 0))"
   ]
  },
  {
   "cell_type": "code",
   "execution_count": 0,
   "metadata": {
    "colab": {
     "base_uri": "https://localhost:8080/",
     "height": 34
    },
    "colab_type": "code",
    "id": "LE4g00ZtGKNm",
    "outputId": "b1c2a1ab-361b-4230-923b-80a03e248dd0"
   },
   "outputs": [
    {
     "data": {
      "text/plain": [
       "((1527548,), (1527548,))"
      ]
     },
     "execution_count": 16,
     "metadata": {
      "tags": []
     },
     "output_type": "execute_result"
    }
   ],
   "source": [
    "X.shape, y.shape"
   ]
  },
  {
   "cell_type": "code",
   "execution_count": 0,
   "metadata": {
    "colab": {},
    "colab_type": "code",
    "id": "z3JLiNrAGLul"
   },
   "outputs": [],
   "source": [
    "y_stars = np.array(reviews.stars)"
   ]
  },
  {
   "cell_type": "code",
   "execution_count": 0,
   "metadata": {
    "colab": {
     "base_uri": "https://localhost:8080/",
     "height": 34
    },
    "colab_type": "code",
    "id": "dMVdFri8GPb2",
    "outputId": "e97a8a85-14f3-48ba-8985-a3c0ae52fbde"
   },
   "outputs": [
    {
     "data": {
      "text/plain": [
       "(1527548,)"
      ]
     },
     "execution_count": 18,
     "metadata": {
      "tags": []
     },
     "output_type": "execute_result"
    }
   ],
   "source": [
    "y_stars.shape"
   ]
  },
  {
   "cell_type": "code",
   "execution_count": 0,
   "metadata": {
    "ExecuteTime": {
     "end_time": "2020-05-14T19:00:57.123705Z",
     "start_time": "2020-05-14T19:00:57.097684Z"
    },
    "colab": {
     "base_uri": "https://localhost:8080/",
     "height": 34
    },
    "colab_type": "code",
    "id": "lamrMZf7AH4L",
    "outputId": "dcbad934-72d4-4441-c8d2-722fc6cc259e"
   },
   "outputs": [
    {
     "data": {
      "text/plain": [
       "0.444272127618903"
      ]
     },
     "execution_count": 19,
     "metadata": {
      "tags": []
     },
     "output_type": "execute_result"
    }
   ],
   "source": [
    "# Baseline Accuracy/Model = \n",
    "y.sum()/len(y)"
   ]
  },
  {
   "cell_type": "markdown",
   "metadata": {
    "colab_type": "text",
    "id": "QUhX7YCuAH4V"
   },
   "source": [
    "#### Split Data"
   ]
  },
  {
   "cell_type": "code",
   "execution_count": 0,
   "metadata": {
    "colab": {},
    "colab_type": "code",
    "id": "jfOSOZtZGW5V"
   },
   "outputs": [],
   "source": [
    "stars_X_train, stars_X_test, stars_y_train, stars_y_test = train_test_split(X, y_stars, test_size=0.2, random_state=7, stratify=y)"
   ]
  },
  {
   "cell_type": "code",
   "execution_count": 0,
   "metadata": {
    "ExecuteTime": {
     "end_time": "2020-05-14T19:00:58.821992Z",
     "start_time": "2020-05-14T19:00:57.125843Z"
    },
    "colab": {},
    "colab_type": "code",
    "id": "GM8p2Ht7AH4Z"
   },
   "outputs": [],
   "source": [
    "final_X_train, final_X_test, final_y_train, final_y_test = train_test_split(X, y, test_size=0.2, random_state=7, stratify=y)"
   ]
  },
  {
   "cell_type": "code",
   "execution_count": 0,
   "metadata": {
    "ExecuteTime": {
     "end_time": "2020-05-14T19:00:58.838956Z",
     "start_time": "2020-05-14T19:00:58.824137Z"
    },
    "colab": {
     "base_uri": "https://localhost:8080/",
     "height": 34
    },
    "colab_type": "code",
    "id": "C-5TNwRcAH45",
    "outputId": "db2cddc0-0b5c-4221-a85f-21b9e208aa45"
   },
   "outputs": [
    {
     "data": {
      "text/plain": [
       "((1222038,), (1222038,))"
      ]
     },
     "execution_count": 22,
     "metadata": {
      "tags": []
     },
     "output_type": "execute_result"
    }
   ],
   "source": [
    "final_X_train.shape, final_y_train.shape"
   ]
  },
  {
   "cell_type": "code",
   "execution_count": 0,
   "metadata": {
    "ExecuteTime": {
     "end_time": "2020-05-14T19:00:58.857936Z",
     "start_time": "2020-05-14T19:00:58.846845Z"
    },
    "colab": {
     "base_uri": "https://localhost:8080/",
     "height": 34
    },
    "colab_type": "code",
    "id": "c7D97uSsAH6y",
    "outputId": "493bc707-59e8-4b15-d99f-7cc9898e2956"
   },
   "outputs": [
    {
     "data": {
      "text/plain": [
       "611020"
      ]
     },
     "execution_count": 23,
     "metadata": {
      "tags": []
     },
     "output_type": "execute_result"
    }
   ],
   "source": [
    "sli = (len(final_X_train) // 2) + 1 ; sli"
   ]
  },
  {
   "cell_type": "code",
   "execution_count": 0,
   "metadata": {
    "ExecuteTime": {
     "end_time": "2020-05-14T19:00:58.878597Z",
     "start_time": "2020-05-14T19:00:58.860414Z"
    },
    "colab": {},
    "colab_type": "code",
    "id": "G1P0fkZYAH7O"
   },
   "outputs": [],
   "source": [
    "X_half_1 = final_X_train[0:sli]\n",
    "X_half_2 = final_X_train[sli:]\n",
    "\n",
    "y_half_1 = final_y_train[0:sli]\n",
    "y_half_2 = final_y_train[sli:]\n"
   ]
  },
  {
   "cell_type": "code",
   "execution_count": 0,
   "metadata": {
    "ExecuteTime": {
     "end_time": "2020-05-14T19:00:58.891967Z",
     "start_time": "2020-05-14T19:00:58.881904Z"
    },
    "colab": {
     "base_uri": "https://localhost:8080/",
     "height": 34
    },
    "colab_type": "code",
    "id": "pm1O-94XAH7b",
    "outputId": "4179f235-8534-4d66-ea59-5dfd3aa722ab"
   },
   "outputs": [
    {
     "data": {
      "text/plain": [
       "(271420, 271497)"
      ]
     },
     "execution_count": 25,
     "metadata": {
      "tags": []
     },
     "output_type": "execute_result"
    }
   ],
   "source": [
    "y_half_1.sum(), y_half_2.sum()"
   ]
  },
  {
   "cell_type": "code",
   "execution_count": 0,
   "metadata": {
    "ExecuteTime": {
     "end_time": "2020-05-14T19:00:58.941380Z",
     "start_time": "2020-05-14T19:00:58.921696Z"
    },
    "colab": {},
    "colab_type": "code",
    "id": "brxEVS12AH7s"
   },
   "outputs": [],
   "source": [
    "sli_t = sli + 160000"
   ]
  },
  {
   "cell_type": "code",
   "execution_count": 0,
   "metadata": {
    "ExecuteTime": {
     "end_time": "2020-05-14T19:00:58.956642Z",
     "start_time": "2020-05-14T19:00:58.950449Z"
    },
    "colab": {},
    "colab_type": "code",
    "id": "m4pDbCU-AH79"
   },
   "outputs": [],
   "source": [
    "X_half_1_t = final_X_train[sli:sli_t]\n",
    "y_half_1_t = final_y_train[sli:sli_t]"
   ]
  },
  {
   "cell_type": "code",
   "execution_count": 0,
   "metadata": {
    "ExecuteTime": {
     "end_time": "2020-05-14T20:57:13.630412Z",
     "start_time": "2020-05-14T20:55:18.047Z"
    },
    "colab": {
     "base_uri": "https://localhost:8080/",
     "height": 34
    },
    "colab_type": "code",
    "id": "9Tb5BURKAH9E",
    "outputId": "89b09a6d-f659-438b-91ed-5e19b298c9c1"
   },
   "outputs": [
    {
     "data": {
      "text/plain": [
       "71078"
      ]
     },
     "execution_count": 28,
     "metadata": {
      "tags": []
     },
     "output_type": "execute_result"
    }
   ],
   "source": [
    "y_half_1_t.sum()"
   ]
  },
  {
   "cell_type": "markdown",
   "metadata": {
    "colab_type": "text",
    "id": "f1e-zqIjAH9k"
   },
   "source": [
    "##### Small Subsets"
   ]
  },
  {
   "cell_type": "code",
   "execution_count": 0,
   "metadata": {
    "ExecuteTime": {
     "end_time": "2020-05-14T19:00:58.981019Z",
     "start_time": "2020-05-14T19:00:58.959391Z"
    },
    "colab": {
     "base_uri": "https://localhost:8080/",
     "height": 34
    },
    "colab_type": "code",
    "id": "G7tiN_G5AH9m",
    "outputId": "0fa8dde0-b7bf-4854-981c-0b872a382408"
   },
   "outputs": [
    {
     "data": {
      "text/plain": [
       "(8807, 2236)"
      ]
     },
     "execution_count": 29,
     "metadata": {
      "tags": []
     },
     "output_type": "execute_result"
    }
   ],
   "source": [
    "X_tiny = final_X_train[501000:521000]\n",
    "\n",
    "y_tiny = final_y_train[501000:521000]\n",
    "\n",
    "X_tiny_t = final_X_train[524000:529000]\n",
    "\n",
    "y_tiny_t = final_y_train[524000:529000]\n",
    "\n",
    "y_tiny.sum(), y_tiny_t.sum()"
   ]
  },
  {
   "cell_type": "code",
   "execution_count": 0,
   "metadata": {
    "ExecuteTime": {
     "end_time": "2020-05-14T19:00:59.015761Z",
     "start_time": "2020-05-14T19:00:58.984600Z"
    },
    "colab": {
     "base_uri": "https://localhost:8080/",
     "height": 34
    },
    "colab_type": "code",
    "id": "ysBX5ksnAH9_",
    "outputId": "7cb7c05f-1ba3-4487-b3a8-02db28a0c555"
   },
   "outputs": [
    {
     "data": {
      "text/plain": [
       "(88435, 22059)"
      ]
     },
     "execution_count": 30,
     "metadata": {
      "tags": []
     },
     "output_type": "execute_result"
    }
   ],
   "source": [
    "X_small = final_X_train[30000:230000]\n",
    "\n",
    "y_small = final_y_train[30000:230000]\n",
    "\n",
    "X_small_t = final_X_train[231000:281000]\n",
    "\n",
    "y_small_t = final_y_train[231000:281000]\n",
    "\n",
    "y_small.sum(), y_small_t.sum()"
   ]
  },
  {
   "cell_type": "markdown",
   "metadata": {
    "colab_type": "text",
    "id": "KXrFOuCAAH-b"
   },
   "source": [
    "## NLP"
   ]
  },
  {
   "cell_type": "markdown",
   "metadata": {
    "colab_type": "text",
    "id": "RdDsta3NAH-j"
   },
   "source": [
    "### Tokenizer"
   ]
  },
  {
   "cell_type": "code",
   "execution_count": 0,
   "metadata": {
    "ExecuteTime": {
     "end_time": "2020-05-14T19:00:59.024018Z",
     "start_time": "2020-05-14T19:00:59.017964Z"
    },
    "colab": {},
    "colab_type": "code",
    "id": "GUM4-e9jAH-n"
   },
   "outputs": [],
   "source": [
    "for i, w in enumerate(sw):\n",
    "    sw[i] = w.replace(\"'\",'')"
   ]
  },
  {
   "cell_type": "code",
   "execution_count": 0,
   "metadata": {
    "ExecuteTime": {
     "end_time": "2020-05-14T19:00:59.041446Z",
     "start_time": "2020-05-14T19:00:59.026559Z"
    },
    "colab": {},
    "colab_type": "code",
    "id": "fexYoVQWAH_E"
   },
   "outputs": [],
   "source": [
    "sw + ['u', 'a', 'aa', 'aaa', 'im', 'ive', 'isnt'];"
   ]
  },
  {
   "cell_type": "code",
   "execution_count": 0,
   "metadata": {
    "ExecuteTime": {
     "end_time": "2020-05-14T19:00:59.056442Z",
     "start_time": "2020-05-14T19:00:59.047684Z"
    },
    "colab": {
     "base_uri": "https://localhost:8080/",
     "height": 34
    },
    "colab_type": "code",
    "id": "2vu8oS4VAH_e",
    "outputId": "1c2c68d6-8f66-4f0b-d660-38a07e4677c8"
   },
   "outputs": [
    {
     "data": {
      "text/plain": [
       "'!\"#$%&\\'()*+,-./:;<=>?@[\\\\]^_`{|}~'"
      ]
     },
     "execution_count": 33,
     "metadata": {
      "tags": []
     },
     "output_type": "execute_result"
    }
   ],
   "source": [
    "pt"
   ]
  },
  {
   "cell_type": "code",
   "execution_count": 0,
   "metadata": {
    "colab": {},
    "colab_type": "code",
    "id": "zD0Sp9D4X0Ho"
   },
   "outputs": [],
   "source": [
    "wordnet_map = {\"N\":wordnet.NOUN, \"V\":wordnet.VERB, \"J\":wordnet.ADJ, \"R\":wordnet.ADV, '':None}\n",
    "lemma = WordNetLemmatizer()\n",
    "\n",
    "def lemon(text):\n",
    "    tagged_text = nltk.pos_tag(text)\n",
    "    return [lemma.lemmatize(word, \n",
    "                wordnet_map.get(pos[0], wordnet.NOUN)) for word, pos in tagged_text]"
   ]
  },
  {
   "cell_type": "code",
   "execution_count": 0,
   "metadata": {
    "ExecuteTime": {
     "end_time": "2020-05-14T19:00:59.086100Z",
     "start_time": "2020-05-14T19:00:59.063141Z"
    },
    "colab": {},
    "colab_type": "code",
    "id": "-vEH6PeFAH_y"
   },
   "outputs": [],
   "source": [
    "def tokenizer(doc):\n",
    "    doc = doc.lower()\n",
    "    doc = unicodedata.normalize('NFKD', doc).encode('ASCII', 'ignore').decode('utf8')\n",
    "    \n",
    "    doc = re.sub(r\"[^a-z ]+\", ' ', doc)\n",
    "    \n",
    "    doc = word_tokenize(doc)\n",
    "\n",
    "    #tags = pos_tag(doc, tagset='universal')\n",
    "    #doc = [word for word,pos in tags if (pos == 'ADJ')]\n",
    "                            #pos == 'NOUN' or pos == 'VERB' or pos == 'ADJ')]\n",
    "                            # or pos == 'NNP' or pos == 'NNS' or pos == 'NNPS')]\n",
    "            \n",
    "    doc = [token for token in doc if token not in sw]\n",
    "\n",
    "    #lemma = WordNetLemmatizer()\n",
    "    #doc = [lemma.lemmatize(token) for token in doc]\n",
    "    \n",
    "    #doc = [stemmer.stem(token) for token in doc]\n",
    "    doc = lemon(doc)\n",
    "    \n",
    "    return doc"
   ]
  },
  {
   "cell_type": "code",
   "execution_count": 0,
   "metadata": {
    "colab": {
     "base_uri": "https://localhost:8080/",
     "height": 34
    },
    "colab_type": "code",
    "id": "ht_pXGO3Z9Y_",
    "outputId": "ea4f584e-2d97-446b-9f3d-8a8b48669ea9"
   },
   "outputs": [
    {
     "data": {
      "text/plain": [
       "['food', 'amaze', 'music', 'awesome', 'service', 'point', 'drink', 'flame']"
      ]
     },
     "execution_count": 36,
     "metadata": {
      "tags": []
     },
     "output_type": "execute_result"
    }
   ],
   "source": [
    "tokenizer(' Food-amazing       Music-awesome         Service-on point  Drinks-flame!! 5/5')"
   ]
  },
  {
   "cell_type": "markdown",
   "metadata": {
    "colab_type": "text",
    "id": "yW9xL2dcAIAL"
   },
   "source": [
    "### TFIDF Vectorize X_tiny data subset"
   ]
  },
  {
   "cell_type": "code",
   "execution_count": 0,
   "metadata": {
    "ExecuteTime": {
     "end_time": "2020-05-14T00:20:04.364443Z",
     "start_time": "2020-05-14T00:20:04.359202Z"
    },
    "colab": {},
    "colab_type": "code",
    "id": "xY3o4D89AIAN"
   },
   "outputs": [],
   "source": [
    "# Create tfidf vectorizer for tiny subset of data\n",
    "tfidf_tiny = TfidfVectorizer(tokenizer=tokenizer)"
   ]
  },
  {
   "cell_type": "code",
   "execution_count": 0,
   "metadata": {
    "ExecuteTime": {
     "end_time": "2020-05-14T00:20:54.970769Z",
     "start_time": "2020-05-14T00:20:04.626791Z"
    },
    "colab": {},
    "colab_type": "code",
    "id": "1P0Qe_cjAIAk"
   },
   "outputs": [],
   "source": [
    "tfidf_X_tiny = tfidf_tiny.fit_transform(X_tiny).todense();"
   ]
  },
  {
   "cell_type": "code",
   "execution_count": 0,
   "metadata": {
    "ExecuteTime": {
     "end_time": "2020-05-14T00:20:55.153319Z",
     "start_time": "2020-05-14T00:20:54.984616Z"
    },
    "colab": {},
    "colab_type": "code",
    "id": "COPOlqqvAIBp"
   },
   "outputs": [],
   "source": [
    "columns = sorted(tfidf_tiny.vocabulary_, key=lambda k: tfidf_tiny.vocabulary_[k])\n",
    "X_tiny_df = pd.DataFrame(tfidf_X_tiny, columns=columns);"
   ]
  },
  {
   "cell_type": "code",
   "execution_count": 0,
   "metadata": {
    "ExecuteTime": {
     "end_time": "2020-05-14T00:20:55.178524Z",
     "start_time": "2020-05-14T00:20:55.162404Z"
    },
    "colab": {
     "base_uri": "https://localhost:8080/",
     "height": 34
    },
    "colab_type": "code",
    "id": "nvhgLfa6AICN",
    "outputId": "d9c90b15-9aa3-4e6a-faff-ac2e3dd8eadf"
   },
   "outputs": [
    {
     "data": {
      "text/plain": [
       "25264"
      ]
     },
     "execution_count": 40,
     "metadata": {
      "tags": []
     },
     "output_type": "execute_result"
    }
   ],
   "source": [
    "len(X_tiny_df.columns)"
   ]
  },
  {
   "cell_type": "code",
   "execution_count": 0,
   "metadata": {
    "ExecuteTime": {
     "end_time": "2020-05-14T00:21:22.458165Z",
     "start_time": "2020-05-14T00:20:55.193659Z"
    },
    "colab": {
     "base_uri": "https://localhost:8080/",
     "height": 204
    },
    "colab_type": "code",
    "id": "xGHAnG7CAICw",
    "outputId": "84cce1c5-4ced-4155-fb38-f0af2288dfc9"
   },
   "outputs": [
    {
     "data": {
      "text/plain": [
       "great        406.653071\n",
       "food         360.371551\n",
       "place        332.916741\n",
       "service      273.577231\n",
       "good         256.344288\n",
       "love         245.933898\n",
       "best         242.734888\n",
       "go           219.673623\n",
       "come         218.292224\n",
       "delicious    217.265806\n",
       "dtype: float64"
      ]
     },
     "execution_count": 41,
     "metadata": {
      "tags": []
     },
     "output_type": "execute_result"
    }
   ],
   "source": [
    "np.sum(X_tiny_df[np.array(y_tiny)==1], axis=0).sort_values(ascending=False)[:10]"
   ]
  },
  {
   "cell_type": "code",
   "execution_count": 0,
   "metadata": {
    "ExecuteTime": {
     "end_time": "2020-05-14T00:21:50.977750Z",
     "start_time": "2020-05-14T00:21:22.481926Z"
    },
    "colab": {
     "base_uri": "https://localhost:8080/",
     "height": 204
    },
    "colab_type": "code",
    "id": "PkDTV2nlAIDM",
    "outputId": "bdbb06c1-5048-4301-cda4-2d12102b2910"
   },
   "outputs": [
    {
     "data": {
      "text/plain": [
       "good       432.974350\n",
       "food       425.509241\n",
       "get        365.785500\n",
       "order      338.818869\n",
       "place      334.869423\n",
       "go         327.700360\n",
       "come       286.248920\n",
       "service    283.742446\n",
       "like       277.868776\n",
       "time       266.420066\n",
       "dtype: float64"
      ]
     },
     "execution_count": 42,
     "metadata": {
      "tags": []
     },
     "output_type": "execute_result"
    }
   ],
   "source": [
    "np.sum(X_tiny_df[np.array(y_tiny)==0], axis=0).sort_values(ascending=False)[:10]"
   ]
  },
  {
   "cell_type": "code",
   "execution_count": 0,
   "metadata": {
    "ExecuteTime": {
     "end_time": "2020-05-14T00:22:09.735742Z",
     "start_time": "2020-05-14T00:21:51.010141Z"
    },
    "colab": {},
    "colab_type": "code",
    "id": "iIiiQg0GAIDu"
   },
   "outputs": [],
   "source": [
    "# Transform tiny test set\n",
    "tfidf_X_tiny_t = tfidf_tiny.transform(X_tiny_t).todense()"
   ]
  },
  {
   "cell_type": "markdown",
   "metadata": {
    "colab_type": "text",
    "id": "td_GTZJgpzC0"
   },
   "source": [
    "### Trial Model with Tiny data subset"
   ]
  },
  {
   "cell_type": "markdown",
   "metadata": {
    "colab_type": "text",
    "id": "dGrd7CaWbQZS"
   },
   "source": [
    "#### Random Forest"
   ]
  },
  {
   "cell_type": "code",
   "execution_count": 0,
   "metadata": {
    "colab": {
     "base_uri": "https://localhost:8080/",
     "height": 153
    },
    "colab_type": "code",
    "id": "3c9ekkzMbN2m",
    "outputId": "68c3f303-5242-4597-f068-25e687910bc7"
   },
   "outputs": [
    {
     "data": {
      "text/plain": [
       "RandomForestClassifier(bootstrap=True, ccp_alpha=0.0, class_weight=None,\n",
       "                       criterion='entropy', max_depth=50, max_features='sqrt',\n",
       "                       max_leaf_nodes=None, max_samples=None,\n",
       "                       min_impurity_decrease=0.0, min_impurity_split=None,\n",
       "                       min_samples_leaf=1, min_samples_split=2,\n",
       "                       min_weight_fraction_leaf=0.0, n_estimators=50,\n",
       "                       n_jobs=None, oob_score=False, random_state=None,\n",
       "                       verbose=0, warm_start=False)"
      ]
     },
     "execution_count": 44,
     "metadata": {
      "tags": []
     },
     "output_type": "execute_result"
    }
   ],
   "source": [
    "# best random forest parameters found\n",
    "rfc = RandomForestClassifier(n_estimators=50, criterion='entropy', max_depth=50, max_features='sqrt')\n",
    "rfc.fit(tfidf_X_tiny, y_tiny)"
   ]
  },
  {
   "cell_type": "code",
   "execution_count": 0,
   "metadata": {
    "colab": {
     "base_uri": "https://localhost:8080/",
     "height": 34
    },
    "colab_type": "code",
    "id": "CwNFr4DSpxl7",
    "outputId": "122c9920-225c-4664-b27d-ffb566207dd4"
   },
   "outputs": [
    {
     "data": {
      "text/plain": [
       "(0.9726, 0.9691961776278809)"
      ]
     },
     "execution_count": 45,
     "metadata": {
      "tags": []
     },
     "output_type": "execute_result"
    }
   ],
   "source": [
    "# training scores\n",
    "accuracy_score(y_tiny, rfc.predict(tfidf_X_tiny)), f1_score(y_tiny, rfc.predict(tfidf_X_tiny))"
   ]
  },
  {
   "cell_type": "code",
   "execution_count": 0,
   "metadata": {
    "colab": {
     "base_uri": "https://localhost:8080/",
     "height": 34
    },
    "colab_type": "code",
    "id": "Qo0WZjpkbcx5",
    "outputId": "032eb650-0ab1-4c8f-9050-802b5b61df9b"
   },
   "outputs": [
    {
     "data": {
      "text/plain": [
       "(0.773, 0.7295687395758875)"
      ]
     },
     "execution_count": 46,
     "metadata": {
      "tags": []
     },
     "output_type": "execute_result"
    }
   ],
   "source": [
    "rfc_y_tiny_prob = rfc.predict_proba(tfidf_X_tiny_t)\n",
    "rfc_y_tiny_hat = rfc.predict(tfidf_X_tiny_t)\n",
    "\n",
    "# test scores\n",
    "accuracy_score(y_tiny_t, rfc_y_tiny_hat), f1_score(y_tiny_t, rfc_y_tiny_hat)"
   ]
  },
  {
   "cell_type": "code",
   "execution_count": 0,
   "metadata": {
    "colab": {
     "base_uri": "https://localhost:8080/",
     "height": 34
    },
    "colab_type": "code",
    "id": "KMRLTO17bhis",
    "outputId": "ee98bc10-a613-44bd-d561-6c4bff9c9154"
   },
   "outputs": [
    {
     "data": {
      "text/plain": [
       "25264"
      ]
     },
     "execution_count": 47,
     "metadata": {
      "tags": []
     },
     "output_type": "execute_result"
    }
   ],
   "source": [
    "importances = rfc.feature_importances_; len(importances)"
   ]
  },
  {
   "cell_type": "code",
   "execution_count": 0,
   "metadata": {
    "colab": {
     "base_uri": "https://localhost:8080/",
     "height": 187
    },
    "colab_type": "code",
    "id": "ePMGjfWxbk_k",
    "outputId": "87beeb0d-21c9-4c55-f1f5-0b4b09f71157"
   },
   "outputs": [
    {
     "data": {
      "text/plain": [
       "['love',\n",
       " 'delicious',\n",
       " 'great',\n",
       " 'best',\n",
       " 'amaze',\n",
       " 'bad',\n",
       " 'good',\n",
       " 'definitely',\n",
       " 'recommend',\n",
       " 'would']"
      ]
     },
     "execution_count": 48,
     "metadata": {
      "tags": []
     },
     "output_type": "execute_result"
    }
   ],
   "source": [
    "indices = importances.argsort()[::-1]\n",
    "# top 500 features in the model\n",
    "X_tiny_df.columns[indices].tolist()[:10]"
   ]
  },
  {
   "cell_type": "code",
   "execution_count": 0,
   "metadata": {
    "colab": {},
    "colab_type": "code",
    "id": "13lrObhubrZO"
   },
   "outputs": [],
   "source": [
    "sVOCAB = X_tiny_df.columns[indices].tolist()[:1000]\n",
    "\n",
    "mVOCAB = X_tiny_df.columns[indices].tolist()[:5000]\n",
    "\n",
    "bigVOCAB = X_tiny_df.columns[indices].tolist()[:10000]"
   ]
  },
  {
   "cell_type": "markdown",
   "metadata": {
    "colab_type": "text",
    "id": "Q4SjMjPeAIEL"
   },
   "source": [
    "### TFIDF Vectorize X_small data subset"
   ]
  },
  {
   "cell_type": "code",
   "execution_count": 0,
   "metadata": {
    "ExecuteTime": {
     "end_time": "2020-05-14T00:56:35.847314Z",
     "start_time": "2020-05-14T00:56:35.841457Z"
    },
    "colab": {},
    "colab_type": "code",
    "id": "CW16wSb4AIEO"
   },
   "outputs": [],
   "source": [
    "# Create tfidf vectorizer for small subset of data\n",
    "tfidf_small = TfidfVectorizer(tokenizer=tokenizer, vocabulary=sVOCAB)"
   ]
  },
  {
   "cell_type": "code",
   "execution_count": 0,
   "metadata": {
    "ExecuteTime": {
     "end_time": "2020-05-14T01:05:36.160228Z",
     "start_time": "2020-05-14T00:56:38.190548Z"
    },
    "colab": {},
    "colab_type": "code",
    "id": "61wOUEo0AIEk"
   },
   "outputs": [],
   "source": [
    "tfidf_X_small = tfidf_small.fit_transform(X_small).todense();"
   ]
  },
  {
   "cell_type": "code",
   "execution_count": 0,
   "metadata": {
    "ExecuteTime": {
     "end_time": "2020-05-14T01:46:38.254085Z",
     "start_time": "2020-05-14T01:46:38.223137Z"
    },
    "colab": {},
    "colab_type": "code",
    "id": "KxHxwtRAAIFZ"
   },
   "outputs": [],
   "source": [
    "columns = sorted(tfidf_small.vocabulary_, key=lambda k: tfidf_small.vocabulary_[k])\n",
    "X_small_df = pd.DataFrame(tfidf_X_small, columns=columns);"
   ]
  },
  {
   "cell_type": "code",
   "execution_count": 0,
   "metadata": {
    "ExecuteTime": {
     "end_time": "2020-05-14T01:48:53.180863Z",
     "start_time": "2020-05-14T01:47:00.169579Z"
    },
    "colab": {},
    "colab_type": "code",
    "id": "0gJvA9GDAIHf"
   },
   "outputs": [],
   "source": [
    "# Transform small test set\n",
    "tfidf_X_small_t = tfidf_small.transform(X_small_t).todense()"
   ]
  },
  {
   "cell_type": "markdown",
   "metadata": {
    "colab_type": "text",
    "id": "QrKfgJHfAIH5"
   },
   "source": [
    "### TFIDF Vectorize X_half_1 data subset"
   ]
  },
  {
   "cell_type": "code",
   "execution_count": 0,
   "metadata": {
    "ExecuteTime": {
     "end_time": "2020-05-14T19:01:32.942812Z",
     "start_time": "2020-05-14T19:01:32.939877Z"
    },
    "colab": {},
    "colab_type": "code",
    "id": "Zs0dT4P1AIH9"
   },
   "outputs": [],
   "source": [
    "# Create tfidf vectorizer for half of data\n",
    "tfidf_half_1 = TfidfVectorizer(tokenizer=tokenizer, vocabulary=sVOCAB)"
   ]
  },
  {
   "cell_type": "code",
   "execution_count": 0,
   "metadata": {
    "ExecuteTime": {
     "end_time": "2020-05-14T19:27:32.352893Z",
     "start_time": "2020-05-14T19:01:33.639463Z"
    },
    "colab": {},
    "colab_type": "code",
    "id": "FuGmin-pAIIR"
   },
   "outputs": [],
   "source": [
    "tfidf_X_half_1 = tfidf_half_1.fit_transform(X_half_1).todense();"
   ]
  },
  {
   "cell_type": "code",
   "execution_count": 0,
   "metadata": {
    "ExecuteTime": {
     "end_time": "2020-05-14T19:27:32.561112Z",
     "start_time": "2020-05-14T19:27:32.419616Z"
    },
    "colab": {},
    "colab_type": "code",
    "id": "iO8w2fQ5AII6"
   },
   "outputs": [],
   "source": [
    "columns = sorted(tfidf_half_1.vocabulary_, key=lambda k: tfidf_half_1.vocabulary_[k])\n",
    "X_half_1_df = pd.DataFrame(tfidf_X_half_1, columns=columns);"
   ]
  },
  {
   "cell_type": "code",
   "execution_count": 0,
   "metadata": {
    "ExecuteTime": {
     "end_time": "2020-05-14T19:34:14.585963Z",
     "start_time": "2020-05-14T19:27:41.845075Z"
    },
    "colab": {},
    "colab_type": "code",
    "id": "mG2uLZ1kAIKV"
   },
   "outputs": [],
   "source": [
    "# Transform half 1 test set\n",
    "tfidf_X_half_1_t = tfidf_half_1.transform(X_half_1_t).todense()"
   ]
  },
  {
   "cell_type": "markdown",
   "metadata": {
    "colab_type": "text",
    "id": "GeFC28omAIKm"
   },
   "source": [
    "### TFIDF Vectorize Final Train and Test"
   ]
  },
  {
   "cell_type": "code",
   "execution_count": 0,
   "metadata": {
    "ExecuteTime": {
     "end_time": "2020-05-14T18:30:46.879181Z",
     "start_time": "2020-05-14T18:30:46.873298Z"
    },
    "colab": {},
    "colab_type": "code",
    "id": "Xwmqp7MKAIKn"
   },
   "outputs": [],
   "source": [
    "# Create tfidf vectorizer for final training data\n",
    "tfidf_final = TfidfVectorizer(tokenizer=tokenizer, vocabulary=sVOCAB)"
   ]
  },
  {
   "cell_type": "code",
   "execution_count": 0,
   "metadata": {
    "ExecuteTime": {
     "end_time": "2020-05-14T18:59:56.160423Z",
     "start_time": "2020-05-14T18:30:52.322999Z"
    },
    "colab": {},
    "colab_type": "code",
    "id": "9e-vrLhpAIK0"
   },
   "outputs": [],
   "source": [
    "tfidf_X_train = tfidf_final.fit_transform(final_X_train).todense();"
   ]
  },
  {
   "cell_type": "code",
   "execution_count": 0,
   "metadata": {
    "colab": {},
    "colab_type": "code",
    "id": "aVG-M6ayAILB"
   },
   "outputs": [],
   "source": [
    "columns = sorted(tfidf_final.vocabulary_, key=lambda k: tfidf_final.vocabulary_[k])\n",
    "X_final_df = pd.DataFrame(tfidf_X_train, columns=columns);"
   ]
  },
  {
   "cell_type": "code",
   "execution_count": 0,
   "metadata": {
    "colab": {},
    "colab_type": "code",
    "id": "w8nq60fdAILY"
   },
   "outputs": [],
   "source": [
    "# Transform final test set\n",
    "tfidf_X_test = tfidf_final.transform(final_X_test).todense()"
   ]
  },
  {
   "cell_type": "markdown",
   "metadata": {
    "colab_type": "text",
    "id": "5EYHk2TdAIL4"
   },
   "source": [
    "# Models"
   ]
  },
  {
   "cell_type": "markdown",
   "metadata": {
    "colab_type": "text",
    "id": "k7ssakRLAIY1"
   },
   "source": [
    "### Models with Small Dataset"
   ]
  },
  {
   "cell_type": "markdown",
   "metadata": {
    "colab_type": "text",
    "id": "JUkpiKOqAIY2"
   },
   "source": [
    "#### Logistic Regression"
   ]
  },
  {
   "cell_type": "code",
   "execution_count": 0,
   "metadata": {
    "ExecuteTime": {
     "end_time": "2020-05-14T02:04:52.103213Z",
     "start_time": "2020-05-14T02:04:52.087389Z"
    },
    "colab": {},
    "colab_type": "code",
    "id": "OyHPl42SAIY6"
   },
   "outputs": [],
   "source": [
    "small_log = LogisticRegression(solver='saga')"
   ]
  },
  {
   "cell_type": "code",
   "execution_count": 0,
   "metadata": {
    "ExecuteTime": {
     "end_time": "2020-05-14T02:34:31.097708Z",
     "start_time": "2020-05-14T02:04:53.400473Z"
    },
    "colab": {
     "base_uri": "https://localhost:8080/",
     "height": 102
    },
    "colab_type": "code",
    "id": "pbODHQ8HAIZM",
    "outputId": "07a5f7c3-7888-4c0e-a528-30a2777d5d9c"
   },
   "outputs": [
    {
     "data": {
      "text/plain": [
       "LogisticRegression(C=1.0, class_weight=None, dual=False, fit_intercept=True,\n",
       "                   intercept_scaling=1, l1_ratio=None, max_iter=100,\n",
       "                   multi_class='auto', n_jobs=None, penalty='l2',\n",
       "                   random_state=None, solver='saga', tol=0.0001, verbose=0,\n",
       "                   warm_start=False)"
      ]
     },
     "execution_count": 62,
     "metadata": {
      "tags": []
     },
     "output_type": "execute_result"
    }
   ],
   "source": [
    "small_log.fit(tfidf_X_small, y_small)"
   ]
  },
  {
   "cell_type": "code",
   "execution_count": 0,
   "metadata": {
    "ExecuteTime": {
     "end_time": "2020-05-14T02:35:19.952910Z",
     "start_time": "2020-05-14T02:34:39.614906Z"
    },
    "colab": {
     "base_uri": "https://localhost:8080/",
     "height": 34
    },
    "colab_type": "code",
    "id": "EGKEDP_VAIZn",
    "outputId": "53646abb-4c12-4a71-a217-61857358bc13"
   },
   "outputs": [
    {
     "data": {
      "text/plain": [
       "(0.823985, 0.8007065257389365)"
      ]
     },
     "execution_count": 63,
     "metadata": {
      "tags": []
     },
     "output_type": "execute_result"
    }
   ],
   "source": [
    "# training scores\n",
    "accuracy_score(y_small, small_log.predict(tfidf_X_small)), f1_score(y_small, small_log.predict(tfidf_X_small))"
   ]
  },
  {
   "cell_type": "code",
   "execution_count": 0,
   "metadata": {
    "ExecuteTime": {
     "end_time": "2020-05-14T05:44:27.454192Z",
     "start_time": "2020-05-14T05:44:07.666858Z"
    },
    "colab": {},
    "colab_type": "code",
    "id": "1yT7aALmAIZy"
   },
   "outputs": [],
   "source": [
    "small_log_y_prob = small_log.predict_proba(tfidf_X_small_t)[:,1]\n",
    "small_log_y_hat = small_log.predict(tfidf_X_small_t)"
   ]
  },
  {
   "cell_type": "code",
   "execution_count": 0,
   "metadata": {
    "ExecuteTime": {
     "end_time": "2020-05-14T03:02:27.428672Z",
     "start_time": "2020-05-14T03:02:27.333314Z"
    },
    "colab": {
     "base_uri": "https://localhost:8080/",
     "height": 34
    },
    "colab_type": "code",
    "id": "w2sskdG7AIaB",
    "outputId": "20444ca0-bcc0-4f42-db24-521a5d6ac74a"
   },
   "outputs": [
    {
     "data": {
      "text/plain": [
       "(0.82214, 0.7982394446082991)"
      ]
     },
     "execution_count": 65,
     "metadata": {
      "tags": []
     },
     "output_type": "execute_result"
    }
   ],
   "source": [
    "# test scores\n",
    "accuracy_score(y_small_t, small_log_y_hat), f1_score(y_small_t, small_log_y_hat)"
   ]
  },
  {
   "cell_type": "markdown",
   "metadata": {
    "colab_type": "text",
    "id": "7hxBmK_OAIcR"
   },
   "source": [
    "#### Random Forest"
   ]
  },
  {
   "cell_type": "code",
   "execution_count": 0,
   "metadata": {
    "ExecuteTime": {
     "end_time": "2020-05-14T03:22:37.348740Z",
     "start_time": "2020-05-14T03:09:06.102391Z"
    },
    "colab": {
     "base_uri": "https://localhost:8080/",
     "height": 153
    },
    "colab_type": "code",
    "id": "XPfpg4PHAIcS",
    "outputId": "404c8217-fcbb-4628-e993-48ad21c5b042"
   },
   "outputs": [
    {
     "data": {
      "text/plain": [
       "RandomForestClassifier(bootstrap=True, ccp_alpha=0.0, class_weight=None,\n",
       "                       criterion='entropy', max_depth=50, max_features='sqrt',\n",
       "                       max_leaf_nodes=None, max_samples=None,\n",
       "                       min_impurity_decrease=0.0, min_impurity_split=None,\n",
       "                       min_samples_leaf=1, min_samples_split=2,\n",
       "                       min_weight_fraction_leaf=0.0, n_estimators=50,\n",
       "                       n_jobs=None, oob_score=False, random_state=None,\n",
       "                       verbose=0, warm_start=False)"
      ]
     },
     "execution_count": 71,
     "metadata": {
      "tags": []
     },
     "output_type": "execute_result"
    }
   ],
   "source": [
    "# best random forest parameters found\n",
    "small_rfc = RandomForestClassifier(n_estimators=50, criterion='entropy', max_depth=50, max_features='sqrt')\n",
    "small_rfc.fit(tfidf_X_small, y_small)"
   ]
  },
  {
   "cell_type": "code",
   "execution_count": 0,
   "metadata": {
    "ExecuteTime": {
     "end_time": "2020-05-14T03:29:05.246852Z",
     "start_time": "2020-05-14T03:28:04.019832Z"
    },
    "colab": {
     "base_uri": "https://localhost:8080/",
     "height": 34
    },
    "colab_type": "code",
    "id": "DgU8_msNAIcl",
    "outputId": "d4b001a0-4224-4e86-82f3-ede3c1d3c781"
   },
   "outputs": [
    {
     "data": {
      "text/plain": [
       "(0.957805, 0.9522753878084229)"
      ]
     },
     "execution_count": 72,
     "metadata": {
      "tags": []
     },
     "output_type": "execute_result"
    }
   ],
   "source": [
    "# training scores\n",
    "accuracy_score(y_small, small_rfc.predict(tfidf_X_small)), f1_score(y_small, small_rfc.predict(tfidf_X_small))"
   ]
  },
  {
   "cell_type": "code",
   "execution_count": 0,
   "metadata": {
    "ExecuteTime": {
     "end_time": "2020-05-14T05:45:09.147149Z",
     "start_time": "2020-05-14T05:44:27.469597Z"
    },
    "colab": {},
    "colab_type": "code",
    "id": "RHbBBONlAIcw"
   },
   "outputs": [],
   "source": [
    "small_rfc_y_prob = small_rfc.predict_proba(tfidf_X_small_t)[:,1]\n",
    "small_rfc_y_hat = small_rfc.predict(tfidf_X_small_t)"
   ]
  },
  {
   "cell_type": "code",
   "execution_count": 0,
   "metadata": {
    "ExecuteTime": {
     "end_time": "2020-05-14T03:54:16.528300Z",
     "start_time": "2020-05-14T03:54:16.492069Z"
    },
    "colab": {
     "base_uri": "https://localhost:8080/",
     "height": 34
    },
    "colab_type": "code",
    "id": "SFiJuHePAIc4",
    "outputId": "2951f954-53d1-4ef4-bea9-6a6fdcc2ce4f"
   },
   "outputs": [
    {
     "data": {
      "text/plain": [
       "(0.79588, 0.7635748702742772)"
      ]
     },
     "execution_count": 74,
     "metadata": {
      "tags": []
     },
     "output_type": "execute_result"
    }
   ],
   "source": [
    "# test scores\n",
    "accuracy_score(y_small_t, small_rfc_y_hat), f1_score(y_small_t, small_rfc_y_hat)"
   ]
  },
  {
   "cell_type": "markdown",
   "metadata": {
    "colab_type": "text",
    "id": "PEnsVrpqAIdH"
   },
   "source": [
    "#### Gradient Boosting Classifier"
   ]
  },
  {
   "cell_type": "code",
   "execution_count": 0,
   "metadata": {
    "ExecuteTime": {
     "end_time": "2020-05-14T03:33:13.896464Z",
     "start_time": "2020-05-14T03:29:14.373850Z"
    },
    "colab": {
     "base_uri": "https://localhost:8080/",
     "height": 187
    },
    "colab_type": "code",
    "id": "iwdhgKQ-AIdH",
    "outputId": "ed5183e4-575f-4672-88b0-594d5dbb9408"
   },
   "outputs": [
    {
     "data": {
      "text/plain": [
       "GradientBoostingClassifier(ccp_alpha=0.0, criterion='friedman_mse', init=None,\n",
       "                           learning_rate=0.1, loss='deviance', max_depth=5,\n",
       "                           max_features='sqrt', max_leaf_nodes=None,\n",
       "                           min_impurity_decrease=0.0, min_impurity_split=None,\n",
       "                           min_samples_leaf=1, min_samples_split=2,\n",
       "                           min_weight_fraction_leaf=0.0, n_estimators=50,\n",
       "                           n_iter_no_change=None, presort='deprecated',\n",
       "                           random_state=None, subsample=1.0, tol=0.0001,\n",
       "                           validation_fraction=0.1, verbose=0,\n",
       "                           warm_start=False)"
      ]
     },
     "execution_count": 75,
     "metadata": {
      "tags": []
     },
     "output_type": "execute_result"
    }
   ],
   "source": [
    "small_gbc = GradientBoostingClassifier(learning_rate=0.1,\n",
    "                                  n_estimators=50,\n",
    "                                  max_depth=5,\n",
    "                                max_features='sqrt')\n",
    "small_gbc.fit(tfidf_X_small, y_small)\n"
   ]
  },
  {
   "cell_type": "code",
   "execution_count": 0,
   "metadata": {
    "ExecuteTime": {
     "end_time": "2020-05-14T03:48:22.648643Z",
     "start_time": "2020-05-14T03:47:38.363826Z"
    },
    "colab": {
     "base_uri": "https://localhost:8080/",
     "height": 34
    },
    "colab_type": "code",
    "id": "C0bIp-XaAIdV",
    "outputId": "3d40e92f-aef5-47bc-e4f7-84b2506f90b3"
   },
   "outputs": [
    {
     "data": {
      "text/plain": [
       "(0.782225, 0.7405788210348258)"
      ]
     },
     "execution_count": 76,
     "metadata": {
      "tags": []
     },
     "output_type": "execute_result"
    }
   ],
   "source": [
    "accuracy_score(y_small, small_gbc.predict(tfidf_X_small)), f1_score(y_small, small_gbc.predict(tfidf_X_small))"
   ]
  },
  {
   "cell_type": "code",
   "execution_count": 0,
   "metadata": {
    "ExecuteTime": {
     "end_time": "2020-05-14T03:48:28.480370Z",
     "start_time": "2020-05-14T03:48:22.670016Z"
    },
    "colab": {},
    "colab_type": "code",
    "id": "2C5WDmlDAIdt"
   },
   "outputs": [],
   "source": [
    "small_gbc_y_hat = small_gbc.predict(tfidf_X_small_t)\n",
    "small_gbc_y_prob = small_gbc.predict_proba(tfidf_X_small_t)[:,1]"
   ]
  },
  {
   "cell_type": "code",
   "execution_count": 0,
   "metadata": {
    "colab": {},
    "colab_type": "code",
    "id": "jq9t9HAaDeWw"
   },
   "outputs": [],
   "source": [
    "accuracy_score(y_small_t, small_gbc_y_hat), f1_score(y_small_t, small_gbc_y_hat)"
   ]
  },
  {
   "cell_type": "markdown",
   "metadata": {
    "colab_type": "text",
    "id": "XK7WM1mlDkwf"
   },
   "source": [
    "#### GridSearch"
   ]
  },
  {
   "cell_type": "code",
   "execution_count": 0,
   "metadata": {
    "colab": {},
    "colab_type": "code",
    "id": "3u7B35DKDjnS"
   },
   "outputs": [],
   "source": [
    "# number of estimator is not an important hyperparameter because the \n",
    "# higher it is the better the model\n",
    "\n",
    "parameters = {'learning_rate': [0.1,0.05], 'max_depth': [5,15,30], \n",
    "              'max_features':['sqrt','log2', 10]}\n",
    "gbc_gs = GradientBoostingClassifier(n_estimators=50)\n",
    "\n",
    "# scoring (CV) default is accuracy\n",
    "# refit is the score it ranks on\n",
    "# cv is number of cross validation\n",
    "\n",
    "gs_gb = GridSearchCV(gbc_gs, parameters, scoring=['accuracy','f1','roc_auc'], \n",
    "                  refit='accuracy', cv=3)\n"
   ]
  },
  {
   "cell_type": "code",
   "execution_count": 0,
   "metadata": {
    "colab": {
     "base_uri": "https://localhost:8080/",
     "height": 442
    },
    "colab_type": "code",
    "id": "DAgLB8gNDjvp",
    "outputId": "826e6f07-b8a2-4717-a332-a275e9533f21"
   },
   "outputs": [
    {
     "data": {
      "text/plain": [
       "GridSearchCV(cv=3, error_score=nan,\n",
       "             estimator=GradientBoostingClassifier(ccp_alpha=0.0,\n",
       "                                                  criterion='friedman_mse',\n",
       "                                                  init=None, learning_rate=0.1,\n",
       "                                                  loss='deviance', max_depth=3,\n",
       "                                                  max_features=None,\n",
       "                                                  max_leaf_nodes=None,\n",
       "                                                  min_impurity_decrease=0.0,\n",
       "                                                  min_impurity_split=None,\n",
       "                                                  min_samples_leaf=1,\n",
       "                                                  min_samples_split=2,\n",
       "                                                  min_weight_fraction_leaf=0.0,\n",
       "                                                  n_estimators=50,\n",
       "                                                  n_iter_no_ch...\n",
       "                                                  presort='deprecated',\n",
       "                                                  random_state=None,\n",
       "                                                  subsample=1.0, tol=0.0001,\n",
       "                                                  validation_fraction=0.1,\n",
       "                                                  verbose=0, warm_start=False),\n",
       "             iid='deprecated', n_jobs=None,\n",
       "             param_grid={'learning_rate': [0.1, 0.05], 'max_depth': [5, 15, 30],\n",
       "                         'max_features': ['sqrt', 'log2', 10]},\n",
       "             pre_dispatch='2*n_jobs', refit='accuracy',\n",
       "             return_train_score=False, scoring=['accuracy', 'f1', 'roc_auc'],\n",
       "             verbose=0)"
      ]
     },
     "execution_count": 60,
     "metadata": {
      "tags": []
     },
     "output_type": "execute_result"
    }
   ],
   "source": [
    "gs_gb.fit(tfidf_X_small, y_small)"
   ]
  },
  {
   "cell_type": "code",
   "execution_count": 0,
   "metadata": {
    "colab": {
     "base_uri": "https://localhost:8080/",
     "height": 926
    },
    "colab_type": "code",
    "id": "kKIrDLsVDj_h",
    "outputId": "e54491b8-229c-4368-a764-00a2ba8db9d1"
   },
   "outputs": [
    {
     "data": {
      "text/html": [
       "<div>\n",
       "<style scoped>\n",
       "    .dataframe tbody tr th:only-of-type {\n",
       "        vertical-align: middle;\n",
       "    }\n",
       "\n",
       "    .dataframe tbody tr th {\n",
       "        vertical-align: top;\n",
       "    }\n",
       "\n",
       "    .dataframe thead th {\n",
       "        text-align: right;\n",
       "    }\n",
       "</style>\n",
       "<table border=\"1\" class=\"dataframe\">\n",
       "  <thead>\n",
       "    <tr style=\"text-align: right;\">\n",
       "      <th></th>\n",
       "      <th>0</th>\n",
       "      <th>1</th>\n",
       "      <th>2</th>\n",
       "      <th>3</th>\n",
       "      <th>4</th>\n",
       "      <th>5</th>\n",
       "      <th>6</th>\n",
       "      <th>7</th>\n",
       "      <th>8</th>\n",
       "      <th>9</th>\n",
       "      <th>10</th>\n",
       "      <th>11</th>\n",
       "      <th>12</th>\n",
       "      <th>13</th>\n",
       "      <th>14</th>\n",
       "      <th>15</th>\n",
       "      <th>16</th>\n",
       "      <th>17</th>\n",
       "    </tr>\n",
       "  </thead>\n",
       "  <tbody>\n",
       "    <tr>\n",
       "      <th>mean_fit_time</th>\n",
       "      <td>30.2094</td>\n",
       "      <td>10.7259</td>\n",
       "      <td>11.3035</td>\n",
       "      <td>90.2112</td>\n",
       "      <td>35.0721</td>\n",
       "      <td>37.0473</td>\n",
       "      <td>202.362</td>\n",
       "      <td>98.3242</td>\n",
       "      <td>104.25</td>\n",
       "      <td>28.6256</td>\n",
       "      <td>10.431</td>\n",
       "      <td>11.4536</td>\n",
       "      <td>90.0756</td>\n",
       "      <td>33.8531</td>\n",
       "      <td>36.9531</td>\n",
       "      <td>198.711</td>\n",
       "      <td>95.2559</td>\n",
       "      <td>99.7068</td>\n",
       "    </tr>\n",
       "    <tr>\n",
       "      <th>std_fit_time</th>\n",
       "      <td>0.402128</td>\n",
       "      <td>0.0159627</td>\n",
       "      <td>0.0973027</td>\n",
       "      <td>0.625363</td>\n",
       "      <td>0.883828</td>\n",
       "      <td>0.404029</td>\n",
       "      <td>2.95053</td>\n",
       "      <td>1.12904</td>\n",
       "      <td>1.27946</td>\n",
       "      <td>0.15716</td>\n",
       "      <td>0.387594</td>\n",
       "      <td>0.175826</td>\n",
       "      <td>1.68163</td>\n",
       "      <td>0.348845</td>\n",
       "      <td>0.518742</td>\n",
       "      <td>18.4474</td>\n",
       "      <td>1.54684</td>\n",
       "      <td>1.47287</td>\n",
       "    </tr>\n",
       "    <tr>\n",
       "      <th>mean_score_time</th>\n",
       "      <td>0.940701</td>\n",
       "      <td>0.948302</td>\n",
       "      <td>0.941739</td>\n",
       "      <td>1.59941</td>\n",
       "      <td>1.67158</td>\n",
       "      <td>1.64932</td>\n",
       "      <td>2.56292</td>\n",
       "      <td>2.57446</td>\n",
       "      <td>2.55721</td>\n",
       "      <td>0.80544</td>\n",
       "      <td>0.977509</td>\n",
       "      <td>0.97037</td>\n",
       "      <td>1.53823</td>\n",
       "      <td>1.63435</td>\n",
       "      <td>1.63261</td>\n",
       "      <td>2.54001</td>\n",
       "      <td>2.59731</td>\n",
       "      <td>2.58922</td>\n",
       "    </tr>\n",
       "    <tr>\n",
       "      <th>std_score_time</th>\n",
       "      <td>0.0939029</td>\n",
       "      <td>0.00740914</td>\n",
       "      <td>0.00535685</td>\n",
       "      <td>0.0245752</td>\n",
       "      <td>0.0293105</td>\n",
       "      <td>0.0145744</td>\n",
       "      <td>0.0337769</td>\n",
       "      <td>0.0161168</td>\n",
       "      <td>0.0463529</td>\n",
       "      <td>0.0048322</td>\n",
       "      <td>0.0842396</td>\n",
       "      <td>0.00240634</td>\n",
       "      <td>0.011125</td>\n",
       "      <td>0.0117418</td>\n",
       "      <td>0.0119137</td>\n",
       "      <td>0.0574637</td>\n",
       "      <td>0.0426202</td>\n",
       "      <td>0.0465706</td>\n",
       "    </tr>\n",
       "    <tr>\n",
       "      <th>param_learning_rate</th>\n",
       "      <td>0.1</td>\n",
       "      <td>0.1</td>\n",
       "      <td>0.1</td>\n",
       "      <td>0.1</td>\n",
       "      <td>0.1</td>\n",
       "      <td>0.1</td>\n",
       "      <td>0.1</td>\n",
       "      <td>0.1</td>\n",
       "      <td>0.1</td>\n",
       "      <td>0.05</td>\n",
       "      <td>0.05</td>\n",
       "      <td>0.05</td>\n",
       "      <td>0.05</td>\n",
       "      <td>0.05</td>\n",
       "      <td>0.05</td>\n",
       "      <td>0.05</td>\n",
       "      <td>0.05</td>\n",
       "      <td>0.05</td>\n",
       "    </tr>\n",
       "    <tr>\n",
       "      <th>param_max_depth</th>\n",
       "      <td>5</td>\n",
       "      <td>5</td>\n",
       "      <td>5</td>\n",
       "      <td>15</td>\n",
       "      <td>15</td>\n",
       "      <td>15</td>\n",
       "      <td>30</td>\n",
       "      <td>30</td>\n",
       "      <td>30</td>\n",
       "      <td>5</td>\n",
       "      <td>5</td>\n",
       "      <td>5</td>\n",
       "      <td>15</td>\n",
       "      <td>15</td>\n",
       "      <td>15</td>\n",
       "      <td>30</td>\n",
       "      <td>30</td>\n",
       "      <td>30</td>\n",
       "    </tr>\n",
       "    <tr>\n",
       "      <th>param_max_features</th>\n",
       "      <td>sqrt</td>\n",
       "      <td>log2</td>\n",
       "      <td>10</td>\n",
       "      <td>sqrt</td>\n",
       "      <td>log2</td>\n",
       "      <td>10</td>\n",
       "      <td>sqrt</td>\n",
       "      <td>log2</td>\n",
       "      <td>10</td>\n",
       "      <td>sqrt</td>\n",
       "      <td>log2</td>\n",
       "      <td>10</td>\n",
       "      <td>sqrt</td>\n",
       "      <td>log2</td>\n",
       "      <td>10</td>\n",
       "      <td>sqrt</td>\n",
       "      <td>log2</td>\n",
       "      <td>10</td>\n",
       "    </tr>\n",
       "    <tr>\n",
       "      <th>params</th>\n",
       "      <td>{'learning_rate': 0.1, 'max_depth': 5, 'max_fe...</td>\n",
       "      <td>{'learning_rate': 0.1, 'max_depth': 5, 'max_fe...</td>\n",
       "      <td>{'learning_rate': 0.1, 'max_depth': 5, 'max_fe...</td>\n",
       "      <td>{'learning_rate': 0.1, 'max_depth': 15, 'max_f...</td>\n",
       "      <td>{'learning_rate': 0.1, 'max_depth': 15, 'max_f...</td>\n",
       "      <td>{'learning_rate': 0.1, 'max_depth': 15, 'max_f...</td>\n",
       "      <td>{'learning_rate': 0.1, 'max_depth': 30, 'max_f...</td>\n",
       "      <td>{'learning_rate': 0.1, 'max_depth': 30, 'max_f...</td>\n",
       "      <td>{'learning_rate': 0.1, 'max_depth': 30, 'max_f...</td>\n",
       "      <td>{'learning_rate': 0.05, 'max_depth': 5, 'max_f...</td>\n",
       "      <td>{'learning_rate': 0.05, 'max_depth': 5, 'max_f...</td>\n",
       "      <td>{'learning_rate': 0.05, 'max_depth': 5, 'max_f...</td>\n",
       "      <td>{'learning_rate': 0.05, 'max_depth': 15, 'max_...</td>\n",
       "      <td>{'learning_rate': 0.05, 'max_depth': 15, 'max_...</td>\n",
       "      <td>{'learning_rate': 0.05, 'max_depth': 15, 'max_...</td>\n",
       "      <td>{'learning_rate': 0.05, 'max_depth': 30, 'max_...</td>\n",
       "      <td>{'learning_rate': 0.05, 'max_depth': 30, 'max_...</td>\n",
       "      <td>{'learning_rate': 0.05, 'max_depth': 30, 'max_...</td>\n",
       "    </tr>\n",
       "    <tr>\n",
       "      <th>split0_test_accuracy</th>\n",
       "      <td>0.775931</td>\n",
       "      <td>0.767786</td>\n",
       "      <td>0.768236</td>\n",
       "      <td>0.799856</td>\n",
       "      <td>0.798026</td>\n",
       "      <td>0.797156</td>\n",
       "      <td>0.800831</td>\n",
       "      <td>0.801041</td>\n",
       "      <td>0.802331</td>\n",
       "      <td>0.757901</td>\n",
       "      <td>0.738446</td>\n",
       "      <td>0.739571</td>\n",
       "      <td>0.790166</td>\n",
       "      <td>0.786281</td>\n",
       "      <td>0.783356</td>\n",
       "      <td>0.796586</td>\n",
       "      <td>0.795146</td>\n",
       "      <td>0.795191</td>\n",
       "    </tr>\n",
       "    <tr>\n",
       "      <th>split1_test_accuracy</th>\n",
       "      <td>0.778856</td>\n",
       "      <td>0.765896</td>\n",
       "      <td>0.771311</td>\n",
       "      <td>0.798926</td>\n",
       "      <td>0.797516</td>\n",
       "      <td>0.797846</td>\n",
       "      <td>0.801266</td>\n",
       "      <td>0.801686</td>\n",
       "      <td>0.799916</td>\n",
       "      <td>0.759896</td>\n",
       "      <td>0.741161</td>\n",
       "      <td>0.742766</td>\n",
       "      <td>0.792221</td>\n",
       "      <td>0.786521</td>\n",
       "      <td>0.787781</td>\n",
       "      <td>0.797201</td>\n",
       "      <td>0.797381</td>\n",
       "      <td>0.796751</td>\n",
       "    </tr>\n",
       "    <tr>\n",
       "      <th>split2_test_accuracy</th>\n",
       "      <td>0.773543</td>\n",
       "      <td>0.767318</td>\n",
       "      <td>0.764408</td>\n",
       "      <td>0.798278</td>\n",
       "      <td>0.796178</td>\n",
       "      <td>0.797888</td>\n",
       "      <td>0.800243</td>\n",
       "      <td>0.800108</td>\n",
       "      <td>0.800978</td>\n",
       "      <td>0.759083</td>\n",
       "      <td>0.730567</td>\n",
       "      <td>0.736927</td>\n",
       "      <td>0.790013</td>\n",
       "      <td>0.783038</td>\n",
       "      <td>0.787733</td>\n",
       "      <td>0.794618</td>\n",
       "      <td>0.793193</td>\n",
       "      <td>0.794123</td>\n",
       "    </tr>\n",
       "    <tr>\n",
       "      <th>mean_test_accuracy</th>\n",
       "      <td>0.77611</td>\n",
       "      <td>0.767</td>\n",
       "      <td>0.767985</td>\n",
       "      <td>0.79902</td>\n",
       "      <td>0.79724</td>\n",
       "      <td>0.79763</td>\n",
       "      <td>0.80078</td>\n",
       "      <td>0.800945</td>\n",
       "      <td>0.801075</td>\n",
       "      <td>0.75896</td>\n",
       "      <td>0.736725</td>\n",
       "      <td>0.739755</td>\n",
       "      <td>0.7908</td>\n",
       "      <td>0.78528</td>\n",
       "      <td>0.78629</td>\n",
       "      <td>0.796135</td>\n",
       "      <td>0.79524</td>\n",
       "      <td>0.795355</td>\n",
       "    </tr>\n",
       "    <tr>\n",
       "      <th>std_test_accuracy</th>\n",
       "      <td>0.00217286</td>\n",
       "      <td>0.000803618</td>\n",
       "      <td>0.00282393</td>\n",
       "      <td>0.000647642</td>\n",
       "      <td>0.000779299</td>\n",
       "      <td>0.000335597</td>\n",
       "      <td>0.000419188</td>\n",
       "      <td>0.000647778</td>\n",
       "      <td>0.000988297</td>\n",
       "      <td>0.000819051</td>\n",
       "      <td>0.00449299</td>\n",
       "      <td>0.00238726</td>\n",
       "      <td>0.00100677</td>\n",
       "      <td>0.00158847</td>\n",
       "      <td>0.00207469</td>\n",
       "      <td>0.0011017</td>\n",
       "      <td>0.00171107</td>\n",
       "      <td>0.00107915</td>\n",
       "    </tr>\n",
       "    <tr>\n",
       "      <th>rank_test_accuracy</th>\n",
       "      <td>13</td>\n",
       "      <td>15</td>\n",
       "      <td>14</td>\n",
       "      <td>4</td>\n",
       "      <td>6</td>\n",
       "      <td>5</td>\n",
       "      <td>3</td>\n",
       "      <td>2</td>\n",
       "      <td>1</td>\n",
       "      <td>16</td>\n",
       "      <td>18</td>\n",
       "      <td>17</td>\n",
       "      <td>10</td>\n",
       "      <td>12</td>\n",
       "      <td>11</td>\n",
       "      <td>7</td>\n",
       "      <td>9</td>\n",
       "      <td>8</td>\n",
       "    </tr>\n",
       "    <tr>\n",
       "      <th>split0_test_f1</th>\n",
       "      <td>0.731205</td>\n",
       "      <td>0.711364</td>\n",
       "      <td>0.712481</td>\n",
       "      <td>0.7691</td>\n",
       "      <td>0.764882</td>\n",
       "      <td>0.763215</td>\n",
       "      <td>0.771156</td>\n",
       "      <td>0.768815</td>\n",
       "      <td>0.770666</td>\n",
       "      <td>0.689041</td>\n",
       "      <td>0.636312</td>\n",
       "      <td>0.647587</td>\n",
       "      <td>0.754057</td>\n",
       "      <td>0.742332</td>\n",
       "      <td>0.739197</td>\n",
       "      <td>0.762982</td>\n",
       "      <td>0.756703</td>\n",
       "      <td>0.756977</td>\n",
       "    </tr>\n",
       "    <tr>\n",
       "      <th>split1_test_f1</th>\n",
       "      <td>0.735433</td>\n",
       "      <td>0.718808</td>\n",
       "      <td>0.717635</td>\n",
       "      <td>0.768156</td>\n",
       "      <td>0.764444</td>\n",
       "      <td>0.766045</td>\n",
       "      <td>0.772154</td>\n",
       "      <td>0.770138</td>\n",
       "      <td>0.768279</td>\n",
       "      <td>0.691823</td>\n",
       "      <td>0.651816</td>\n",
       "      <td>0.650868</td>\n",
       "      <td>0.756101</td>\n",
       "      <td>0.74303</td>\n",
       "      <td>0.745347</td>\n",
       "      <td>0.76423</td>\n",
       "      <td>0.761612</td>\n",
       "      <td>0.75976</td>\n",
       "    </tr>\n",
       "    <tr>\n",
       "      <th>split2_test_f1</th>\n",
       "      <td>0.726171</td>\n",
       "      <td>0.71064</td>\n",
       "      <td>0.709396</td>\n",
       "      <td>0.767303</td>\n",
       "      <td>0.763695</td>\n",
       "      <td>0.765433</td>\n",
       "      <td>0.770052</td>\n",
       "      <td>0.767775</td>\n",
       "      <td>0.769019</td>\n",
       "      <td>0.692053</td>\n",
       "      <td>0.632724</td>\n",
       "      <td>0.642009</td>\n",
       "      <td>0.752234</td>\n",
       "      <td>0.737695</td>\n",
       "      <td>0.74435</td>\n",
       "      <td>0.76078</td>\n",
       "      <td>0.754605</td>\n",
       "      <td>0.756403</td>\n",
       "    </tr>\n",
       "    <tr>\n",
       "      <th>mean_test_f1</th>\n",
       "      <td>0.730936</td>\n",
       "      <td>0.713604</td>\n",
       "      <td>0.713171</td>\n",
       "      <td>0.768187</td>\n",
       "      <td>0.76434</td>\n",
       "      <td>0.764898</td>\n",
       "      <td>0.771121</td>\n",
       "      <td>0.768909</td>\n",
       "      <td>0.769321</td>\n",
       "      <td>0.690972</td>\n",
       "      <td>0.640284</td>\n",
       "      <td>0.646821</td>\n",
       "      <td>0.754131</td>\n",
       "      <td>0.741019</td>\n",
       "      <td>0.742965</td>\n",
       "      <td>0.762664</td>\n",
       "      <td>0.75764</td>\n",
       "      <td>0.757713</td>\n",
       "    </tr>\n",
       "    <tr>\n",
       "      <th>std_test_f1</th>\n",
       "      <td>0.00378583</td>\n",
       "      <td>0.00369161</td>\n",
       "      <td>0.00339899</td>\n",
       "      <td>0.000733896</td>\n",
       "      <td>0.000489861</td>\n",
       "      <td>0.00121542</td>\n",
       "      <td>0.00085877</td>\n",
       "      <td>0.000966792</td>\n",
       "      <td>0.000997451</td>\n",
       "      <td>0.0013687</td>\n",
       "      <td>0.00828479</td>\n",
       "      <td>0.00365724</td>\n",
       "      <td>0.00157937</td>\n",
       "      <td>0.00236761</td>\n",
       "      <td>0.00269502</td>\n",
       "      <td>0.00142627</td>\n",
       "      <td>0.00293631</td>\n",
       "      <td>0.00146626</td>\n",
       "    </tr>\n",
       "    <tr>\n",
       "      <th>rank_test_f1</th>\n",
       "      <td>13</td>\n",
       "      <td>14</td>\n",
       "      <td>15</td>\n",
       "      <td>4</td>\n",
       "      <td>6</td>\n",
       "      <td>5</td>\n",
       "      <td>1</td>\n",
       "      <td>3</td>\n",
       "      <td>2</td>\n",
       "      <td>16</td>\n",
       "      <td>18</td>\n",
       "      <td>17</td>\n",
       "      <td>10</td>\n",
       "      <td>12</td>\n",
       "      <td>11</td>\n",
       "      <td>7</td>\n",
       "      <td>9</td>\n",
       "      <td>8</td>\n",
       "    </tr>\n",
       "    <tr>\n",
       "      <th>split0_test_roc_auc</th>\n",
       "      <td>0.860513</td>\n",
       "      <td>0.850481</td>\n",
       "      <td>0.84779</td>\n",
       "      <td>0.882819</td>\n",
       "      <td>0.878711</td>\n",
       "      <td>0.88018</td>\n",
       "      <td>0.884651</td>\n",
       "      <td>0.883671</td>\n",
       "      <td>0.884199</td>\n",
       "      <td>0.847299</td>\n",
       "      <td>0.833132</td>\n",
       "      <td>0.831664</td>\n",
       "      <td>0.875083</td>\n",
       "      <td>0.868588</td>\n",
       "      <td>0.867085</td>\n",
       "      <td>0.880901</td>\n",
       "      <td>0.878974</td>\n",
       "      <td>0.879345</td>\n",
       "    </tr>\n",
       "    <tr>\n",
       "      <th>split1_test_roc_auc</th>\n",
       "      <td>0.860732</td>\n",
       "      <td>0.840947</td>\n",
       "      <td>0.849254</td>\n",
       "      <td>0.88183</td>\n",
       "      <td>0.878758</td>\n",
       "      <td>0.879109</td>\n",
       "      <td>0.884049</td>\n",
       "      <td>0.883777</td>\n",
       "      <td>0.883463</td>\n",
       "      <td>0.847505</td>\n",
       "      <td>0.830781</td>\n",
       "      <td>0.832552</td>\n",
       "      <td>0.876134</td>\n",
       "      <td>0.866758</td>\n",
       "      <td>0.869221</td>\n",
       "      <td>0.880857</td>\n",
       "      <td>0.878434</td>\n",
       "      <td>0.879577</td>\n",
       "    </tr>\n",
       "    <tr>\n",
       "      <th>split2_test_roc_auc</th>\n",
       "      <td>0.860045</td>\n",
       "      <td>0.847247</td>\n",
       "      <td>0.846411</td>\n",
       "      <td>0.881984</td>\n",
       "      <td>0.878171</td>\n",
       "      <td>0.880184</td>\n",
       "      <td>0.884489</td>\n",
       "      <td>0.883521</td>\n",
       "      <td>0.884052</td>\n",
       "      <td>0.844634</td>\n",
       "      <td>0.816673</td>\n",
       "      <td>0.824118</td>\n",
       "      <td>0.874259</td>\n",
       "      <td>0.865586</td>\n",
       "      <td>0.869425</td>\n",
       "      <td>0.879921</td>\n",
       "      <td>0.877495</td>\n",
       "      <td>0.879804</td>\n",
       "    </tr>\n",
       "    <tr>\n",
       "      <th>mean_test_roc_auc</th>\n",
       "      <td>0.86043</td>\n",
       "      <td>0.846225</td>\n",
       "      <td>0.847818</td>\n",
       "      <td>0.882211</td>\n",
       "      <td>0.878547</td>\n",
       "      <td>0.879824</td>\n",
       "      <td>0.884397</td>\n",
       "      <td>0.883656</td>\n",
       "      <td>0.883905</td>\n",
       "      <td>0.846479</td>\n",
       "      <td>0.826862</td>\n",
       "      <td>0.829445</td>\n",
       "      <td>0.875159</td>\n",
       "      <td>0.866977</td>\n",
       "      <td>0.868577</td>\n",
       "      <td>0.88056</td>\n",
       "      <td>0.878301</td>\n",
       "      <td>0.879575</td>\n",
       "    </tr>\n",
       "    <tr>\n",
       "      <th>std_test_roc_auc</th>\n",
       "      <td>0.000286378</td>\n",
       "      <td>0.00395871</td>\n",
       "      <td>0.00116063</td>\n",
       "      <td>0.000434381</td>\n",
       "      <td>0.000266445</td>\n",
       "      <td>0.00050595</td>\n",
       "      <td>0.00025436</td>\n",
       "      <td>0.000105106</td>\n",
       "      <td>0.000318094</td>\n",
       "      <td>0.00130769</td>\n",
       "      <td>0.00726839</td>\n",
       "      <td>0.00378381</td>\n",
       "      <td>0.000767307</td>\n",
       "      <td>0.00123539</td>\n",
       "      <td>0.0010584</td>\n",
       "      <td>0.000452047</td>\n",
       "      <td>0.000610822</td>\n",
       "      <td>0.000187647</td>\n",
       "    </tr>\n",
       "    <tr>\n",
       "      <th>rank_test_roc_auc</th>\n",
       "      <td>13</td>\n",
       "      <td>16</td>\n",
       "      <td>14</td>\n",
       "      <td>4</td>\n",
       "      <td>8</td>\n",
       "      <td>6</td>\n",
       "      <td>1</td>\n",
       "      <td>3</td>\n",
       "      <td>2</td>\n",
       "      <td>15</td>\n",
       "      <td>18</td>\n",
       "      <td>17</td>\n",
       "      <td>10</td>\n",
       "      <td>12</td>\n",
       "      <td>11</td>\n",
       "      <td>5</td>\n",
       "      <td>9</td>\n",
       "      <td>7</td>\n",
       "    </tr>\n",
       "  </tbody>\n",
       "</table>\n",
       "</div>"
      ],
      "text/plain": [
       "                                                                      0  ...                                                 17\n",
       "mean_fit_time                                                   30.2094  ...                                            99.7068\n",
       "std_fit_time                                                   0.402128  ...                                            1.47287\n",
       "mean_score_time                                                0.940701  ...                                            2.58922\n",
       "std_score_time                                                0.0939029  ...                                          0.0465706\n",
       "param_learning_rate                                                 0.1  ...                                               0.05\n",
       "param_max_depth                                                       5  ...                                                 30\n",
       "param_max_features                                                 sqrt  ...                                                 10\n",
       "params                {'learning_rate': 0.1, 'max_depth': 5, 'max_fe...  ...  {'learning_rate': 0.05, 'max_depth': 30, 'max_...\n",
       "split0_test_accuracy                                           0.775931  ...                                           0.795191\n",
       "split1_test_accuracy                                           0.778856  ...                                           0.796751\n",
       "split2_test_accuracy                                           0.773543  ...                                           0.794123\n",
       "mean_test_accuracy                                              0.77611  ...                                           0.795355\n",
       "std_test_accuracy                                            0.00217286  ...                                         0.00107915\n",
       "rank_test_accuracy                                                   13  ...                                                  8\n",
       "split0_test_f1                                                 0.731205  ...                                           0.756977\n",
       "split1_test_f1                                                 0.735433  ...                                            0.75976\n",
       "split2_test_f1                                                 0.726171  ...                                           0.756403\n",
       "mean_test_f1                                                   0.730936  ...                                           0.757713\n",
       "std_test_f1                                                  0.00378583  ...                                         0.00146626\n",
       "rank_test_f1                                                         13  ...                                                  8\n",
       "split0_test_roc_auc                                            0.860513  ...                                           0.879345\n",
       "split1_test_roc_auc                                            0.860732  ...                                           0.879577\n",
       "split2_test_roc_auc                                            0.860045  ...                                           0.879804\n",
       "mean_test_roc_auc                                               0.86043  ...                                           0.879575\n",
       "std_test_roc_auc                                            0.000286378  ...                                        0.000187647\n",
       "rank_test_roc_auc                                                    13  ...                                                  7\n",
       "\n",
       "[26 rows x 18 columns]"
      ]
     },
     "execution_count": 61,
     "metadata": {
      "tags": []
     },
     "output_type": "execute_result"
    }
   ],
   "source": [
    "pd.DataFrame(gs_gb.cv_results_).T"
   ]
  },
  {
   "cell_type": "code",
   "execution_count": 0,
   "metadata": {
    "colab": {
     "base_uri": "https://localhost:8080/",
     "height": 34
    },
    "colab_type": "code",
    "id": "_l_EMuYjDj7D",
    "outputId": "b5cf4fdf-7a08-4f81-8ee4-974aa5177567"
   },
   "outputs": [
    {
     "data": {
      "text/plain": [
       "{'learning_rate': 0.1, 'max_depth': 30, 'max_features': 10}"
      ]
     },
     "execution_count": 63,
     "metadata": {
      "tags": []
     },
     "output_type": "execute_result"
    }
   ],
   "source": [
    "# best parameters {'learning_rate': 0.1, 'max_depth': 50, 'max_features': 'log2'}\n",
    "gs_gb.best_params_"
   ]
  },
  {
   "cell_type": "code",
   "execution_count": 0,
   "metadata": {
    "colab": {
     "base_uri": "https://localhost:8080/",
     "height": 34
    },
    "colab_type": "code",
    "id": "BPr2WEk3Dj4M",
    "outputId": "39e40465-83b3-4815-d658-748116182a90"
   },
   "outputs": [
    {
     "data": {
      "text/plain": [
       "0.8010749995150513"
      ]
     },
     "execution_count": 64,
     "metadata": {
      "tags": []
     },
     "output_type": "execute_result"
    }
   ],
   "source": [
    "# best estimator's score \n",
    "gs_gb.best_score_"
   ]
  },
  {
   "cell_type": "markdown",
   "metadata": {
    "colab_type": "text",
    "id": "4WddkkcCAIfJ"
   },
   "source": [
    "#### AdaBoost Classifier"
   ]
  },
  {
   "cell_type": "code",
   "execution_count": 0,
   "metadata": {
    "ExecuteTime": {
     "end_time": "2020-05-14T05:28:39.411278Z",
     "start_time": "2020-05-14T03:55:07.642692Z"
    },
    "colab": {},
    "colab_type": "code",
    "id": "Ey_H2BxLAIfL"
   },
   "outputs": [],
   "source": [
    "abc = AdaBoostClassifier(learning_rate=0.2, n_estimators=50)\n",
    "abc.fit(tfidf_X_small, y_small)"
   ]
  },
  {
   "cell_type": "code",
   "execution_count": 0,
   "metadata": {
    "ExecuteTime": {
     "end_time": "2020-05-14T03:48:22.648643Z",
     "start_time": "2020-05-14T03:47:38.363826Z"
    },
    "colab": {},
    "colab_type": "code",
    "id": "XP4KJ2GtAJZT"
   },
   "outputs": [],
   "source": [
    "accuracy_score(y_small, abc.predict(tfidf_X_small)), f1_score(y_small, abc.predict(tfidf_X_small))"
   ]
  },
  {
   "cell_type": "code",
   "execution_count": 0,
   "metadata": {
    "ExecuteTime": {
     "end_time": "2020-05-14T03:48:28.480370Z",
     "start_time": "2020-05-14T03:48:22.670016Z"
    },
    "colab": {},
    "colab_type": "code",
    "id": "vlFrejD2AJZk"
   },
   "outputs": [],
   "source": [
    "small_abc_y_hat = abc.predict(tfidf_X_small_t)\n",
    "small_abc_y_prob = abc.predict_proba(tfidf_X_small_t)[:,1]"
   ]
  },
  {
   "cell_type": "code",
   "execution_count": 0,
   "metadata": {
    "ExecuteTime": {
     "end_time": "2020-05-14T03:48:28.543063Z",
     "start_time": "2020-05-14T03:48:28.487970Z"
    },
    "colab": {},
    "colab_type": "code",
    "id": "5nZvwPXSAJZn"
   },
   "outputs": [],
   "source": [
    "accuracy_score(y_small_t, small_abc_y_hat), f1_score(y_small_t, small_abc_y_hat)"
   ]
  },
  {
   "cell_type": "markdown",
   "metadata": {
    "colab_type": "text",
    "id": "809NoZFcAJZx"
   },
   "source": [
    "#### Naive Bayes Model"
   ]
  },
  {
   "cell_type": "code",
   "execution_count": 0,
   "metadata": {
    "ExecuteTime": {
     "end_time": "2020-05-14T03:03:21.388278Z",
     "start_time": "2020-05-14T03:02:47.323156Z"
    },
    "colab": {},
    "colab_type": "code",
    "id": "jbxXcPYAAJZy"
   },
   "outputs": [],
   "source": [
    "small_nbc = MultinomialNB().fit(tfidf_X_small, y_small)"
   ]
  },
  {
   "cell_type": "code",
   "execution_count": 0,
   "metadata": {
    "ExecuteTime": {
     "end_time": "2020-05-14T03:07:35.886326Z",
     "start_time": "2020-05-14T03:07:00.458471Z"
    },
    "colab": {
     "base_uri": "https://localhost:8080/",
     "height": 34
    },
    "colab_type": "code",
    "id": "GmrsmRS-AJZ1",
    "outputId": "cc2bcd6b-a9c0-4505-e1f8-922ed0392c3e"
   },
   "outputs": [
    {
     "data": {
      "text/plain": [
       "(0.800065, 0.7663887736681291)"
      ]
     },
     "execution_count": 80,
     "metadata": {
      "tags": []
     },
     "output_type": "execute_result"
    }
   ],
   "source": [
    "accuracy_score(y_small, small_nbc.predict(tfidf_X_small)), f1_score(y_small, small_nbc.predict(tfidf_X_small))"
   ]
  },
  {
   "cell_type": "code",
   "execution_count": 0,
   "metadata": {
    "ExecuteTime": {
     "end_time": "2020-05-14T03:07:40.299194Z",
     "start_time": "2020-05-14T03:07:35.905462Z"
    },
    "colab": {},
    "colab_type": "code",
    "id": "uXxXYUD7AJaG"
   },
   "outputs": [],
   "source": [
    "small_nbc_y_hat = small_nbc.predict(tfidf_X_small_t)\n",
    "small_nbc_y_prob = small_nbc.predict_proba(tfidf_X_small_t)[:,1]"
   ]
  },
  {
   "cell_type": "code",
   "execution_count": 0,
   "metadata": {
    "ExecuteTime": {
     "end_time": "2020-05-14T03:08:14.336649Z",
     "start_time": "2020-05-14T03:08:14.286671Z"
    },
    "colab": {
     "base_uri": "https://localhost:8080/",
     "height": 34
    },
    "colab_type": "code",
    "id": "yxgcIhGXAJaN",
    "outputId": "1edf5afe-c447-47ae-df30-64c1bb2faec5"
   },
   "outputs": [
    {
     "data": {
      "text/plain": [
       "(0.80044, 0.7668582644048787)"
      ]
     },
     "execution_count": 82,
     "metadata": {
      "tags": []
     },
     "output_type": "execute_result"
    }
   ],
   "source": [
    "accuracy_score(y_small_t, small_nbc_y_hat), f1_score(y_small_t, small_nbc_y_hat)"
   ]
  },
  {
   "cell_type": "markdown",
   "metadata": {
    "colab_type": "text",
    "id": "sFdfUsWNAJaQ"
   },
   "source": [
    "### Models with Half Train Dataset"
   ]
  },
  {
   "cell_type": "markdown",
   "metadata": {
    "colab_type": "text",
    "id": "ndMfvuBaAJaS"
   },
   "source": [
    "#### Logistic Regression (solver=lbfgs)"
   ]
  },
  {
   "cell_type": "code",
   "execution_count": 0,
   "metadata": {
    "ExecuteTime": {
     "end_time": "2020-05-14T20:57:20.042379Z",
     "start_time": "2020-05-14T20:57:20.011182Z"
    },
    "colab": {},
    "colab_type": "code",
    "id": "tCm7R9FcAJaT"
   },
   "outputs": [],
   "source": [
    "half_log = LogisticRegression()"
   ]
  },
  {
   "cell_type": "code",
   "execution_count": 0,
   "metadata": {
    "ExecuteTime": {
     "start_time": "2020-05-14T20:57:20.779Z"
    },
    "colab": {
     "base_uri": "https://localhost:8080/",
     "height": 258
    },
    "colab_type": "code",
    "id": "knnHMW7QAJaV",
    "outputId": "7cae49e7-3e58-4840-ccc9-35bd84b23e75"
   },
   "outputs": [
    {
     "name": "stderr",
     "output_type": "stream",
     "text": [
      "/usr/local/lib/python3.6/dist-packages/sklearn/linear_model/_logistic.py:940: ConvergenceWarning: lbfgs failed to converge (status=1):\n",
      "STOP: TOTAL NO. of ITERATIONS REACHED LIMIT.\n",
      "\n",
      "Increase the number of iterations (max_iter) or scale the data as shown in:\n",
      "    https://scikit-learn.org/stable/modules/preprocessing.html\n",
      "Please also refer to the documentation for alternative solver options:\n",
      "    https://scikit-learn.org/stable/modules/linear_model.html#logistic-regression\n",
      "  extra_warning_msg=_LOGISTIC_SOLVER_CONVERGENCE_MSG)\n"
     ]
    },
    {
     "data": {
      "text/plain": [
       "LogisticRegression(C=1.0, class_weight=None, dual=False, fit_intercept=True,\n",
       "                   intercept_scaling=1, l1_ratio=None, max_iter=100,\n",
       "                   multi_class='auto', n_jobs=None, penalty='l2',\n",
       "                   random_state=None, solver='lbfgs', tol=0.0001, verbose=0,\n",
       "                   warm_start=False)"
      ]
     },
     "execution_count": 88,
     "metadata": {
      "tags": []
     },
     "output_type": "execute_result"
    }
   ],
   "source": [
    "half_log.fit(tfidf_X_half_1, y_half_1)"
   ]
  },
  {
   "cell_type": "code",
   "execution_count": 0,
   "metadata": {
    "ExecuteTime": {
     "end_time": "2020-05-14T15:42:41.201523Z",
     "start_time": "2020-05-14T15:42:18.185008Z"
    },
    "colab": {
     "base_uri": "https://localhost:8080/",
     "height": 34
    },
    "colab_type": "code",
    "id": "zTUdNBv_AJaf",
    "outputId": "3cea031a-1e51-498c-8b9c-9aa484861d90"
   },
   "outputs": [
    {
     "data": {
      "text/plain": [
       "(0.8233216588655036, 0.8013155569952001)"
      ]
     },
     "execution_count": 89,
     "metadata": {
      "tags": []
     },
     "output_type": "execute_result"
    }
   ],
   "source": [
    "# training scores\n",
    "accuracy_score(y_half_1, half_log.predict(tfidf_X_half_1)), f1_score(y_half_1, half_log.predict(tfidf_X_half_1))"
   ]
  },
  {
   "cell_type": "code",
   "execution_count": 0,
   "metadata": {
    "ExecuteTime": {
     "end_time": "2020-05-14T15:42:48.765517Z",
     "start_time": "2020-05-14T15:42:45.442897Z"
    },
    "colab": {},
    "colab_type": "code",
    "id": "ZOWCO-o0AJdX"
   },
   "outputs": [],
   "source": [
    "log_y_half_1_prob = half_log.predict_proba(tfidf_X_half_1_t)[:,1]\n",
    "log_y_half_1_hat = half_log.predict(tfidf_X_half_1_t)"
   ]
  },
  {
   "cell_type": "code",
   "execution_count": 0,
   "metadata": {
    "ExecuteTime": {
     "end_time": "2020-05-14T15:44:46.650001Z",
     "start_time": "2020-05-14T15:44:46.508913Z"
    },
    "colab": {
     "base_uri": "https://localhost:8080/",
     "height": 34
    },
    "colab_type": "code",
    "id": "jQH_4EMQAJde",
    "outputId": "476405b1-90b5-4015-b454-c50090694ad4"
   },
   "outputs": [
    {
     "data": {
      "text/plain": [
       "(0.82, 0.7976760850322454)"
      ]
     },
     "execution_count": 91,
     "metadata": {
      "tags": []
     },
     "output_type": "execute_result"
    }
   ],
   "source": [
    "# test scores\n",
    "accuracy_score(y_half_1_t, log_y_half_1_hat), f1_score(y_half_1_t, log_y_half_1_hat)"
   ]
  },
  {
   "cell_type": "code",
   "execution_count": 0,
   "metadata": {
    "colab": {
     "base_uri": "https://localhost:8080/",
     "height": 34
    },
    "colab_type": "code",
    "id": "wbTNEyKAAJdj",
    "outputId": "3de4f3ea-d070-4179-f343-a0ceaef099c9"
   },
   "outputs": [
    {
     "data": {
      "text/plain": [
       "0.9025628926873407"
      ]
     },
     "execution_count": 92,
     "metadata": {
      "tags": []
     },
     "output_type": "execute_result"
    }
   ],
   "source": [
    "roc_auc_score(y_half_1_t, log_y_half_1_prob)"
   ]
  },
  {
   "cell_type": "markdown",
   "metadata": {
    "colab_type": "text",
    "id": "a8ExtHKcAJdu"
   },
   "source": [
    "#### Logistic Regression (solver=saga)"
   ]
  },
  {
   "cell_type": "code",
   "execution_count": 0,
   "metadata": {
    "ExecuteTime": {
     "end_time": "2020-05-14T15:26:29.549136Z",
     "start_time": "2020-05-14T15:26:29.516217Z"
    },
    "colab": {},
    "colab_type": "code",
    "id": "5OI6QuhXAJdu"
   },
   "outputs": [],
   "source": [
    "half_saga = LogisticRegression(n_jobs=-1, solver='saga')"
   ]
  },
  {
   "cell_type": "code",
   "execution_count": 0,
   "metadata": {
    "ExecuteTime": {
     "end_time": "2020-05-14T15:41:50.459554Z",
     "start_time": "2020-05-14T15:26:31.754024Z"
    },
    "colab": {
     "base_uri": "https://localhost:8080/",
     "height": 102
    },
    "colab_type": "code",
    "id": "1r8QYATHAJdy",
    "outputId": "31eeadd6-aa43-458c-bc60-39b64edb9012"
   },
   "outputs": [
    {
     "data": {
      "text/plain": [
       "LogisticRegression(C=1.0, class_weight=None, dual=False, fit_intercept=True,\n",
       "                   intercept_scaling=1, l1_ratio=None, max_iter=100,\n",
       "                   multi_class='auto', n_jobs=-1, penalty='l2',\n",
       "                   random_state=None, solver='saga', tol=0.0001, verbose=0,\n",
       "                   warm_start=False)"
      ]
     },
     "execution_count": 94,
     "metadata": {
      "tags": []
     },
     "output_type": "execute_result"
    }
   ],
   "source": [
    "half_saga.fit(tfidf_X_half_1, y_half_1)"
   ]
  },
  {
   "cell_type": "code",
   "execution_count": 0,
   "metadata": {
    "ExecuteTime": {
     "end_time": "2020-05-14T15:42:41.201523Z",
     "start_time": "2020-05-14T15:42:18.185008Z"
    },
    "colab": {
     "base_uri": "https://localhost:8080/",
     "height": 34
    },
    "colab_type": "code",
    "id": "P21XFB_6AJd-",
    "outputId": "2e6b79a5-65fd-44fa-d182-848e83ba2c9d"
   },
   "outputs": [
    {
     "data": {
      "text/plain": [
       "(0.8233069293967464, 0.8012978957965624)"
      ]
     },
     "execution_count": 95,
     "metadata": {
      "tags": []
     },
     "output_type": "execute_result"
    }
   ],
   "source": [
    "# training scores\n",
    "accuracy_score(y_half_1, half_saga.predict(tfidf_X_half_1)), f1_score(y_half_1, half_saga.predict(tfidf_X_half_1))"
   ]
  },
  {
   "cell_type": "code",
   "execution_count": 0,
   "metadata": {
    "ExecuteTime": {
     "end_time": "2020-05-14T15:42:48.765517Z",
     "start_time": "2020-05-14T15:42:45.442897Z"
    },
    "colab": {},
    "colab_type": "code",
    "id": "c0vbb9oOAJeQ"
   },
   "outputs": [],
   "source": [
    "saga_y_half_1_prob = half_saga.predict_proba(tfidf_X_half_1_t)[:,1]\n",
    "saga_y_half_1_hat = half_saga.predict(tfidf_X_half_1_t)"
   ]
  },
  {
   "cell_type": "code",
   "execution_count": 0,
   "metadata": {
    "ExecuteTime": {
     "end_time": "2020-05-14T15:44:46.650001Z",
     "start_time": "2020-05-14T15:44:46.508913Z"
    },
    "colab": {
     "base_uri": "https://localhost:8080/",
     "height": 34
    },
    "colab_type": "code",
    "id": "H_nGY1RrAJfg",
    "outputId": "50cb4dc1-75b6-4928-fe55-627c74a14964"
   },
   "outputs": [
    {
     "data": {
      "text/plain": [
       "(0.8199375, 0.7976143643924918)"
      ]
     },
     "execution_count": 97,
     "metadata": {
      "tags": []
     },
     "output_type": "execute_result"
    }
   ],
   "source": [
    "# test scores\n",
    "accuracy_score(y_half_1_t, saga_y_half_1_hat), f1_score(y_half_1_t, saga_y_half_1_hat)"
   ]
  },
  {
   "cell_type": "code",
   "execution_count": 0,
   "metadata": {
    "colab": {
     "base_uri": "https://localhost:8080/",
     "height": 34
    },
    "colab_type": "code",
    "id": "D-Nb_KFPAJfu",
    "outputId": "5e3201db-6d38-4ec9-8506-d970686861a5"
   },
   "outputs": [
    {
     "data": {
      "text/plain": [
       "0.9025628838271391"
      ]
     },
     "execution_count": 98,
     "metadata": {
      "tags": []
     },
     "output_type": "execute_result"
    }
   ],
   "source": [
    "roc_auc_score(y_half_1_t, saga_y_half_1_prob)"
   ]
  },
  {
   "cell_type": "markdown",
   "metadata": {
    "colab_type": "text",
    "id": "5B2y7ULdAJgY"
   },
   "source": [
    "#### Random Forest"
   ]
  },
  {
   "cell_type": "code",
   "execution_count": 0,
   "metadata": {
    "ExecuteTime": {
     "end_time": "2020-05-14T15:57:44.232917Z",
     "start_time": "2020-05-14T15:45:24.832258Z"
    },
    "colab": {
     "base_uri": "https://localhost:8080/",
     "height": 153
    },
    "colab_type": "code",
    "id": "whyrvLXgAJgZ",
    "outputId": "21102ec9-4ce2-4eb4-df4a-0830953e3cfc"
   },
   "outputs": [
    {
     "data": {
      "text/plain": [
       "RandomForestClassifier(bootstrap=True, ccp_alpha=0.0, class_weight=None,\n",
       "                       criterion='entropy', max_depth=50, max_features='log2',\n",
       "                       max_leaf_nodes=None, max_samples=None,\n",
       "                       min_impurity_decrease=0.0, min_impurity_split=None,\n",
       "                       min_samples_leaf=1, min_samples_split=2,\n",
       "                       min_weight_fraction_leaf=0.0, n_estimators=50,\n",
       "                       n_jobs=None, oob_score=False, random_state=None,\n",
       "                       verbose=0, warm_start=False)"
      ]
     },
     "execution_count": 99,
     "metadata": {
      "tags": []
     },
     "output_type": "execute_result"
    }
   ],
   "source": [
    "# best random forest parameters found with gridsearch\n",
    "half_rfc = RandomForestClassifier(n_estimators=50, criterion='entropy', max_depth=50, max_features='log2')\n",
    "half_rfc.fit(tfidf_X_half_1, y_half_1)"
   ]
  },
  {
   "cell_type": "code",
   "execution_count": 0,
   "metadata": {
    "ExecuteTime": {
     "end_time": "2020-05-14T15:59:17.740677Z",
     "start_time": "2020-05-14T15:57:50.975311Z"
    },
    "colab": {
     "base_uri": "https://localhost:8080/",
     "height": 34
    },
    "colab_type": "code",
    "id": "yRt-1wlWAJgk",
    "outputId": "da91774a-07be-44bc-a4c4-d224c09238fe"
   },
   "outputs": [
    {
     "data": {
      "text/plain": [
       "(0.9221858531635626, 0.9143265918034915)"
      ]
     },
     "execution_count": 100,
     "metadata": {
      "tags": []
     },
     "output_type": "execute_result"
    }
   ],
   "source": [
    "# training scores\n",
    "accuracy_score(y_half_1, half_rfc.predict(tfidf_X_half_1)), f1_score(y_half_1, half_rfc.predict(tfidf_X_half_1))"
   ]
  },
  {
   "cell_type": "code",
   "execution_count": 0,
   "metadata": {
    "ExecuteTime": {
     "end_time": "2020-05-14T16:24:11.181915Z",
     "start_time": "2020-05-14T16:23:57.137503Z"
    },
    "colab": {},
    "colab_type": "code",
    "id": "4QENIKGlAJgm"
   },
   "outputs": [],
   "source": [
    "rfc_y_half_1_prob = half_rfc.predict_proba(tfidf_X_half_1_t)[:,1]\n",
    "rfc_y_half_1_hat = half_rfc.predict(tfidf_X_half_1_t)"
   ]
  },
  {
   "cell_type": "code",
   "execution_count": 0,
   "metadata": {
    "ExecuteTime": {
     "end_time": "2020-05-14T16:24:37.247334Z",
     "start_time": "2020-05-14T16:24:37.124037Z"
    },
    "colab": {
     "base_uri": "https://localhost:8080/",
     "height": 34
    },
    "colab_type": "code",
    "id": "sL6kyPECAJgp",
    "outputId": "ff624c6d-2f39-46b6-8004-55751d14272f"
   },
   "outputs": [
    {
     "data": {
      "text/plain": [
       "(0.7935375, 0.7593992629171583)"
      ]
     },
     "execution_count": 102,
     "metadata": {
      "tags": []
     },
     "output_type": "execute_result"
    }
   ],
   "source": [
    "# test scores\n",
    "accuracy_score(y_half_1_t, rfc_y_half_1_hat), f1_score(y_half_1_t, rfc_y_half_1_hat)"
   ]
  },
  {
   "cell_type": "code",
   "execution_count": 0,
   "metadata": {
    "colab": {
     "base_uri": "https://localhost:8080/",
     "height": 34
    },
    "colab_type": "code",
    "id": "0NzRITOsAJgz",
    "outputId": "8ecef894-63f6-44e3-dcde-90aa73eb0cd4"
   },
   "outputs": [
    {
     "data": {
      "text/plain": [
       "0.8765011234460385"
      ]
     },
     "execution_count": 103,
     "metadata": {
      "tags": []
     },
     "output_type": "execute_result"
    }
   ],
   "source": [
    "roc_auc_score(y_half_1_t, rfc_y_half_1_prob)"
   ]
  },
  {
   "cell_type": "code",
   "execution_count": 0,
   "metadata": {
    "ExecuteTime": {
     "end_time": "2020-05-14T15:59:53.000053Z",
     "start_time": "2020-05-14T15:59:52.668300Z"
    },
    "colab": {
     "base_uri": "https://localhost:8080/",
     "height": 34
    },
    "colab_type": "code",
    "id": "YiK7zx9CAJg1",
    "outputId": "e5dc13e9-0e32-47a6-e9d6-9dd393daa1af"
   },
   "outputs": [
    {
     "data": {
      "text/plain": [
       "1000"
      ]
     },
     "execution_count": 104,
     "metadata": {
      "tags": []
     },
     "output_type": "execute_result"
    }
   ],
   "source": [
    "half_importances = half_rfc.feature_importances_; len(half_importances)"
   ]
  },
  {
   "cell_type": "code",
   "execution_count": 0,
   "metadata": {
    "ExecuteTime": {
     "end_time": "2020-05-14T15:59:53.037262Z",
     "start_time": "2020-05-14T15:59:53.008181Z"
    },
    "colab": {},
    "colab_type": "code",
    "id": "j4JTa81mAJg6"
   },
   "outputs": [],
   "source": [
    "half_indices = half_importances.argsort()[::-1]"
   ]
  },
  {
   "cell_type": "code",
   "execution_count": 0,
   "metadata": {
    "ExecuteTime": {
     "end_time": "2020-05-14T15:59:53.467426Z",
     "start_time": "2020-05-14T15:59:53.304598Z"
    },
    "colab": {
     "base_uri": "https://localhost:8080/",
     "height": 187
    },
    "colab_type": "code",
    "id": "gmRftfNZAJhB",
    "outputId": "f8012921-3d41-43a9-a3ab-880bc3b8bf22"
   },
   "outputs": [
    {
     "data": {
      "text/plain": [
       "['best',\n",
       " 'amaze',\n",
       " 'bad',\n",
       " 'great',\n",
       " 'love',\n",
       " 'delicious',\n",
       " 'ok',\n",
       " 'awesome',\n",
       " 'like',\n",
       " 'would']"
      ]
     },
     "execution_count": 106,
     "metadata": {
      "tags": []
     },
     "output_type": "execute_result"
    }
   ],
   "source": [
    "# top 500 features in the model\n",
    "X_half_1_df.columns[half_indices].tolist()[:10]"
   ]
  },
  {
   "cell_type": "markdown",
   "metadata": {
    "colab_type": "text",
    "id": "cBVvOxi8AJhF"
   },
   "source": [
    "#### Gradient Boosting Classifier"
   ]
  },
  {
   "cell_type": "code",
   "execution_count": 0,
   "metadata": {
    "ExecuteTime": {
     "end_time": "2020-05-14T16:07:45.377426Z",
     "start_time": "2020-05-14T16:00:08.212326Z"
    },
    "colab": {
     "base_uri": "https://localhost:8080/",
     "height": 187
    },
    "colab_type": "code",
    "id": "OHykZ0_yAJhG",
    "outputId": "51d133e2-d5dc-40fd-c1a7-6978a8668798"
   },
   "outputs": [
    {
     "data": {
      "text/plain": [
       "GradientBoostingClassifier(ccp_alpha=0.0, criterion='friedman_mse', init=None,\n",
       "                           learning_rate=0.1, loss='deviance', max_depth=5,\n",
       "                           max_features='sqrt', max_leaf_nodes=None,\n",
       "                           min_impurity_decrease=0.0, min_impurity_split=None,\n",
       "                           min_samples_leaf=1, min_samples_split=2,\n",
       "                           min_weight_fraction_leaf=0.0, n_estimators=50,\n",
       "                           n_iter_no_change=None, presort='deprecated',\n",
       "                           random_state=None, subsample=1.0, tol=0.0001,\n",
       "                           validation_fraction=0.1, verbose=0,\n",
       "                           warm_start=False)"
      ]
     },
     "execution_count": 107,
     "metadata": {
      "tags": []
     },
     "output_type": "execute_result"
    }
   ],
   "source": [
    "half_gbc = GradientBoostingClassifier(learning_rate=0.1,\n",
    "                                  n_estimators=50,\n",
    "                                  max_depth=5,\n",
    "                                max_features='sqrt')\n",
    "half_gbc.fit(tfidf_X_half_1, y_half_1)\n"
   ]
  },
  {
   "cell_type": "code",
   "execution_count": 0,
   "metadata": {
    "ExecuteTime": {
     "end_time": "2020-05-14T16:09:45.684690Z",
     "start_time": "2020-05-14T16:09:01.597942Z"
    },
    "colab": {
     "base_uri": "https://localhost:8080/",
     "height": 34
    },
    "colab_type": "code",
    "id": "erfpU7dTAJhL",
    "outputId": "1c43c327-d993-4c2d-c7de-f32b9ec70434"
   },
   "outputs": [
    {
     "data": {
      "text/plain": [
       "(0.7814441425812576, 0.7418480572201817)"
      ]
     },
     "execution_count": 108,
     "metadata": {
      "tags": []
     },
     "output_type": "execute_result"
    }
   ],
   "source": [
    "accuracy_score(y_half_1, half_gbc.predict(tfidf_X_half_1)), f1_score(y_half_1, half_gbc.predict(tfidf_X_half_1))"
   ]
  },
  {
   "cell_type": "code",
   "execution_count": 0,
   "metadata": {
    "ExecuteTime": {
     "end_time": "2020-05-14T16:25:07.681338Z",
     "start_time": "2020-05-14T16:25:03.540632Z"
    },
    "colab": {},
    "colab_type": "code",
    "id": "ORJsY0TaAJhR"
   },
   "outputs": [],
   "source": [
    "gbc_y_half_1_prob = half_gbc.predict_proba(tfidf_X_half_1_t)[:,1]\n",
    "gbc_y_half_1_hat = half_gbc.predict(tfidf_X_half_1_t)"
   ]
  },
  {
   "cell_type": "code",
   "execution_count": 0,
   "metadata": {
    "ExecuteTime": {
     "end_time": "2020-05-14T16:25:13.653564Z",
     "start_time": "2020-05-14T16:25:13.526926Z"
    },
    "colab": {
     "base_uri": "https://localhost:8080/",
     "height": 34
    },
    "colab_type": "code",
    "id": "nkwAjshOAJhX",
    "outputId": "03acec0c-b51e-45fa-8c44-21a6a07c53ba"
   },
   "outputs": [
    {
     "data": {
      "text/plain": [
       "(0.77715, 0.7369492725824062)"
      ]
     },
     "execution_count": 110,
     "metadata": {
      "tags": []
     },
     "output_type": "execute_result"
    }
   ],
   "source": [
    "accuracy_score(y_half_1_t, gbc_y_half_1_hat), f1_score(y_half_1_t, gbc_y_half_1_hat)"
   ]
  },
  {
   "cell_type": "code",
   "execution_count": 0,
   "metadata": {
    "colab": {
     "base_uri": "https://localhost:8080/",
     "height": 34
    },
    "colab_type": "code",
    "id": "J5opi4WmAJhZ",
    "outputId": "79b87681-da76-4db7-f9ec-54ef54560f8b"
   },
   "outputs": [
    {
     "data": {
      "text/plain": [
       "0.8589763735059115"
      ]
     },
     "execution_count": 111,
     "metadata": {
      "tags": []
     },
     "output_type": "execute_result"
    }
   ],
   "source": [
    "roc_auc_score(y_half_1_t, gbc_y_half_1_prob)"
   ]
  },
  {
   "cell_type": "markdown",
   "metadata": {
    "colab_type": "text",
    "id": "IejOA4y9AJhk"
   },
   "source": [
    "#### Naive Bayes Model"
   ]
  },
  {
   "cell_type": "code",
   "execution_count": 0,
   "metadata": {
    "ExecuteTime": {
     "end_time": "2020-05-14T16:10:36.954682Z",
     "start_time": "2020-05-14T16:10:11.226431Z"
    },
    "colab": {},
    "colab_type": "code",
    "id": "fPANKqowAJhn"
   },
   "outputs": [],
   "source": [
    "half_nbc = MultinomialNB().fit(tfidf_X_half_1, y_half_1)"
   ]
  },
  {
   "cell_type": "code",
   "execution_count": 0,
   "metadata": {
    "ExecuteTime": {
     "end_time": "2020-05-14T16:11:14.409397Z",
     "start_time": "2020-05-14T16:10:44.173520Z"
    },
    "colab": {
     "base_uri": "https://localhost:8080/",
     "height": 34
    },
    "colab_type": "code",
    "id": "lJpYMSTrAJh5",
    "outputId": "dcadbf37-d9d9-448d-c9a0-e8898fafa078"
   },
   "outputs": [
    {
     "data": {
      "text/plain": [
       "(0.7997037740172172, 0.7678386812227904)"
      ]
     },
     "execution_count": 113,
     "metadata": {
      "tags": []
     },
     "output_type": "execute_result"
    }
   ],
   "source": [
    "accuracy_score(y_half_1, half_nbc.predict(tfidf_X_half_1)), f1_score(y_half_1, half_nbc.predict(tfidf_X_half_1))"
   ]
  },
  {
   "cell_type": "code",
   "execution_count": 0,
   "metadata": {
    "ExecuteTime": {
     "end_time": "2020-05-14T16:26:02.527162Z",
     "start_time": "2020-05-14T16:26:01.604649Z"
    },
    "colab": {},
    "colab_type": "code",
    "id": "LLTrx-M6AJiB"
   },
   "outputs": [],
   "source": [
    "nbc_y_half_1_prob = half_nbc.predict_proba(tfidf_X_half_1_t)[:,1]\n",
    "nbc_y_half_1_hat = half_nbc.predict(tfidf_X_half_1_t)"
   ]
  },
  {
   "cell_type": "code",
   "execution_count": 0,
   "metadata": {
    "ExecuteTime": {
     "end_time": "2020-05-14T16:26:08.614585Z",
     "start_time": "2020-05-14T16:26:08.488399Z"
    },
    "colab": {
     "base_uri": "https://localhost:8080/",
     "height": 34
    },
    "colab_type": "code",
    "id": "PVeSznsYAJiv",
    "outputId": "f7dcacd8-fe05-42e7-af33-87e348a69b02"
   },
   "outputs": [
    {
     "data": {
      "text/plain": [
       "(0.7977625, 0.7656406170782937)"
      ]
     },
     "execution_count": 115,
     "metadata": {
      "tags": []
     },
     "output_type": "execute_result"
    }
   ],
   "source": [
    "accuracy_score(y_half_1_t, nbc_y_half_1_hat), f1_score(y_half_1_t, nbc_y_half_1_hat)"
   ]
  },
  {
   "cell_type": "code",
   "execution_count": 0,
   "metadata": {
    "colab": {
     "base_uri": "https://localhost:8080/",
     "height": 34
    },
    "colab_type": "code",
    "id": "_3J_vPmZAJi8",
    "outputId": "693a9161-bf03-4888-f61b-4d9a6910378c"
   },
   "outputs": [
    {
     "data": {
      "text/plain": [
       "0.8828952714944854"
      ]
     },
     "execution_count": 116,
     "metadata": {
      "tags": []
     },
     "output_type": "execute_result"
    }
   ],
   "source": [
    "roc_auc_score(y_half_1_t, nbc_y_half_1_prob)"
   ]
  },
  {
   "cell_type": "markdown",
   "metadata": {
    "colab_type": "text",
    "id": "fxE5AhXDAJkI"
   },
   "source": [
    "#### Support Vector Machine (SVM)"
   ]
  },
  {
   "cell_type": "code",
   "execution_count": 0,
   "metadata": {
    "ExecuteTime": {
     "end_time": "2020-05-14T17:01:12.646327Z",
     "start_time": "2020-05-14T17:01:12.625224Z"
    },
    "colab": {},
    "colab_type": "code",
    "id": "O5f-XkDfAJkJ"
   },
   "outputs": [],
   "source": [
    "# Support Vector Machine (SVM)\n",
    "from sklearn import svm"
   ]
  },
  {
   "cell_type": "code",
   "execution_count": 0,
   "metadata": {
    "ExecuteTime": {
     "start_time": "2020-05-14T18:26:39.146Z"
    },
    "colab": {},
    "colab_type": "code",
    "id": "zceXaqM-AJkb"
   },
   "outputs": [],
   "source": [
    "half_svc = svm.SVC(C=1.0, kernel='linear', degree=3, gamma='auto') # Linear Kernel \n",
    "\n",
    "#Train the model using the training sets\n",
    "half_svc.fit(tfidf_X_half_1, y_half_1)"
   ]
  },
  {
   "cell_type": "code",
   "execution_count": 0,
   "metadata": {
    "ExecuteTime": {
     "end_time": "2020-05-14T16:11:14.409397Z",
     "start_time": "2020-05-14T16:10:44.173520Z"
    },
    "colab": {},
    "colab_type": "code",
    "id": "UmGF4VGnAJkh"
   },
   "outputs": [],
   "source": [
    "accuracy_score(y_half_1, half_svc.predict(tfidf_X_half_1)), f1_score(y_half_1, half_svc.predict(tfidf_X_half_1))"
   ]
  },
  {
   "cell_type": "code",
   "execution_count": 0,
   "metadata": {
    "ExecuteTime": {
     "end_time": "2020-05-14T16:26:02.527162Z",
     "start_time": "2020-05-14T16:26:01.604649Z"
    },
    "colab": {},
    "colab_type": "code",
    "id": "NDFAqHv0AJkq"
   },
   "outputs": [],
   "source": [
    "svc_y_half_1_prob = half_svc.predict_proba(tfidf_X_half_1_t)[:,1]\n",
    "svc_y_half_1_hat = half_svc.predict(tfidf_X_half_1_t)"
   ]
  },
  {
   "cell_type": "code",
   "execution_count": 0,
   "metadata": {
    "ExecuteTime": {
     "end_time": "2020-05-14T16:26:08.614585Z",
     "start_time": "2020-05-14T16:26:08.488399Z"
    },
    "colab": {},
    "colab_type": "code",
    "id": "h6AuotpZAJkw"
   },
   "outputs": [],
   "source": [
    "accuracy_score(y_half_1_t, svc_y_half_1_hat), f1_score(y_half_1_t, svc_y_half_1_hat)"
   ]
  },
  {
   "cell_type": "code",
   "execution_count": 0,
   "metadata": {
    "colab": {},
    "colab_type": "code",
    "id": "ZMfVhrTfAJk_"
   },
   "outputs": [],
   "source": [
    "roc_auc_score(y_half_1_t, svc_y_half_1_prob)"
   ]
  },
  {
   "cell_type": "markdown",
   "metadata": {
    "colab_type": "text",
    "id": "FZdA1_MeAJlf"
   },
   "source": [
    "### ROC Curve"
   ]
  },
  {
   "cell_type": "code",
   "execution_count": 0,
   "metadata": {
    "ExecuteTime": {
     "end_time": "2020-05-14T16:26:31.577444Z",
     "start_time": "2020-05-14T16:26:31.569355Z"
    },
    "colab": {},
    "colab_type": "code",
    "id": "Hwl9Zij0AJlh"
   },
   "outputs": [],
   "source": [
    "# y_prob = probabilities and y_test = labels\n",
    "\n",
    "def ROC_curve(probabilities, labels):\n",
    "    \n",
    "    #Sort instances by their prediction strength (the probabilities)\n",
    "    thresholds = np.sort(probabilities)\n",
    "    \n",
    "    TPRs = []\n",
    "    FPRs = []\n",
    "    \n",
    "    num_positive_cases = sum(labels)\n",
    "    num_negative_cases = len(labels) - num_positive_cases\n",
    "    \n",
    "    #For every instance in increasing order of probability:\n",
    "    for idx, threshold in enumerate(thresholds):\n",
    "        \n",
    "        #Set everything above the threshold to the positive class\n",
    "        predicted_positive = probabilities >= threshold\n",
    "        \n",
    "        # Calculate the number of correctly predicted positive cases\n",
    "        true_positives = np.sum(predicted_positive * labels)\n",
    "        \n",
    "        # Calculate the number of incorrectly predicted positive cases\n",
    "        false_positives = np.sum(predicted_positive) - true_positives\n",
    "        \n",
    "        #Calculate the True Positive Rate (aka sensitivity or recall)\n",
    "        #True positives divided by positive cases\n",
    "        TPR = true_positives / num_positive_cases\n",
    "        TPRs.append(TPR)\n",
    "        \n",
    "        #Calculate the False Positive Rate (1 - specificity)\n",
    "        FPR = false_positives / num_negative_cases\n",
    "        FPRs.append(FPR)\n",
    "    \n",
    "    #Return three lists: TPRs, FPRs, thresholds\n",
    "    return TPRs, FPRs, thresholds"
   ]
  },
  {
   "cell_type": "code",
   "execution_count": 0,
   "metadata": {
    "ExecuteTime": {
     "end_time": "2020-05-14T16:40:59.387785Z",
     "start_time": "2020-05-14T16:26:37.438500Z"
    },
    "colab": {
     "base_uri": "https://localhost:8080/",
     "height": 430
    },
    "colab_type": "code",
    "id": "ppx1C0d4AJl4",
    "outputId": "0613f230-e8a2-41b9-d3ea-c6291218fc60"
   },
   "outputs": [
    {
     "data": {
      "text/plain": [
       "''"
      ]
     },
     "execution_count": 119,
     "metadata": {
      "tags": []
     },
     "output_type": "execute_result"
    },
    {
     "data": {
      "image/png": "[encoded data removed]",
      "text/plain": [
       "<Figure size 720x432 with 1 Axes>"
      ]
     },
     "metadata": {
      "needs_background": "light",
      "tags": []
     },
     "output_type": "display_data"
    }
   ],
   "source": [
    "# Valiation ROC Curve\n",
    "\n",
    "TPRs_log, FPRs_log, thresholds_log = ROC_curve(log_y_half_1_prob, y_half_1_t)\n",
    "\n",
    "TPRs_rfc, FPRs_rfc, thresholds_rfc = ROC_curve(rfc_y_half_1_prob, y_half_1_t)\n",
    "TPRs_gbc, FPRs_gbc, thresholds_gbc = ROC_curve(gbc_y_half_1_prob, y_half_1_t)\n",
    "TPRs_nbc, FPRs_nbc, thresholds_nbc = ROC_curve(nbc_y_half_1_prob, y_half_1_t)\n",
    "\n",
    "\n",
    "fig, ax = plt.subplots(figsize=(10,6))\n",
    "ax.plot(FPRs_log, TPRs_log, label='Logistic Regression', color='r')\n",
    "ax.plot(FPRs_rfc, TPRs_rfc, label='Random Forest Classifier')\n",
    "ax.plot(FPRs_gbc, TPRs_gbc, label='Gradient Boosting Classifier')\n",
    "ax.plot(FPRs_nbc, TPRs_nbc, label='Naive Bayes Classifier')\n",
    "\n",
    "ax.set_xlabel('False Positive Rate', fontsize=14)\n",
    "ax.set_ylabel('True Positive Rate', fontsize=14)\n",
    "ax.set_title('Model Comparison ROC Curve', fontsize=20)\n",
    "\n",
    "ax.legend()\n",
    "#plt.savefig('../img/roc_curve_half.png')\n",
    ";"
   ]
  },
  {
   "cell_type": "markdown",
   "metadata": {
    "colab_type": "text",
    "id": "WyzWt2_FAJmU"
   },
   "source": [
    "### Final Model"
   ]
  },
  {
   "cell_type": "markdown",
   "metadata": {
    "colab_type": "text",
    "id": "gnpYBLzrAJmV"
   },
   "source": [
    "#### Logistic Regression"
   ]
  },
  {
   "cell_type": "code",
   "execution_count": 0,
   "metadata": {
    "ExecuteTime": {
     "end_time": "2020-05-14T15:26:29.549136Z",
     "start_time": "2020-05-14T15:26:29.516217Z"
    },
    "colab": {},
    "colab_type": "code",
    "id": "s4-6dCOHAJmV"
   },
   "outputs": [],
   "source": [
    "final_log = LogisticRegression(n_jobs=-1, solver='saga')"
   ]
  },
  {
   "cell_type": "code",
   "execution_count": 0,
   "metadata": {
    "ExecuteTime": {
     "end_time": "2020-05-14T15:41:50.459554Z",
     "start_time": "2020-05-14T15:26:31.754024Z"
    },
    "colab": {
     "base_uri": "https://localhost:8080/",
     "height": 102
    },
    "colab_type": "code",
    "id": "DgxjOCNmAJmg",
    "outputId": "ab1cf6ce-6e7a-4b3b-a72a-3e7d5df33121"
   },
   "outputs": [
    {
     "data": {
      "text/plain": [
       "LogisticRegression(C=1.0, class_weight=None, dual=False, fit_intercept=True,\n",
       "                   intercept_scaling=1, l1_ratio=None, max_iter=100,\n",
       "                   multi_class='auto', n_jobs=-1, penalty='l2',\n",
       "                   random_state=None, solver='saga', tol=0.0001, verbose=0,\n",
       "                   warm_start=False)"
      ]
     },
     "execution_count": 70,
     "metadata": {
      "tags": []
     },
     "output_type": "execute_result"
    }
   ],
   "source": [
    "final_log.fit(tfidf_X_train, final_y_train)"
   ]
  },
  {
   "cell_type": "code",
   "execution_count": 0,
   "metadata": {
    "ExecuteTime": {
     "end_time": "2020-05-14T15:42:41.201523Z",
     "start_time": "2020-05-14T15:42:18.185008Z"
    },
    "colab": {
     "base_uri": "https://localhost:8080/",
     "height": 34
    },
    "colab_type": "code",
    "id": "HPIlGFejAJml",
    "outputId": "d0e588a8-24f7-47a0-a4fe-c1838cc0dcaf"
   },
   "outputs": [
    {
     "data": {
      "text/plain": [
       "(0.8219556184013918, 0.7998115674405466)"
      ]
     },
     "execution_count": 71,
     "metadata": {
      "tags": []
     },
     "output_type": "execute_result"
    }
   ],
   "source": [
    "# training scores\n",
    "accuracy_score(final_y_train, final_log.predict(tfidf_X_train)), f1_score(final_y_train, final_log.predict(tfidf_X_train))"
   ]
  },
  {
   "cell_type": "code",
   "execution_count": 0,
   "metadata": {
    "ExecuteTime": {
     "end_time": "2020-05-14T15:42:48.765517Z",
     "start_time": "2020-05-14T15:42:45.442897Z"
    },
    "colab": {},
    "colab_type": "code",
    "id": "a3_rpwHnAJmv"
   },
   "outputs": [],
   "source": [
    "log_y_final_prob = final_log.predict_proba(tfidf_X_test)[:,1]\n",
    "log_y_final_hat = final_log.predict(tfidf_X_test)"
   ]
  },
  {
   "cell_type": "code",
   "execution_count": 0,
   "metadata": {
    "ExecuteTime": {
     "end_time": "2020-05-14T15:44:46.650001Z",
     "start_time": "2020-05-14T15:44:46.508913Z"
    },
    "colab": {
     "base_uri": "https://localhost:8080/",
     "height": 34
    },
    "colab_type": "code",
    "id": "uxCo4sjUAJm1",
    "outputId": "25108d2a-7023-4dbb-897b-d4f0e502f114"
   },
   "outputs": [
    {
     "data": {
      "text/plain": [
       "(0.8203724918987921, 0.7982174242368532)"
      ]
     },
     "execution_count": 73,
     "metadata": {
      "tags": []
     },
     "output_type": "execute_result"
    }
   ],
   "source": [
    "# test scores\n",
    "accuracy_score(final_y_test, log_y_final_hat), f1_score(final_y_test, log_y_final_hat)"
   ]
  },
  {
   "cell_type": "code",
   "execution_count": 0,
   "metadata": {
    "colab": {
     "base_uri": "https://localhost:8080/",
     "height": 34
    },
    "colab_type": "code",
    "id": "0n5gLi0ycBgr",
    "outputId": "f7d35404-284d-4d69-a11d-5e9556b02a61"
   },
   "outputs": [
    {
     "data": {
      "text/plain": [
       "0.9029157831739936"
      ]
     },
     "execution_count": 74,
     "metadata": {
      "tags": []
     },
     "output_type": "execute_result"
    }
   ],
   "source": [
    "roc_auc_score(final_y_test, log_y_final_prob)"
   ]
  },
  {
   "cell_type": "markdown",
   "metadata": {
    "colab_type": "text",
    "id": "IV8YQI3LEtL1"
   },
   "source": [
    "#### Confusion Matrix"
   ]
  },
  {
   "cell_type": "code",
   "execution_count": 0,
   "metadata": {
    "colab": {},
    "colab_type": "code",
    "id": "EGw0oLLmdyzV"
   },
   "outputs": [],
   "source": [
    "from sklearn.metrics import confusion_matrix"
   ]
  },
  {
   "cell_type": "code",
   "execution_count": 0,
   "metadata": {
    "colab": {
     "base_uri": "https://localhost:8080/",
     "height": 34
    },
    "colab_type": "code",
    "id": "oFX-6ubidz5w",
    "outputId": "5007d501-d7bf-4269-f9d2-67c7066fc732"
   },
   "outputs": [
    {
     "data": {
      "text/plain": [
       "(142088, 27692, 27186, 108544)"
      ]
     },
     "execution_count": 78,
     "metadata": {
      "tags": []
     },
     "output_type": "execute_result"
    }
   ],
   "source": [
    "tn, fp, fn, tp = confusion_matrix(final_y_test, log_y_final_hat).ravel()\n",
    "(tn, fp, fn, tp)"
   ]
  },
  {
   "cell_type": "code",
   "execution_count": 0,
   "metadata": {
    "colab": {},
    "colab_type": "code",
    "id": "5szn7x5k3glA"
   },
   "outputs": [],
   "source": [
    "fp_i = []\n",
    "fn_i = []\n",
    "\n",
    "for i in range(len(final_y_test)):\n",
    "    if final_y_test[i] == 0 and log_y_final_hat[i] == 1:\n",
    "        fp_i.append(i)\n",
    "    if final_y_test[i] == 1 and log_y_final_hat[i] == 0:\n",
    "        fn_i.append(i)"
   ]
  },
  {
   "cell_type": "code",
   "execution_count": 0,
   "metadata": {
    "colab": {
     "base_uri": "https://localhost:8080/",
     "height": 34
    },
    "colab_type": "code",
    "id": "mtIDl2MOEvbq",
    "outputId": "a5495d50-f8ff-4fe6-aeac-e3dd1c164967"
   },
   "outputs": [
    {
     "data": {
      "text/plain": [
       "116.3587876112705"
      ]
     },
     "execution_count": 80,
     "metadata": {
      "tags": []
     },
     "output_type": "execute_result"
    }
   ],
   "source": [
    "# average of length of review for false negatives\n",
    "pd.Series(stars_X_test[fn_i]).apply(lambda x: len(x.split(' '))).mean()"
   ]
  },
  {
   "cell_type": "code",
   "execution_count": 0,
   "metadata": {
    "colab": {
     "base_uri": "https://localhost:8080/",
     "height": 102
    },
    "colab_type": "code",
    "id": "jRy5si6q4JT-",
    "outputId": "c96eccc6-aa71-4b3e-f9b1-9a1c578becfa"
   },
   "outputs": [
    {
     "data": {
      "text/plain": [
       "4    24659\n",
       "3     1919\n",
       "1      649\n",
       "2      465\n",
       "dtype: int64"
      ]
     },
     "execution_count": 81,
     "metadata": {
      "tags": []
     },
     "output_type": "execute_result"
    }
   ],
   "source": [
    "# proportion of stars in the false positives\n",
    "pd.Series(stars_y_test[fp_i]).value_counts()"
   ]
  },
  {
   "cell_type": "markdown",
   "metadata": {
    "colab_type": "text",
    "id": "VQFdTV01AJm4"
   },
   "source": [
    "#### ROC Curve"
   ]
  },
  {
   "cell_type": "code",
   "execution_count": 0,
   "metadata": {
    "colab": {
     "base_uri": "https://localhost:8080/",
     "height": 430
    },
    "colab_type": "code",
    "id": "HtjgU69wAJm5",
    "outputId": "6ec651fd-8c7e-4f38-bae3-f50655a1ee2b"
   },
   "outputs": [
    {
     "data": {
      "text/plain": [
       "<matplotlib.legend.Legend at 0x7f4429020e48>"
      ]
     },
     "execution_count": 82,
     "metadata": {
      "tags": []
     },
     "output_type": "execute_result"
    },
    {
     "data": {
      "image/png": "[encoded data removed]",
      "text/plain": [
       "<Figure size 720x432 with 1 Axes>"
      ]
     },
     "metadata": {
      "needs_background": "light",
      "tags": []
     },
     "output_type": "display_data"
    }
   ],
   "source": [
    "# Final Model ROC\n",
    "\n",
    "TPRs_final, FPRs_final, thresholds_final = ROC_curve(log_y_final_prob, final_y_test)\n",
    "\n",
    "\n",
    "fig, ax = plt.subplots(figsize=(10,6))\n",
    "ax.plot(FPRs_final, TPRs_final, label='Logistic Regression', color='r')\n",
    "\n",
    "ax.set_xlabel('False Positive Rate', fontsize=14)\n",
    "ax.set_ylabel('True Positive Rate', fontsize=14)\n",
    "ax.set_title('Final Model ROC Curve', fontsize=20)\n",
    "\n",
    "ax.legend()\n",
    "#plt.savefig('../img/roc_curve_final.png')"
   ]
  },
  {
   "cell_type": "markdown",
   "metadata": {
    "colab_type": "text",
    "id": "9l4QI5Z1AJnI"
   },
   "source": [
    "## Additional Exploratory Data Analysis"
   ]
  },
  {
   "cell_type": "code",
   "execution_count": 0,
   "metadata": {
    "colab": {},
    "colab_type": "code",
    "id": "wwHW3zBRAJnJ"
   },
   "outputs": [],
   "source": [
    "# Word Cloud for Reviews\n",
    "\n",
    "comment_words = '' \n",
    "#stopwords = set(STOPWORDS) \n",
    "# stopwords = sw\n",
    "  \n",
    "# iterate through the csv file \n",
    "for val in X_small: \n",
    "      \n",
    "    # typecaste each val to string \n",
    "    val = str(val) \n",
    "  \n",
    "    # split the value \n",
    "    tokens = tokenizer(val) \n",
    "      \n",
    "    comment_words += \" \".join(tokens)+\" \""
   ]
  },
  {
   "cell_type": "code",
   "execution_count": 0,
   "metadata": {
    "code_folding": [],
    "colab": {},
    "colab_type": "code",
    "id": "g7V1gwpPAJnQ",
    "outputId": "9a7f8a58-09e8-430b-c882-83475752f55f"
   },
   "outputs": [
    {
     "data": {
      "image/png": "[encoded data removed]",
      "text/plain": [
       "<Figure size 576x576 with 1 Axes>"
      ]
     },
     "metadata": {
      "needs_background": "light",
      "tags": []
     },
     "output_type": "display_data"
    }
   ],
   "source": [
    "wordcloud = WordCloud(width = 800, height = 600, \n",
    "                background_color ='white', \n",
    "                stopwords = sw, \n",
    "                min_font_size = 10).generate(comment_words) \n",
    "  \n",
    "# plot the WordCloud image                        \n",
    "plt.figure(figsize = (8, 8), facecolor = None) \n",
    "plt.imshow(wordcloud) \n",
    "plt.axis(\"off\") \n",
    "plt.tight_layout(pad = 0) \n",
    "  \n",
    "plt.show()"
   ]
  }
 ],
 "metadata": {
  "accelerator": "GPU",
  "colab": {
   "collapsed_sections": [
    "k7ssakRLAIY1",
    "JUkpiKOqAIY2",
    "7hxBmK_OAIcR",
    "PEnsVrpqAIdH",
    "4WddkkcCAIfJ",
    "809NoZFcAJZx",
    "ndMfvuBaAJaS",
    "fxE5AhXDAJkI"
   ],
   "machine_shape": "hm",
   "name": "colab_NLP_and_Models.ipynb",
   "provenance": []
  },
  "kernelspec": {
   "display_name": "Python 3",
   "language": "python",
   "name": "python3"
  },
  "language_info": {
   "codemirror_mode": {
    "name": "ipython",
    "version": 3
   },
   "file_extension": ".py",
   "mimetype": "text/x-python",
   "name": "python",
   "nbconvert_exporter": "python",
   "pygments_lexer": "ipython3",
   "version": "3.7.6"
  }
 },
 "nbformat": 4,
 "nbformat_minor": 1
}
