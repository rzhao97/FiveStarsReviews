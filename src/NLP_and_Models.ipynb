{
 "cells": [
  {
   "cell_type": "markdown",
   "metadata": {
    "colab_type": "text",
    "heading_collapsed": true,
    "id": "pAbxjjfsAHv6"
   },
   "source": [
    "# Las Vegas Restaurants Reviews NLP and more EDA"
   ]
  },
  {
   "cell_type": "markdown",
   "metadata": {
    "colab_type": "text",
    "heading_collapsed": true,
    "hidden": true,
    "id": "6Jj1jvhIAHwD"
   },
   "source": [
    "### Imports"
   ]
  },
  {
   "cell_type": "code",
   "execution_count": 1,
   "metadata": {
    "ExecuteTime": {
     "end_time": "2020-05-15T00:16:37.989690Z",
     "start_time": "2020-05-15T00:16:34.688476Z"
    },
    "colab": {
     "base_uri": "https://localhost:8080/",
     "height": 72
    },
    "colab_type": "code",
    "hidden": true,
    "id": "zrmeLLVSAHwE",
    "outputId": "e2544590-bf7d-4022-ef4a-bb699a8a6e1e"
   },
   "outputs": [],
   "source": [
    "import numpy as np\n",
    "import pandas as pd\n",
    "\n",
    "import matplotlib.pyplot as plt\n",
    "import matplotlib.colors as mc\n",
    "import colorsys\n",
    "import seaborn as sns\n",
    "\n",
    "%matplotlib inline"
   ]
  },
  {
   "cell_type": "code",
   "execution_count": 2,
   "metadata": {
    "ExecuteTime": {
     "end_time": "2020-05-15T00:16:53.353763Z",
     "start_time": "2020-05-15T00:16:52.428370Z"
    },
    "colab": {
     "base_uri": "https://localhost:8080/",
     "height": 104
    },
    "colab_type": "code",
    "hidden": true,
    "id": "pR5bc8PjAHwd",
    "outputId": "6ec29cf4-adbd-46ef-d491-8ab8bebd6d1d"
   },
   "outputs": [],
   "source": [
    "# For NLP\n",
    "from sklearn.feature_extraction.text import TfidfVectorizer, CountVectorizer\n",
    "\n",
    "import unicodedata\n",
    "import string\n",
    "import re\n",
    "\n",
    "from nltk.util import ngrams\n",
    "from nltk.tokenize import sent_tokenize, word_tokenize\n",
    "from nltk.corpus import stopwords\n",
    "from nltk.stem.snowball import SnowballStemmer\n",
    "\n",
    "import nltk\n",
    "from nltk.corpus import wordnet\n",
    "from nltk.stem import WordNetLemmatizer\n",
    "\n",
    "np.set_printoptions(linewidth=100) \n",
    "\n",
    "pt = string.punctuation\n",
    "sw = stopwords.words('english')\n",
    "stemmer = SnowballStemmer('english')"
   ]
  },
  {
   "cell_type": "code",
   "execution_count": 3,
   "metadata": {
    "ExecuteTime": {
     "end_time": "2020-05-15T00:16:56.233941Z",
     "start_time": "2020-05-15T00:16:56.203389Z"
    },
    "colab": {},
    "colab_type": "code",
    "hidden": true,
    "id": "E0rmKbcmAHwv"
   },
   "outputs": [],
   "source": [
    "from wordcloud import WordCloud, STOPWORDS "
   ]
  },
  {
   "cell_type": "code",
   "execution_count": 4,
   "metadata": {
    "ExecuteTime": {
     "end_time": "2020-05-15T00:16:57.136715Z",
     "start_time": "2020-05-15T00:16:56.984231Z"
    },
    "colab": {},
    "colab_type": "code",
    "hidden": true,
    "id": "_MTpm3EHAHxC"
   },
   "outputs": [],
   "source": [
    "# For Modeling\n",
    "from sklearn.model_selection import train_test_split\n",
    "from sklearn.model_selection import GridSearchCV\n",
    "\n",
    "# Logisitc Regression\n",
    "from sklearn.linear_model import LogisticRegression\n",
    "\n",
    "# Random Forest\n",
    "from sklearn.ensemble import RandomForestClassifier\n",
    "\n",
    "# Gradient Boosting\n",
    "from sklearn.ensemble import GradientBoostingClassifier\n",
    "\n",
    "# AdaBoost\n",
    "from sklearn.ensemble import AdaBoostClassifier\n",
    "\n",
    "# Naive Bayes\n",
    "from sklearn.naive_bayes import MultinomialNB\n",
    "\n",
    "# Metrics\n",
    "from sklearn.metrics import accuracy_score, f1_score, roc_auc_score\n"
   ]
  },
  {
   "cell_type": "markdown",
   "metadata": {
    "colab_type": "text",
    "heading_collapsed": true,
    "hidden": true,
    "id": "xT8qh56UAHyR"
   },
   "source": [
    "## Data Processing"
   ]
  },
  {
   "cell_type": "markdown",
   "metadata": {
    "colab_type": "text",
    "hidden": true,
    "id": "uVoH5ZP0AHyV"
   },
   "source": [
    "#### Import Data"
   ]
  },
  {
   "cell_type": "code",
   "execution_count": 6,
   "metadata": {
    "ExecuteTime": {
     "end_time": "2020-05-15T00:18:17.087806Z",
     "start_time": "2020-05-15T00:18:04.935611Z"
    },
    "colab": {},
    "colab_type": "code",
    "hidden": true,
    "id": "wLWOf1PXAHys"
   },
   "outputs": [],
   "source": [
    "raw_reviews = pd.read_pickle('../data/english_reviews.pkl')"
   ]
  },
  {
   "cell_type": "code",
   "execution_count": 7,
   "metadata": {
    "ExecuteTime": {
     "end_time": "2020-05-15T00:18:37.800111Z",
     "start_time": "2020-05-15T00:18:19.035520Z"
    },
    "colab": {},
    "colab_type": "code",
    "hidden": true,
    "id": "tSaUwfJyAHzM"
   },
   "outputs": [],
   "source": [
    "reviews = raw_reviews.loc[raw_reviews.text.apply(lambda x : True if len(x.split(' ')) > 10 else False)]"
   ]
  },
  {
   "cell_type": "code",
   "execution_count": 8,
   "metadata": {
    "ExecuteTime": {
     "end_time": "2020-05-15T00:18:37.821324Z",
     "start_time": "2020-05-15T00:18:37.809935Z"
    },
    "colab": {},
    "colab_type": "code",
    "hidden": true,
    "id": "cLRxzk5xAHzt"
   },
   "outputs": [],
   "source": [
    "reviews.reset_index(drop=True, inplace=True)"
   ]
  },
  {
   "cell_type": "code",
   "execution_count": 9,
   "metadata": {
    "ExecuteTime": {
     "end_time": "2020-05-15T00:18:38.740421Z",
     "start_time": "2020-05-15T00:18:37.826460Z"
    },
    "colab": {
     "base_uri": "https://localhost:8080/",
     "height": 49
    },
    "colab_type": "code",
    "hidden": true,
    "id": "t13CwQmBAH0I",
    "outputId": "b3dae60e-062d-46c0-cb43-d688fd0d890d"
   },
   "outputs": [
    {
     "data": {
      "text/html": [
       "<div>\n",
       "<style scoped>\n",
       "    .dataframe tbody tr th:only-of-type {\n",
       "        vertical-align: middle;\n",
       "    }\n",
       "\n",
       "    .dataframe tbody tr th {\n",
       "        vertical-align: top;\n",
       "    }\n",
       "\n",
       "    .dataframe thead th {\n",
       "        text-align: right;\n",
       "    }\n",
       "</style>\n",
       "<table border=\"1\" class=\"dataframe\">\n",
       "  <thead>\n",
       "    <tr style=\"text-align: right;\">\n",
       "      <th></th>\n",
       "      <th>business_id</th>\n",
       "      <th>review_id</th>\n",
       "      <th>user_id</th>\n",
       "      <th>stars</th>\n",
       "      <th>useful</th>\n",
       "      <th>funny</th>\n",
       "      <th>cool</th>\n",
       "      <th>text</th>\n",
       "      <th>date</th>\n",
       "      <th>language</th>\n",
       "    </tr>\n",
       "  </thead>\n",
       "  <tbody>\n",
       "  </tbody>\n",
       "</table>\n",
       "</div>"
      ],
      "text/plain": [
       "Empty DataFrame\n",
       "Columns: [business_id, review_id, user_id, stars, useful, funny, cool, text, date, language]\n",
       "Index: []"
      ]
     },
     "execution_count": 9,
     "metadata": {},
     "output_type": "execute_result"
    }
   ],
   "source": [
    "reviews[reviews.isna().any(axis=1)]"
   ]
  },
  {
   "cell_type": "code",
   "execution_count": 10,
   "metadata": {
    "ExecuteTime": {
     "end_time": "2020-05-15T00:18:38.859345Z",
     "start_time": "2020-05-15T00:18:38.749177Z"
    },
    "colab": {
     "base_uri": "https://localhost:8080/",
     "height": 121
    },
    "colab_type": "code",
    "hidden": true,
    "id": "lYeWJiEGAH0p",
    "outputId": "a7c542c3-d3a0-47b6-8417-748c21297f8f",
    "scrolled": true
   },
   "outputs": [
    {
     "data": {
      "text/plain": [
       "1    0.124113\n",
       "2    0.084543\n",
       "3    0.118845\n",
       "4    0.228227\n",
       "5    0.444272\n",
       "Name: stars, dtype: float64"
      ]
     },
     "execution_count": 10,
     "metadata": {},
     "output_type": "execute_result"
    }
   ],
   "source": [
    "(reviews.stars.value_counts()/reviews.stars.value_counts().sum()).sort_index()"
   ]
  },
  {
   "cell_type": "code",
   "execution_count": 11,
   "metadata": {
    "ExecuteTime": {
     "end_time": "2020-05-15T00:18:38.892044Z",
     "start_time": "2020-05-15T00:18:38.876550Z"
    },
    "colab": {
     "base_uri": "https://localhost:8080/",
     "height": 35
    },
    "colab_type": "code",
    "hidden": true,
    "id": "6fEKhxviAH1w",
    "outputId": "815d1512-ab16-46b7-9f30-d336fbe69556"
   },
   "outputs": [
    {
     "data": {
      "text/plain": [
       "(1527548, 10)"
      ]
     },
     "execution_count": 11,
     "metadata": {},
     "output_type": "execute_result"
    }
   ],
   "source": [
    "reviews.shape"
   ]
  },
  {
   "cell_type": "code",
   "execution_count": 12,
   "metadata": {
    "ExecuteTime": {
     "end_time": "2020-05-15T00:18:38.947813Z",
     "start_time": "2020-05-15T00:18:38.907854Z"
    },
    "colab": {
     "base_uri": "https://localhost:8080/",
     "height": 375
    },
    "colab_type": "code",
    "hidden": true,
    "id": "P3shX6nTAH3B",
    "outputId": "af9a6c9f-0c83-4899-9892-8778929697be"
   },
   "outputs": [
    {
     "data": {
      "text/html": [
       "<div>\n",
       "<style scoped>\n",
       "    .dataframe tbody tr th:only-of-type {\n",
       "        vertical-align: middle;\n",
       "    }\n",
       "\n",
       "    .dataframe tbody tr th {\n",
       "        vertical-align: top;\n",
       "    }\n",
       "\n",
       "    .dataframe thead th {\n",
       "        text-align: right;\n",
       "    }\n",
       "</style>\n",
       "<table border=\"1\" class=\"dataframe\">\n",
       "  <thead>\n",
       "    <tr style=\"text-align: right;\">\n",
       "      <th></th>\n",
       "      <th>business_id</th>\n",
       "      <th>review_id</th>\n",
       "      <th>user_id</th>\n",
       "      <th>stars</th>\n",
       "      <th>useful</th>\n",
       "      <th>funny</th>\n",
       "      <th>cool</th>\n",
       "      <th>text</th>\n",
       "      <th>date</th>\n",
       "      <th>language</th>\n",
       "    </tr>\n",
       "  </thead>\n",
       "  <tbody>\n",
       "    <tr>\n",
       "      <th>0</th>\n",
       "      <td>fnZrZlqW1Z8iWgTVDfv_MA</td>\n",
       "      <td>WUAt5-krh075Ie44np8Hew</td>\n",
       "      <td>YDkC5VVT8s9NlIZtAr8NUA</td>\n",
       "      <td>5</td>\n",
       "      <td>0</td>\n",
       "      <td>0</td>\n",
       "      <td>0</td>\n",
       "      <td>So why would I be giving a Fast Food chain loc...</td>\n",
       "      <td>2010-11-27 09:33:34</td>\n",
       "      <td>en</td>\n",
       "    </tr>\n",
       "    <tr>\n",
       "      <th>1</th>\n",
       "      <td>fnZrZlqW1Z8iWgTVDfv_MA</td>\n",
       "      <td>S9vIs-je49jqbhpWSQ8yHg</td>\n",
       "      <td>mxtalrN7VHVQwGjv8ln5yg</td>\n",
       "      <td>2</td>\n",
       "      <td>0</td>\n",
       "      <td>0</td>\n",
       "      <td>0</td>\n",
       "      <td>I come here bout 3x's a mo. &amp; I just can't do ...</td>\n",
       "      <td>2016-03-19 09:03:09</td>\n",
       "      <td>en</td>\n",
       "    </tr>\n",
       "    <tr>\n",
       "      <th>2</th>\n",
       "      <td>fnZrZlqW1Z8iWgTVDfv_MA</td>\n",
       "      <td>i2Soid_X8XsSTyIrPOst6g</td>\n",
       "      <td>xammeA3ftpFoAN13v5Blyg</td>\n",
       "      <td>1</td>\n",
       "      <td>2</td>\n",
       "      <td>0</td>\n",
       "      <td>0</td>\n",
       "      <td>WORST experience EVER!!!!! never have i ate an...</td>\n",
       "      <td>2015-04-02 06:14:51</td>\n",
       "      <td>en</td>\n",
       "    </tr>\n",
       "    <tr>\n",
       "      <th>3</th>\n",
       "      <td>fnZrZlqW1Z8iWgTVDfv_MA</td>\n",
       "      <td>uDYGaAOUgo7SLuH5nUZs3w</td>\n",
       "      <td>gQhFacMGI41mfVXqw1E7bQ</td>\n",
       "      <td>4</td>\n",
       "      <td>0</td>\n",
       "      <td>0</td>\n",
       "      <td>0</td>\n",
       "      <td>Hot fresh food usually.  Staff seems to turn o...</td>\n",
       "      <td>2014-08-14 23:00:34</td>\n",
       "      <td>en</td>\n",
       "    </tr>\n",
       "    <tr>\n",
       "      <th>4</th>\n",
       "      <td>fnZrZlqW1Z8iWgTVDfv_MA</td>\n",
       "      <td>Xg7HuBvuZHTBog1G_2Wk0w</td>\n",
       "      <td>0PXhJMztE3ijzQPjiwPERg</td>\n",
       "      <td>3</td>\n",
       "      <td>0</td>\n",
       "      <td>0</td>\n",
       "      <td>0</td>\n",
       "      <td>Beer battered cod fish seems really rubbery. I...</td>\n",
       "      <td>2015-03-23 02:10:52</td>\n",
       "      <td>en</td>\n",
       "    </tr>\n",
       "  </tbody>\n",
       "</table>\n",
       "</div>"
      ],
      "text/plain": [
       "              business_id               review_id                 user_id  \\\n",
       "0  fnZrZlqW1Z8iWgTVDfv_MA  WUAt5-krh075Ie44np8Hew  YDkC5VVT8s9NlIZtAr8NUA   \n",
       "1  fnZrZlqW1Z8iWgTVDfv_MA  S9vIs-je49jqbhpWSQ8yHg  mxtalrN7VHVQwGjv8ln5yg   \n",
       "2  fnZrZlqW1Z8iWgTVDfv_MA  i2Soid_X8XsSTyIrPOst6g  xammeA3ftpFoAN13v5Blyg   \n",
       "3  fnZrZlqW1Z8iWgTVDfv_MA  uDYGaAOUgo7SLuH5nUZs3w  gQhFacMGI41mfVXqw1E7bQ   \n",
       "4  fnZrZlqW1Z8iWgTVDfv_MA  Xg7HuBvuZHTBog1G_2Wk0w  0PXhJMztE3ijzQPjiwPERg   \n",
       "\n",
       "   stars  useful  funny  cool  \\\n",
       "0      5       0      0     0   \n",
       "1      2       0      0     0   \n",
       "2      1       2      0     0   \n",
       "3      4       0      0     0   \n",
       "4      3       0      0     0   \n",
       "\n",
       "                                                text                date  \\\n",
       "0  So why would I be giving a Fast Food chain loc... 2010-11-27 09:33:34   \n",
       "1  I come here bout 3x's a mo. & I just can't do ... 2016-03-19 09:03:09   \n",
       "2  WORST experience EVER!!!!! never have i ate an... 2015-04-02 06:14:51   \n",
       "3  Hot fresh food usually.  Staff seems to turn o... 2014-08-14 23:00:34   \n",
       "4  Beer battered cod fish seems really rubbery. I... 2015-03-23 02:10:52   \n",
       "\n",
       "  language  \n",
       "0       en  \n",
       "1       en  \n",
       "2       en  \n",
       "3       en  \n",
       "4       en  "
      ]
     },
     "execution_count": 12,
     "metadata": {},
     "output_type": "execute_result"
    }
   ],
   "source": [
    "reviews.head()"
   ]
  },
  {
   "cell_type": "code",
   "execution_count": 13,
   "metadata": {
    "ExecuteTime": {
     "end_time": "2020-05-15T00:18:39.976136Z",
     "start_time": "2020-05-15T00:18:38.952188Z"
    },
    "colab": {},
    "colab_type": "code",
    "hidden": true,
    "id": "c3ar4fy1AH3f"
   },
   "outputs": [],
   "source": [
    "# X is reviews' text and y is 5 stars or not\n",
    "X = np.array(reviews.text)\n",
    "y = np.array(reviews.stars.apply(lambda s: 1 if s == 5 else 0))"
   ]
  },
  {
   "cell_type": "code",
   "execution_count": 14,
   "metadata": {
    "ExecuteTime": {
     "end_time": "2020-05-15T00:18:39.990632Z",
     "start_time": "2020-05-15T00:18:39.981127Z"
    },
    "colab": {
     "base_uri": "https://localhost:8080/",
     "height": 35
    },
    "colab_type": "code",
    "hidden": true,
    "id": "-pp0pUVxAH3u",
    "outputId": "4a0a37c0-4327-4f3c-a139-40ec562262e4"
   },
   "outputs": [
    {
     "data": {
      "text/plain": [
       "((1527548,), (1527548,))"
      ]
     },
     "execution_count": 14,
     "metadata": {},
     "output_type": "execute_result"
    }
   ],
   "source": [
    "X.shape, y.shape"
   ]
  },
  {
   "cell_type": "code",
   "execution_count": 15,
   "metadata": {
    "ExecuteTime": {
     "end_time": "2020-05-15T00:18:40.015487Z",
     "start_time": "2020-05-15T00:18:39.994761Z"
    },
    "colab": {
     "base_uri": "https://localhost:8080/",
     "height": 35
    },
    "colab_type": "code",
    "hidden": true,
    "id": "lamrMZf7AH4L",
    "outputId": "3fb07867-8927-46f9-fbea-b2441ea49b37"
   },
   "outputs": [
    {
     "data": {
      "text/plain": [
       "0.444272127618903"
      ]
     },
     "execution_count": 15,
     "metadata": {},
     "output_type": "execute_result"
    }
   ],
   "source": [
    "# Baseline Accuracy/Model = \n",
    "y.sum()/len(y)"
   ]
  },
  {
   "cell_type": "markdown",
   "metadata": {
    "colab_type": "text",
    "hidden": true,
    "id": "QUhX7YCuAH4V"
   },
   "source": [
    "#### Split Data"
   ]
  },
  {
   "cell_type": "code",
   "execution_count": 16,
   "metadata": {
    "ExecuteTime": {
     "end_time": "2020-05-15T00:18:41.956481Z",
     "start_time": "2020-05-15T00:18:40.018311Z"
    },
    "colab": {},
    "colab_type": "code",
    "hidden": true,
    "id": "GM8p2Ht7AH4Z"
   },
   "outputs": [],
   "source": [
    "final_X_train, final_X_test, final_y_train, final_y_test = train_test_split(X, y, test_size=0.2, random_state=7, stratify=y)"
   ]
  },
  {
   "cell_type": "code",
   "execution_count": 17,
   "metadata": {
    "ExecuteTime": {
     "end_time": "2020-05-15T00:18:41.989298Z",
     "start_time": "2020-05-15T00:18:41.959043Z"
    },
    "colab": {
     "base_uri": "https://localhost:8080/",
     "height": 35
    },
    "colab_type": "code",
    "hidden": true,
    "id": "C-5TNwRcAH45",
    "outputId": "b2df6faa-5416-4f7d-852a-fb9643b9a5fc"
   },
   "outputs": [
    {
     "data": {
      "text/plain": [
       "((1222038,), (1222038,))"
      ]
     },
     "execution_count": 17,
     "metadata": {},
     "output_type": "execute_result"
    }
   ],
   "source": [
    "final_X_train.shape, final_y_train.shape"
   ]
  },
  {
   "cell_type": "code",
   "execution_count": 18,
   "metadata": {
    "ExecuteTime": {
     "end_time": "2020-05-15T00:18:42.013954Z",
     "start_time": "2020-05-15T00:18:41.991946Z"
    },
    "colab": {
     "base_uri": "https://localhost:8080/",
     "height": 35
    },
    "colab_type": "code",
    "hidden": true,
    "id": "c7D97uSsAH6y",
    "outputId": "affb22de-1e02-4259-ce5f-005b9cf8f5aa"
   },
   "outputs": [
    {
     "data": {
      "text/plain": [
       "611020"
      ]
     },
     "execution_count": 18,
     "metadata": {},
     "output_type": "execute_result"
    }
   ],
   "source": [
    "sli = (len(final_X_train) // 2) + 1 ; sli"
   ]
  },
  {
   "cell_type": "code",
   "execution_count": 19,
   "metadata": {
    "ExecuteTime": {
     "end_time": "2020-05-15T00:18:42.025568Z",
     "start_time": "2020-05-15T00:18:42.016880Z"
    },
    "colab": {},
    "colab_type": "code",
    "hidden": true,
    "id": "G1P0fkZYAH7O"
   },
   "outputs": [],
   "source": [
    "X_half_1 = final_X_train[0:sli]\n",
    "X_half_2 = final_X_train[sli:]\n",
    "\n",
    "y_half_1 = final_y_train[0:sli]\n",
    "y_half_2 = final_y_train[sli:]\n"
   ]
  },
  {
   "cell_type": "code",
   "execution_count": 20,
   "metadata": {
    "ExecuteTime": {
     "end_time": "2020-05-15T00:18:42.044142Z",
     "start_time": "2020-05-15T00:18:42.028930Z"
    },
    "colab": {
     "base_uri": "https://localhost:8080/",
     "height": 35
    },
    "colab_type": "code",
    "hidden": true,
    "id": "pm1O-94XAH7b",
    "outputId": "26f3c2d0-b82a-4d44-e702-1f20c0664970"
   },
   "outputs": [
    {
     "data": {
      "text/plain": [
       "(271420, 271497)"
      ]
     },
     "execution_count": 20,
     "metadata": {},
     "output_type": "execute_result"
    }
   ],
   "source": [
    "y_half_1.sum(), y_half_2.sum()"
   ]
  },
  {
   "cell_type": "code",
   "execution_count": 21,
   "metadata": {
    "ExecuteTime": {
     "end_time": "2020-05-15T00:18:42.058066Z",
     "start_time": "2020-05-15T00:18:42.051537Z"
    },
    "colab": {},
    "colab_type": "code",
    "hidden": true,
    "id": "brxEVS12AH7s"
   },
   "outputs": [],
   "source": [
    "sli_t = sli + 160000"
   ]
  },
  {
   "cell_type": "code",
   "execution_count": 22,
   "metadata": {
    "ExecuteTime": {
     "end_time": "2020-05-15T00:18:42.082798Z",
     "start_time": "2020-05-15T00:18:42.062564Z"
    },
    "colab": {},
    "colab_type": "code",
    "hidden": true,
    "id": "m4pDbCU-AH79"
   },
   "outputs": [],
   "source": [
    "X_half_1_t = final_X_train[sli:sli_t]\n",
    "y_half_1_t = final_y_train[sli:sli_t]"
   ]
  },
  {
   "cell_type": "code",
   "execution_count": 23,
   "metadata": {
    "ExecuteTime": {
     "end_time": "2020-05-15T00:18:42.112419Z",
     "start_time": "2020-05-15T00:18:42.087778Z"
    },
    "colab": {
     "base_uri": "https://localhost:8080/",
     "height": 35
    },
    "colab_type": "code",
    "hidden": true,
    "id": "9Tb5BURKAH9E",
    "outputId": "84cb6e47-fbcd-4a66-ed04-302562b81db2"
   },
   "outputs": [
    {
     "data": {
      "text/plain": [
       "71078"
      ]
     },
     "execution_count": 23,
     "metadata": {},
     "output_type": "execute_result"
    }
   ],
   "source": [
    "y_half_1_t.sum()"
   ]
  },
  {
   "cell_type": "markdown",
   "metadata": {
    "colab_type": "text",
    "hidden": true,
    "id": "f1e-zqIjAH9k"
   },
   "source": [
    "##### Small Subsets"
   ]
  },
  {
   "cell_type": "code",
   "execution_count": 24,
   "metadata": {
    "ExecuteTime": {
     "end_time": "2020-05-15T00:18:42.132586Z",
     "start_time": "2020-05-15T00:18:42.118032Z"
    },
    "colab": {
     "base_uri": "https://localhost:8080/",
     "height": 35
    },
    "colab_type": "code",
    "hidden": true,
    "id": "G7tiN_G5AH9m",
    "outputId": "bface122-9210-41be-d6a1-a129c6596150"
   },
   "outputs": [
    {
     "data": {
      "text/plain": [
       "(8807, 2236)"
      ]
     },
     "execution_count": 24,
     "metadata": {},
     "output_type": "execute_result"
    }
   ],
   "source": [
    "X_tiny = final_X_train[501000:521000]\n",
    "\n",
    "y_tiny = final_y_train[501000:521000]\n",
    "\n",
    "X_tiny_t = final_X_train[524000:529000]\n",
    "\n",
    "y_tiny_t = final_y_train[524000:529000]\n",
    "\n",
    "y_tiny.sum(), y_tiny_t.sum()"
   ]
  },
  {
   "cell_type": "code",
   "execution_count": 25,
   "metadata": {
    "ExecuteTime": {
     "end_time": "2020-05-15T00:18:42.158859Z",
     "start_time": "2020-05-15T00:18:42.143870Z"
    },
    "colab": {
     "base_uri": "https://localhost:8080/",
     "height": 35
    },
    "colab_type": "code",
    "hidden": true,
    "id": "ysBX5ksnAH9_",
    "outputId": "f44ccde4-93c0-46d5-c18f-ac962abae908"
   },
   "outputs": [
    {
     "data": {
      "text/plain": [
       "(88435, 22059)"
      ]
     },
     "execution_count": 25,
     "metadata": {},
     "output_type": "execute_result"
    }
   ],
   "source": [
    "X_small = final_X_train[30000:230000]\n",
    "\n",
    "y_small = final_y_train[30000:230000]\n",
    "\n",
    "X_small_t = final_X_train[231000:281000]\n",
    "\n",
    "y_small_t = final_y_train[231000:281000]\n",
    "\n",
    "y_small.sum(), y_small_t.sum()"
   ]
  },
  {
   "cell_type": "markdown",
   "metadata": {
    "colab_type": "text",
    "heading_collapsed": true,
    "hidden": true,
    "id": "KXrFOuCAAH-b"
   },
   "source": [
    "## NLP"
   ]
  },
  {
   "cell_type": "markdown",
   "metadata": {
    "colab_type": "text",
    "heading_collapsed": true,
    "hidden": true,
    "id": "RdDsta3NAH-j"
   },
   "source": [
    "### Tokenizer"
   ]
  },
  {
   "cell_type": "code",
   "execution_count": 26,
   "metadata": {
    "ExecuteTime": {
     "end_time": "2020-05-15T00:18:42.189758Z",
     "start_time": "2020-05-15T00:18:42.161694Z"
    },
    "colab": {},
    "colab_type": "code",
    "hidden": true,
    "id": "GUM4-e9jAH-n"
   },
   "outputs": [],
   "source": [
    "for i, w in enumerate(sw):\n",
    "    sw[i] = w.replace(\"'\",'')"
   ]
  },
  {
   "cell_type": "code",
   "execution_count": 27,
   "metadata": {
    "ExecuteTime": {
     "end_time": "2020-05-15T00:18:42.216189Z",
     "start_time": "2020-05-15T00:18:42.193043Z"
    },
    "colab": {},
    "colab_type": "code",
    "hidden": true,
    "id": "fexYoVQWAH_E"
   },
   "outputs": [],
   "source": [
    "sw + ['u', 'a', 'aa', 'aaa', 'im', 'ive', 'isnt'];"
   ]
  },
  {
   "cell_type": "code",
   "execution_count": 28,
   "metadata": {
    "ExecuteTime": {
     "end_time": "2020-05-15T00:18:42.454815Z",
     "start_time": "2020-05-15T00:18:42.431386Z"
    },
    "colab": {
     "base_uri": "https://localhost:8080/",
     "height": 35
    },
    "colab_type": "code",
    "hidden": true,
    "id": "2vu8oS4VAH_e",
    "outputId": "67a10abb-29b2-4717-c75d-4ec07ad9f028"
   },
   "outputs": [
    {
     "data": {
      "text/plain": [
       "'!\"#$%&\\'()*+,-./:;<=>?@[\\\\]^_`{|}~'"
      ]
     },
     "execution_count": 28,
     "metadata": {},
     "output_type": "execute_result"
    }
   ],
   "source": [
    "pt"
   ]
  },
  {
   "cell_type": "code",
   "execution_count": 29,
   "metadata": {
    "ExecuteTime": {
     "end_time": "2020-05-15T00:18:43.708140Z",
     "start_time": "2020-05-15T00:18:43.685718Z"
    },
    "colab": {},
    "colab_type": "code",
    "hidden": true,
    "id": "-vEH6PeFAH_y"
   },
   "outputs": [],
   "source": [
    "def tokenizer(doc):\n",
    "    doc = doc.lower()\n",
    "    doc = unicodedata.normalize('NFKD', doc).encode('ASCII', 'ignore').decode('utf8')\n",
    "    \n",
    "    doc = re.sub(r\"[^a-z ]+\", '', doc)\n",
    "    \n",
    "    doc = word_tokenize(doc)\n",
    "\n",
    "    #tags = pos_tag(doc, tagset='universal')\n",
    "    #doc = [word for word,pos in tags if (pos == 'ADJ')]\n",
    "                            #pos == 'NOUN' or pos == 'VERB' or pos == 'ADJ')]\n",
    "                            # or pos == 'NNP' or pos == 'NNS' or pos == 'NNPS')]\n",
    "            \n",
    "    doc = [token for token in doc if token not in sw]\n",
    "\n",
    "    #lemma = WordNetLemmatizer()\n",
    "    #doc = [lemma.lemmatize(token) for token in doc]\n",
    "    \n",
    "    doc = [stemmer.stem(token) for token in doc]\n",
    "    \n",
    "    \n",
    "    return doc"
   ]
  },
  {
   "cell_type": "markdown",
   "metadata": {
    "colab_type": "text",
    "heading_collapsed": true,
    "hidden": true,
    "id": "yW9xL2dcAIAL"
   },
   "source": [
    "### TFIDF Vectorize X_tiny data subset"
   ]
  },
  {
   "cell_type": "code",
   "execution_count": 0,
   "metadata": {
    "ExecuteTime": {
     "end_time": "2020-05-14T00:20:04.364443Z",
     "start_time": "2020-05-14T00:20:04.359202Z"
    },
    "colab": {},
    "colab_type": "code",
    "hidden": true,
    "id": "xY3o4D89AIAN"
   },
   "outputs": [],
   "source": [
    "# Create tfidf vectorizer for tiny subset of data\n",
    "tfidf_tiny = TfidfVectorizer(tokenizer=tokenizer)"
   ]
  },
  {
   "cell_type": "code",
   "execution_count": 0,
   "metadata": {
    "ExecuteTime": {
     "end_time": "2020-05-14T00:20:54.970769Z",
     "start_time": "2020-05-14T00:20:04.626791Z"
    },
    "colab": {},
    "colab_type": "code",
    "hidden": true,
    "id": "1P0Qe_cjAIAk"
   },
   "outputs": [],
   "source": [
    "tfidf_X_tiny = tfidf_tiny.fit_transform(X_tiny).todense();"
   ]
  },
  {
   "cell_type": "code",
   "execution_count": 0,
   "metadata": {
    "ExecuteTime": {
     "end_time": "2020-05-14T00:20:55.153319Z",
     "start_time": "2020-05-14T00:20:54.984616Z"
    },
    "colab": {},
    "colab_type": "code",
    "hidden": true,
    "id": "COPOlqqvAIBp"
   },
   "outputs": [],
   "source": [
    "columns = sorted(tfidf_tiny.vocabulary_, key=lambda k: tfidf_tiny.vocabulary_[k])\n",
    "X_tiny_df = pd.DataFrame(tfidf_X_tiny, columns=columns);"
   ]
  },
  {
   "cell_type": "code",
   "execution_count": 0,
   "metadata": {
    "ExecuteTime": {
     "end_time": "2020-05-14T00:20:55.178524Z",
     "start_time": "2020-05-14T00:20:55.162404Z"
    },
    "colab": {},
    "colab_type": "code",
    "hidden": true,
    "id": "nvhgLfa6AICN"
   },
   "outputs": [],
   "source": [
    "len(X_tiny_df.columns)"
   ]
  },
  {
   "cell_type": "code",
   "execution_count": 0,
   "metadata": {
    "ExecuteTime": {
     "end_time": "2020-05-14T00:21:22.458165Z",
     "start_time": "2020-05-14T00:20:55.193659Z"
    },
    "colab": {},
    "colab_type": "code",
    "hidden": true,
    "id": "xGHAnG7CAICw"
   },
   "outputs": [],
   "source": [
    "np.sum(X_tiny_df[np.array(y_tiny)==1], axis=0).sort_values(ascending=False)[:10]"
   ]
  },
  {
   "cell_type": "code",
   "execution_count": 0,
   "metadata": {
    "ExecuteTime": {
     "end_time": "2020-05-14T00:21:50.977750Z",
     "start_time": "2020-05-14T00:21:22.481926Z"
    },
    "colab": {},
    "colab_type": "code",
    "hidden": true,
    "id": "PkDTV2nlAIDM"
   },
   "outputs": [],
   "source": [
    "np.sum(X_tiny_df[np.array(y_tiny)==0], axis=0).sort_values(ascending=False)[:10]"
   ]
  },
  {
   "cell_type": "code",
   "execution_count": 0,
   "metadata": {
    "ExecuteTime": {
     "end_time": "2020-05-14T00:22:09.735742Z",
     "start_time": "2020-05-14T00:21:51.010141Z"
    },
    "colab": {},
    "colab_type": "code",
    "hidden": true,
    "id": "iIiiQg0GAIDu"
   },
   "outputs": [],
   "source": [
    "# Transform tiny test set\n",
    "tfidf_X_tiny_t = tfidf_tiny.transform(X_tiny_t).todense()"
   ]
  },
  {
   "cell_type": "markdown",
   "metadata": {
    "colab_type": "text",
    "heading_collapsed": true,
    "hidden": true,
    "id": "td_GTZJgpzC0"
   },
   "source": [
    "### Trial Models with Tiny data subset"
   ]
  },
  {
   "cell_type": "markdown",
   "metadata": {
    "colab_type": "text",
    "heading_collapsed": true,
    "hidden": true,
    "id": "y5zG7DnlAIL7"
   },
   "source": [
    "#### Logistic Regression"
   ]
  },
  {
   "cell_type": "code",
   "execution_count": 0,
   "metadata": {
    "ExecuteTime": {
     "end_time": "2020-05-14T00:25:12.118311Z",
     "start_time": "2020-05-14T00:25:12.110374Z"
    },
    "colab": {},
    "colab_type": "code",
    "hidden": true,
    "id": "TLtchh_nAIL9"
   },
   "outputs": [],
   "source": [
    "tiny_log = LogisticRegression()"
   ]
  },
  {
   "cell_type": "code",
   "execution_count": 0,
   "metadata": {
    "ExecuteTime": {
     "end_time": "2020-05-14T00:31:15.407745Z",
     "start_time": "2020-05-14T00:25:23.299934Z"
    },
    "colab": {},
    "colab_type": "code",
    "hidden": true,
    "id": "cjehLrmHAIM-",
    "outputId": "2638475a-c273-427b-de84-1359935a0103"
   },
   "outputs": [
    {
     "data": {
      "text/plain": [
       "LogisticRegression(C=1.0, class_weight=None, dual=False, fit_intercept=True,\n",
       "                   intercept_scaling=1, l1_ratio=None, max_iter=100,\n",
       "                   multi_class='auto', n_jobs=None, penalty='l2',\n",
       "                   random_state=None, solver='lbfgs', tol=0.0001, verbose=0,\n",
       "                   warm_start=False)"
      ]
     },
     "execution_count": 39,
     "metadata": {
      "tags": []
     },
     "output_type": "execute_result"
    }
   ],
   "source": [
    "tiny_log.fit(tfidf_X_tiny, y_tiny)"
   ]
  },
  {
   "cell_type": "code",
   "execution_count": 0,
   "metadata": {
    "ExecuteTime": {
     "end_time": "2020-05-14T00:33:02.166534Z",
     "start_time": "2020-05-14T00:32:37.577451Z"
    },
    "colab": {},
    "colab_type": "code",
    "hidden": true,
    "id": "nOc4fsU7AIOe",
    "outputId": "7641a23e-85a6-46ce-de11-c349edf1bdd7"
   },
   "outputs": [
    {
     "data": {
      "text/plain": [
       "(0.86415, 0.844074605451937)"
      ]
     },
     "execution_count": 43,
     "metadata": {
      "tags": []
     },
     "output_type": "execute_result"
    }
   ],
   "source": [
    "# training scores\n",
    "accuracy_score(y_tiny, tiny_log.predict(tfidf_X_tiny)), f1_score(y_tiny, tiny_log.predict(tfidf_X_tiny))"
   ]
  },
  {
   "cell_type": "code",
   "execution_count": 0,
   "metadata": {
    "ExecuteTime": {
     "end_time": "2020-05-14T00:33:05.833403Z",
     "start_time": "2020-05-14T00:33:02.193848Z"
    },
    "colab": {},
    "colab_type": "code",
    "hidden": true,
    "id": "FYL8mVZFAIOu"
   },
   "outputs": [],
   "source": [
    "y_tiny_prob = tiny_log.predict_proba(tfidf_X_tiny_t)[:,1]\n",
    "y_tiny_hat = tiny_log.predict(tfidf_X_tiny_t)"
   ]
  },
  {
   "cell_type": "code",
   "execution_count": 0,
   "metadata": {
    "ExecuteTime": {
     "end_time": "2020-05-14T00:33:05.880120Z",
     "start_time": "2020-05-14T00:33:05.843284Z"
    },
    "colab": {},
    "colab_type": "code",
    "hidden": true,
    "id": "fI94neZUAIPE",
    "outputId": "6b9a885e-ee77-4099-e27f-8d4027367594"
   },
   "outputs": [
    {
     "data": {
      "text/plain": [
       "(0.8116, 0.7862006354970495)"
      ]
     },
     "execution_count": 45,
     "metadata": {
      "tags": []
     },
     "output_type": "execute_result"
    }
   ],
   "source": [
    "# test scores\n",
    "accuracy_score(y_tiny_t, y_tiny_hat), f1_score(y_tiny_t, y_tiny_hat)"
   ]
  },
  {
   "cell_type": "markdown",
   "metadata": {
    "colab_type": "text",
    "heading_collapsed": true,
    "hidden": true,
    "id": "RGp5qfjRAIPe"
   },
   "source": [
    "#### Random Forest"
   ]
  },
  {
   "cell_type": "code",
   "execution_count": 0,
   "metadata": {
    "ExecuteTime": {
     "end_time": "2020-05-14T00:38:54.946877Z",
     "start_time": "2020-05-14T00:33:19.861898Z"
    },
    "colab": {},
    "colab_type": "code",
    "hidden": true,
    "id": "GHZBu8RCAIPj",
    "outputId": "bd1c5b6e-459a-434c-b325-9ee2f589b6b8"
   },
   "outputs": [
    {
     "data": {
      "text/plain": [
       "RandomForestClassifier(bootstrap=True, ccp_alpha=0.0, class_weight=None,\n",
       "                       criterion='entropy', max_depth=50, max_features='sqrt',\n",
       "                       max_leaf_nodes=None, max_samples=None,\n",
       "                       min_impurity_decrease=0.0, min_impurity_split=None,\n",
       "                       min_samples_leaf=1, min_samples_split=2,\n",
       "                       min_weight_fraction_leaf=0.0, n_estimators=50,\n",
       "                       n_jobs=None, oob_score=False, random_state=None,\n",
       "                       verbose=0, warm_start=False)"
      ]
     },
     "execution_count": 46,
     "metadata": {
      "tags": []
     },
     "output_type": "execute_result"
    }
   ],
   "source": [
    "# best random forest parameters found\n",
    "rfc = RandomForestClassifier(n_estimators=50, criterion='entropy', max_depth=50, max_features='sqrt')\n",
    "rfc.fit(tfidf_X_tiny, y_tiny)"
   ]
  },
  {
   "cell_type": "code",
   "execution_count": 0,
   "metadata": {
    "ExecuteTime": {
     "end_time": "2020-05-14T00:41:37.691141Z",
     "start_time": "2020-05-14T00:40:42.367592Z"
    },
    "colab": {},
    "colab_type": "code",
    "hidden": true,
    "id": "MCCxZjTKAIQF",
    "outputId": "ed0d12bd-c8c0-4e98-e7a0-e118016c0732"
   },
   "outputs": [
    {
     "data": {
      "text/plain": [
       "(0.9684, 0.9645541222658441)"
      ]
     },
     "execution_count": 47,
     "metadata": {
      "tags": []
     },
     "output_type": "execute_result"
    }
   ],
   "source": [
    "# training scores\n",
    "accuracy_score(y_tiny, rfc.predict(tfidf_X_tiny)), f1_score(y_tiny, rfc.predict(tfidf_X_tiny))"
   ]
  },
  {
   "cell_type": "code",
   "execution_count": 0,
   "metadata": {
    "ExecuteTime": {
     "end_time": "2020-05-14T00:41:50.963016Z",
     "start_time": "2020-05-14T00:41:44.752016Z"
    },
    "colab": {},
    "colab_type": "code",
    "hidden": true,
    "id": "nhs0ENzsAIRG"
   },
   "outputs": [],
   "source": [
    "rfc_y_tiny_prob = rfc.predict_proba(tfidf_X_tiny_t)\n",
    "rfc_y_tiny_hat = rfc.predict(tfidf_X_tiny_t)"
   ]
  },
  {
   "cell_type": "code",
   "execution_count": 0,
   "metadata": {
    "ExecuteTime": {
     "end_time": "2020-05-14T00:41:52.213594Z",
     "start_time": "2020-05-14T00:41:52.177256Z"
    },
    "colab": {},
    "colab_type": "code",
    "hidden": true,
    "id": "IlUhRbckAIRV",
    "outputId": "3f31c0a1-510f-492d-e3d5-1edfb8580471"
   },
   "outputs": [
    {
     "data": {
      "text/plain": [
       "(0.8116, 0.7862006354970495)"
      ]
     },
     "execution_count": 49,
     "metadata": {
      "tags": []
     },
     "output_type": "execute_result"
    }
   ],
   "source": [
    "# test scores\n",
    "accuracy_score(y_tiny_t, y_tiny_hat), f1_score(y_tiny_t, y_tiny_hat)"
   ]
  },
  {
   "cell_type": "code",
   "execution_count": 0,
   "metadata": {
    "ExecuteTime": {
     "end_time": "2020-05-14T00:42:05.418573Z",
     "start_time": "2020-05-14T00:42:05.062790Z"
    },
    "colab": {},
    "colab_type": "code",
    "hidden": true,
    "id": "fjuqznV1AIR2",
    "outputId": "208500ea-a7d6-4786-b4b6-fec5eb8ad235"
   },
   "outputs": [
    {
     "data": {
      "text/plain": [
       "37768"
      ]
     },
     "execution_count": 51,
     "metadata": {
      "tags": []
     },
     "output_type": "execute_result"
    }
   ],
   "source": [
    "importances = rfc.feature_importances_; len(importances)"
   ]
  },
  {
   "cell_type": "code",
   "execution_count": 0,
   "metadata": {
    "ExecuteTime": {
     "end_time": "2020-05-14T00:42:34.187881Z",
     "start_time": "2020-05-14T00:42:34.171486Z"
    },
    "colab": {},
    "colab_type": "code",
    "hidden": true,
    "id": "NjUGPI4hAISm"
   },
   "outputs": [],
   "source": [
    "indices = importances.argsort()[::-1]\n",
    "indices;"
   ]
  },
  {
   "cell_type": "code",
   "execution_count": 0,
   "metadata": {
    "ExecuteTime": {
     "end_time": "2020-05-14T00:50:09.771634Z",
     "start_time": "2020-05-14T00:50:09.755915Z"
    },
    "colab": {},
    "colab_type": "code",
    "hidden": true,
    "id": "ot5W2_cjAITI",
    "outputId": "a568f7e2-e475-4b8f-e9cb-9a0e69e8f67e"
   },
   "outputs": [
    {
     "data": {
      "text/plain": [
       "['amaz',\n",
       " 'best',\n",
       " 'love',\n",
       " 'great',\n",
       " 'delici',\n",
       " 'recommend',\n",
       " 'would',\n",
       " 'awesom',\n",
       " 'like',\n",
       " 'definit']"
      ]
     },
     "execution_count": 64,
     "metadata": {
      "tags": []
     },
     "output_type": "execute_result"
    }
   ],
   "source": [
    "# top 500 features in the model\n",
    "X_tiny_df.columns[indices].tolist()[:10]"
   ]
  },
  {
   "cell_type": "code",
   "execution_count": 0,
   "metadata": {
    "ExecuteTime": {
     "end_time": "2020-05-14T19:01:26.071683Z",
     "start_time": "2020-05-14T19:01:25.878487Z"
    },
    "code_folding": [],
    "colab": {},
    "colab_type": "code",
    "hidden": true,
    "id": "HsaIUBbQAITb"
   },
   "outputs": [],
   "source": [
    "sVOCAB = X_tiny_df.columns[indices].tolist()[:1000]"
   ]
  },
  {
   "cell_type": "code",
   "execution_count": 0,
   "metadata": {
    "ExecuteTime": {
     "end_time": "2020-05-14T00:51:11.342764Z",
     "start_time": "2020-05-14T00:51:11.333643Z"
    },
    "colab": {},
    "colab_type": "code",
    "hidden": true,
    "id": "5AhWmmuvAIT_"
   },
   "outputs": [],
   "source": [
    "mVOCAB = X_tiny_df.columns[indices].tolist()[:5000]"
   ]
  },
  {
   "cell_type": "code",
   "execution_count": 0,
   "metadata": {
    "ExecuteTime": {
     "end_time": "2020-05-14T00:47:39.539446Z",
     "start_time": "2020-05-14T00:47:39.529889Z"
    },
    "colab": {},
    "colab_type": "code",
    "hidden": true,
    "id": "uIxYZZe1AIUZ"
   },
   "outputs": [],
   "source": [
    "bigVOCAB = X_tiny_df.columns[indices].tolist()[:10000]"
   ]
  },
  {
   "cell_type": "markdown",
   "metadata": {
    "colab_type": "text",
    "heading_collapsed": true,
    "hidden": true,
    "id": "Ima0oOZTAIVE"
   },
   "source": [
    "#### Gradient Boosting Classifier"
   ]
  },
  {
   "cell_type": "code",
   "execution_count": 0,
   "metadata": {
    "ExecuteTime": {
     "end_time": "2020-05-13T17:01:21.917801Z",
     "start_time": "2020-05-13T17:01:13.392478Z"
    },
    "colab": {},
    "colab_type": "code",
    "hidden": true,
    "id": "f8v2aRzDAIVS",
    "outputId": "328e05bb-2c7e-40fc-a444-cc32c3b7903c"
   },
   "outputs": [
    {
     "data": {
      "text/plain": [
       "GradientBoostingClassifier(ccp_alpha=0.0, criterion='friedman_mse', init=None,\n",
       "                           learning_rate=0.1, loss='deviance', max_depth=5,\n",
       "                           max_features='sqrt', max_leaf_nodes=None,\n",
       "                           min_impurity_decrease=0.0, min_impurity_split=None,\n",
       "                           min_samples_leaf=1, min_samples_split=2,\n",
       "                           min_weight_fraction_leaf=0.0, n_estimators=50,\n",
       "                           n_iter_no_change=None, presort='deprecated',\n",
       "                           random_state=None, subsample=1.0, tol=0.0001,\n",
       "                           validation_fraction=0.1, verbose=0,\n",
       "                           warm_start=False)"
      ]
     },
     "execution_count": 253,
     "metadata": {
      "tags": []
     },
     "output_type": "execute_result"
    }
   ],
   "source": [
    "tiny_gbc = GradientBoostingClassifier(learning_rate=0.1,\n",
    "                                  n_estimators=50,\n",
    "                                  max_depth=5,\n",
    "                                max_features='sqrt')\n",
    "tiny_gbc.fit(tfidf_X_tiny, y_tiny)\n"
   ]
  },
  {
   "cell_type": "code",
   "execution_count": 0,
   "metadata": {
    "ExecuteTime": {
     "end_time": "2020-05-14T00:55:12.380569Z",
     "start_time": "2020-05-14T00:54:43.867089Z"
    },
    "colab": {},
    "colab_type": "code",
    "hidden": true,
    "id": "o-cOConRAIWA",
    "outputId": "0149ef0e-1436-483f-8f65-1186f2275968"
   },
   "outputs": [
    {
     "data": {
      "text/plain": [
       "(0.8101, 0.7423337856173677)"
      ]
     },
     "execution_count": 67,
     "metadata": {
      "tags": []
     },
     "output_type": "execute_result"
    }
   ],
   "source": [
    "accuracy_score(y_tiny, tiny_gbc.predict(tfidf_X_tiny)), f1_score(y_tiny, tiny_gbc.predict(tfidf_X_tiny))"
   ]
  },
  {
   "cell_type": "code",
   "execution_count": 0,
   "metadata": {
    "ExecuteTime": {
     "end_time": "2020-05-14T00:55:52.309786Z",
     "start_time": "2020-05-14T00:55:50.713926Z"
    },
    "colab": {},
    "colab_type": "code",
    "hidden": true,
    "id": "Dx_LF5ucAIWU"
   },
   "outputs": [],
   "source": [
    "tiny_gbc_y_hat = tiny_gbc.predict(tfidf_X_tiny_t)\n",
    "tiny_gbc_y_prob = tiny_gbc.predict_proba(tfidf_X_tiny_t)[:,1]"
   ]
  },
  {
   "cell_type": "code",
   "execution_count": 0,
   "metadata": {
    "ExecuteTime": {
     "end_time": "2020-05-14T00:55:52.360772Z",
     "start_time": "2020-05-14T00:55:52.325862Z"
    },
    "colab": {},
    "colab_type": "code",
    "hidden": true,
    "id": "dLuXkwDQAIWz",
    "outputId": "78b71b5c-bee6-4437-c552-4c1d7be51114"
   },
   "outputs": [
    {
     "data": {
      "text/plain": [
       "(0.7348, 0.6256352343308865)"
      ]
     },
     "execution_count": 71,
     "metadata": {
      "tags": []
     },
     "output_type": "execute_result"
    }
   ],
   "source": [
    "accuracy_score(y_tiny_t, tiny_gbc_y_hat), f1_score(y_tiny_t, tiny_gbc_y_hat)"
   ]
  },
  {
   "cell_type": "markdown",
   "metadata": {
    "colab_type": "text",
    "heading_collapsed": true,
    "hidden": true,
    "id": "uBZf0dsnAIXc"
   },
   "source": [
    "#### Naive Bayes Model"
   ]
  },
  {
   "cell_type": "code",
   "execution_count": 0,
   "metadata": {
    "ExecuteTime": {
     "end_time": "2020-05-14T00:53:42.478425Z",
     "start_time": "2020-05-14T00:53:10.080562Z"
    },
    "colab": {},
    "colab_type": "code",
    "hidden": true,
    "id": "mzsTLqMkAIXm"
   },
   "outputs": [],
   "source": [
    "tiny_nbc = MultinomialNB().fit(tfidf_X_tiny, y_tiny)"
   ]
  },
  {
   "cell_type": "code",
   "execution_count": 0,
   "metadata": {
    "ExecuteTime": {
     "end_time": "2020-05-14T00:55:12.380569Z",
     "start_time": "2020-05-14T00:54:43.867089Z"
    },
    "colab": {},
    "colab_type": "code",
    "hidden": true,
    "id": "ydsDyRbnAIX8",
    "outputId": "11ebb653-e8ad-4db8-c995-962828f66c12"
   },
   "outputs": [
    {
     "data": {
      "text/plain": [
       "(0.8101, 0.7423337856173677)"
      ]
     },
     "execution_count": 67,
     "metadata": {
      "tags": []
     },
     "output_type": "execute_result"
    }
   ],
   "source": [
    "accuracy_score(y_tiny, tiny_nbc.predict(tfidf_X_tiny)), f1_score(y_tiny, tiny_nbc.predict(tfidf_X_tiny))"
   ]
  },
  {
   "cell_type": "code",
   "execution_count": 0,
   "metadata": {
    "ExecuteTime": {
     "end_time": "2020-05-14T00:55:52.309786Z",
     "start_time": "2020-05-14T00:55:50.713926Z"
    },
    "colab": {},
    "colab_type": "code",
    "hidden": true,
    "id": "37mItqDaAIYK"
   },
   "outputs": [],
   "source": [
    "tiny_nbc_y_hat = tiny_nbc.predict(tfidf_X_tiny_t)\n",
    "tiny_nbc_y_prob = tiny_nbc.predict_proba(tfidf_X_tiny_t)[:,1]"
   ]
  },
  {
   "cell_type": "code",
   "execution_count": 0,
   "metadata": {
    "ExecuteTime": {
     "end_time": "2020-05-14T00:55:52.360772Z",
     "start_time": "2020-05-14T00:55:52.325862Z"
    },
    "colab": {},
    "colab_type": "code",
    "hidden": true,
    "id": "GIDVLP2cAIYj",
    "outputId": "e23f0a2c-80a0-4a78-c152-cd4ee59112b2"
   },
   "outputs": [
    {
     "data": {
      "text/plain": [
       "(0.7348, 0.6256352343308865)"
      ]
     },
     "execution_count": 71,
     "metadata": {
      "tags": []
     },
     "output_type": "execute_result"
    }
   ],
   "source": [
    "accuracy_score(y_tiny_t, tiny_nbc_y_hat), f1_score(y_tiny_t, tiny_nbc_y_hat)"
   ]
  },
  {
   "cell_type": "markdown",
   "metadata": {
    "colab_type": "text",
    "heading_collapsed": true,
    "hidden": true,
    "id": "Q4SjMjPeAIEL"
   },
   "source": [
    "### TFIDF Vectorize X_small data subset"
   ]
  },
  {
   "cell_type": "code",
   "execution_count": 0,
   "metadata": {
    "ExecuteTime": {
     "end_time": "2020-05-14T00:56:35.847314Z",
     "start_time": "2020-05-14T00:56:35.841457Z"
    },
    "colab": {},
    "colab_type": "code",
    "hidden": true,
    "id": "CW16wSb4AIEO"
   },
   "outputs": [],
   "source": [
    "# Create tfidf vectorizer for small subset of data\n",
    "tfidf_small = TfidfVectorizer(tokenizer=tokenizer, vocabulary=sVOCAB)"
   ]
  },
  {
   "cell_type": "code",
   "execution_count": 0,
   "metadata": {
    "ExecuteTime": {
     "end_time": "2020-05-14T01:05:36.160228Z",
     "start_time": "2020-05-14T00:56:38.190548Z"
    },
    "colab": {},
    "colab_type": "code",
    "hidden": true,
    "id": "61wOUEo0AIEk"
   },
   "outputs": [],
   "source": [
    "tfidf_X_small = tfidf_small.fit_transform(X_small).todense();"
   ]
  },
  {
   "cell_type": "code",
   "execution_count": 0,
   "metadata": {
    "ExecuteTime": {
     "end_time": "2020-05-14T01:46:38.254085Z",
     "start_time": "2020-05-14T01:46:38.223137Z"
    },
    "colab": {},
    "colab_type": "code",
    "hidden": true,
    "id": "KxHxwtRAAIFZ"
   },
   "outputs": [],
   "source": [
    "columns = sorted(tfidf_small.vocabulary_, key=lambda k: tfidf_small.vocabulary_[k])\n",
    "X_small_df = pd.DataFrame(tfidf_X_small, columns=columns);"
   ]
  },
  {
   "cell_type": "code",
   "execution_count": 0,
   "metadata": {
    "ExecuteTime": {
     "end_time": "2020-05-14T00:10:02.930649Z",
     "start_time": "2020-05-14T00:10:02.914347Z"
    },
    "colab": {},
    "colab_type": "code",
    "hidden": true,
    "id": "ngatZKjCAIGV"
   },
   "outputs": [],
   "source": [
    "#len(X_small_df.columns)"
   ]
  },
  {
   "cell_type": "code",
   "execution_count": 0,
   "metadata": {
    "ExecuteTime": {
     "end_time": "2020-05-14T00:22:20.770793Z",
     "start_time": "2020-05-14T00:22:20.766059Z"
    },
    "colab": {},
    "colab_type": "code",
    "hidden": true,
    "id": "U-OwrQp5AIGd"
   },
   "outputs": [],
   "source": [
    "#X_small_df.columns[150:200]"
   ]
  },
  {
   "cell_type": "code",
   "execution_count": 0,
   "metadata": {
    "ExecuteTime": {
     "start_time": "2020-05-14T00:10:39.524Z"
    },
    "colab": {},
    "colab_type": "code",
    "hidden": true,
    "id": "JdAywjVCAIG3"
   },
   "outputs": [],
   "source": [
    "#np.sum(X_small_df[np.array(y_small)==1], axis=0).sort_values(ascending=False)[:10]"
   ]
  },
  {
   "cell_type": "code",
   "execution_count": 0,
   "metadata": {
    "ExecuteTime": {
     "start_time": "2020-05-14T00:10:40.327Z"
    },
    "colab": {},
    "colab_type": "code",
    "hidden": true,
    "id": "7Ec2bTgWAIHO"
   },
   "outputs": [],
   "source": [
    "#np.sum(X_small_df[np.array(y_small)==0], axis=0).sort_values(ascending=False)[:10]"
   ]
  },
  {
   "cell_type": "code",
   "execution_count": 0,
   "metadata": {
    "ExecuteTime": {
     "end_time": "2020-05-14T01:48:53.180863Z",
     "start_time": "2020-05-14T01:47:00.169579Z"
    },
    "colab": {},
    "colab_type": "code",
    "hidden": true,
    "id": "0gJvA9GDAIHf"
   },
   "outputs": [],
   "source": [
    "# Transform small test set\n",
    "tfidf_X_small_t = tfidf_small.transform(X_small_t).todense()"
   ]
  },
  {
   "cell_type": "markdown",
   "metadata": {
    "colab_type": "text",
    "heading_collapsed": true,
    "hidden": true,
    "id": "QrKfgJHfAIH5"
   },
   "source": [
    "### TFIDF Vectorize X_half_1 data subset"
   ]
  },
  {
   "cell_type": "code",
   "execution_count": 0,
   "metadata": {
    "ExecuteTime": {
     "end_time": "2020-05-14T19:01:32.942812Z",
     "start_time": "2020-05-14T19:01:32.939877Z"
    },
    "colab": {},
    "colab_type": "code",
    "hidden": true,
    "id": "Zs0dT4P1AIH9"
   },
   "outputs": [],
   "source": [
    "# Create tfidf vectorizer for half of data\n",
    "tfidf_half_1 = TfidfVectorizer(tokenizer=tokenizer, vocabulary=sVOCAB)"
   ]
  },
  {
   "cell_type": "code",
   "execution_count": 0,
   "metadata": {
    "ExecuteTime": {
     "end_time": "2020-05-14T19:27:32.352893Z",
     "start_time": "2020-05-14T19:01:33.639463Z"
    },
    "colab": {},
    "colab_type": "code",
    "hidden": true,
    "id": "FuGmin-pAIIR"
   },
   "outputs": [],
   "source": [
    "tfidf_X_half_1 = tfidf_half_1.fit_transform(X_half_1).todense();"
   ]
  },
  {
   "cell_type": "code",
   "execution_count": 0,
   "metadata": {
    "ExecuteTime": {
     "end_time": "2020-05-14T19:27:32.561112Z",
     "start_time": "2020-05-14T19:27:32.419616Z"
    },
    "colab": {},
    "colab_type": "code",
    "hidden": true,
    "id": "iO8w2fQ5AII6"
   },
   "outputs": [],
   "source": [
    "columns = sorted(tfidf_half_1.vocabulary_, key=lambda k: tfidf_half_1.vocabulary_[k])\n",
    "X_half_1_df = pd.DataFrame(tfidf_X_half_1, columns=columns);"
   ]
  },
  {
   "cell_type": "code",
   "execution_count": 0,
   "metadata": {
    "ExecuteTime": {
     "end_time": "2020-05-14T19:34:14.585963Z",
     "start_time": "2020-05-14T19:27:41.845075Z"
    },
    "colab": {},
    "colab_type": "code",
    "hidden": true,
    "id": "mG2uLZ1kAIKV"
   },
   "outputs": [],
   "source": [
    "# Transform small test set\n",
    "tfidf_X_half_1_t = tfidf_half_1.transform(X_half_1_t).todense()"
   ]
  },
  {
   "cell_type": "markdown",
   "metadata": {
    "colab_type": "text",
    "heading_collapsed": true,
    "hidden": true,
    "id": "GeFC28omAIKm"
   },
   "source": [
    "### TFIDF Vectorize Final Train and Test"
   ]
  },
  {
   "cell_type": "code",
   "execution_count": 0,
   "metadata": {
    "ExecuteTime": {
     "end_time": "2020-05-14T18:30:46.879181Z",
     "start_time": "2020-05-14T18:30:46.873298Z"
    },
    "colab": {},
    "colab_type": "code",
    "hidden": true,
    "id": "Xwmqp7MKAIKn"
   },
   "outputs": [],
   "source": [
    "# Create tfidf vectorizer for final training data\n",
    "tfidf_final = TfidfVectorizer(tokenizer=tokenizer, vocabulary=sVOCAB)"
   ]
  },
  {
   "cell_type": "code",
   "execution_count": 0,
   "metadata": {
    "ExecuteTime": {
     "end_time": "2020-05-14T18:59:56.160423Z",
     "start_time": "2020-05-14T18:30:52.322999Z"
    },
    "colab": {},
    "colab_type": "code",
    "hidden": true,
    "id": "9e-vrLhpAIK0"
   },
   "outputs": [],
   "source": [
    "tfidf_X_train = tfidf_final.fit_transform(final_X_train).todense();"
   ]
  },
  {
   "cell_type": "code",
   "execution_count": 0,
   "metadata": {
    "colab": {},
    "colab_type": "code",
    "hidden": true,
    "id": "aVG-M6ayAILB"
   },
   "outputs": [],
   "source": [
    "columns = sorted(tfidf_final.vocabulary_, key=lambda k: tfidf_final.vocabulary_[k])\n",
    "X_final_df = pd.DataFrame(tfidf_X_train, columns=columns);"
   ]
  },
  {
   "cell_type": "code",
   "execution_count": 0,
   "metadata": {
    "colab": {},
    "colab_type": "code",
    "hidden": true,
    "id": "w8nq60fdAILY"
   },
   "outputs": [],
   "source": [
    "# Transform final test set\n",
    "tfidf_X_test = tfidf_final.transform(final_X_test).todense()"
   ]
  },
  {
   "cell_type": "markdown",
   "metadata": {
    "colab_type": "text",
    "heading_collapsed": true,
    "id": "5EYHk2TdAIL4"
   },
   "source": [
    "# Models"
   ]
  },
  {
   "cell_type": "markdown",
   "metadata": {
    "colab_type": "text",
    "heading_collapsed": true,
    "hidden": true,
    "id": "k7ssakRLAIY1"
   },
   "source": [
    "### Models with Small Dataset"
   ]
  },
  {
   "cell_type": "markdown",
   "metadata": {
    "colab_type": "text",
    "hidden": true,
    "id": "JUkpiKOqAIY2"
   },
   "source": [
    "#### Logistic Regression"
   ]
  },
  {
   "cell_type": "code",
   "execution_count": 0,
   "metadata": {
    "ExecuteTime": {
     "end_time": "2020-05-14T02:04:52.103213Z",
     "start_time": "2020-05-14T02:04:52.087389Z"
    },
    "colab": {},
    "colab_type": "code",
    "hidden": true,
    "id": "OyHPl42SAIY6"
   },
   "outputs": [],
   "source": [
    "small_log = LogisticRegression()"
   ]
  },
  {
   "cell_type": "code",
   "execution_count": 0,
   "metadata": {
    "ExecuteTime": {
     "end_time": "2020-05-14T02:34:31.097708Z",
     "start_time": "2020-05-14T02:04:53.400473Z"
    },
    "colab": {},
    "colab_type": "code",
    "hidden": true,
    "id": "pbODHQ8HAIZM",
    "outputId": "8faaaea6-f86b-4bdb-cc13-6db0294d041d"
   },
   "outputs": [
    {
     "name": "stderr",
     "output_type": "stream",
     "text": [
      "/opt/anaconda3/lib/python3.7/site-packages/sklearn/linear_model/_logistic.py:940: ConvergenceWarning: lbfgs failed to converge (status=1):\n",
      "STOP: TOTAL NO. of ITERATIONS REACHED LIMIT.\n",
      "\n",
      "Increase the number of iterations (max_iter) or scale the data as shown in:\n",
      "    https://scikit-learn.org/stable/modules/preprocessing.html\n",
      "Please also refer to the documentation for alternative solver options:\n",
      "    https://scikit-learn.org/stable/modules/linear_model.html#logistic-regression\n",
      "  extra_warning_msg=_LOGISTIC_SOLVER_CONVERGENCE_MSG)\n"
     ]
    },
    {
     "data": {
      "text/plain": [
       "LogisticRegression(C=1.0, class_weight=None, dual=False, fit_intercept=True,\n",
       "                   intercept_scaling=1, l1_ratio=None, max_iter=100,\n",
       "                   multi_class='auto', n_jobs=None, penalty='l2',\n",
       "                   random_state=None, solver='lbfgs', tol=0.0001, verbose=0,\n",
       "                   warm_start=False)"
      ]
     },
     "execution_count": 77,
     "metadata": {
      "tags": []
     },
     "output_type": "execute_result"
    }
   ],
   "source": [
    "small_log.fit(tfidf_X_small, y_small)"
   ]
  },
  {
   "cell_type": "code",
   "execution_count": 0,
   "metadata": {
    "ExecuteTime": {
     "end_time": "2020-05-14T02:35:19.952910Z",
     "start_time": "2020-05-14T02:34:39.614906Z"
    },
    "colab": {},
    "colab_type": "code",
    "hidden": true,
    "id": "EGKEDP_VAIZn",
    "outputId": "84c7a423-47f4-4c64-bd01-609e243ef056"
   },
   "outputs": [
    {
     "data": {
      "text/plain": [
       "(0.834095, 0.8126753645606922)"
      ]
     },
     "execution_count": 78,
     "metadata": {
      "tags": []
     },
     "output_type": "execute_result"
    }
   ],
   "source": [
    "# training scores\n",
    "accuracy_score(y_small, small_log.predict(tfidf_X_small)), f1_score(y_small, small_log.predict(tfidf_X_small))"
   ]
  },
  {
   "cell_type": "code",
   "execution_count": 0,
   "metadata": {
    "ExecuteTime": {
     "end_time": "2020-05-14T05:44:27.454192Z",
     "start_time": "2020-05-14T05:44:07.666858Z"
    },
    "colab": {},
    "colab_type": "code",
    "hidden": true,
    "id": "1yT7aALmAIZy"
   },
   "outputs": [],
   "source": [
    "y_small_prob = small_log.predict_proba(tfidf_X_small_t)[:,1]\n",
    "y_small_hat = small_log.predict(tfidf_X_small_t)"
   ]
  },
  {
   "cell_type": "code",
   "execution_count": 0,
   "metadata": {
    "ExecuteTime": {
     "end_time": "2020-05-14T03:02:27.428672Z",
     "start_time": "2020-05-14T03:02:27.333314Z"
    },
    "colab": {},
    "colab_type": "code",
    "hidden": true,
    "id": "w2sskdG7AIaB",
    "outputId": "25b6397d-4c6b-4380-9002-c75dc88e7100"
   },
   "outputs": [
    {
     "data": {
      "text/plain": [
       "(0.82802, 0.8053864433631323)"
      ]
     },
     "execution_count": 80,
     "metadata": {
      "tags": []
     },
     "output_type": "execute_result"
    }
   ],
   "source": [
    "# test scores\n",
    "accuracy_score(y_small_t, y_small_hat), f1_score(y_small_t, y_small_hat)"
   ]
  },
  {
   "cell_type": "markdown",
   "metadata": {
    "colab_type": "text",
    "hidden": true,
    "id": "7hxBmK_OAIcR"
   },
   "source": [
    "#### Random Forest"
   ]
  },
  {
   "cell_type": "code",
   "execution_count": 0,
   "metadata": {
    "ExecuteTime": {
     "end_time": "2020-05-14T03:22:37.348740Z",
     "start_time": "2020-05-14T03:09:06.102391Z"
    },
    "colab": {},
    "colab_type": "code",
    "hidden": true,
    "id": "XPfpg4PHAIcS",
    "outputId": "ba1e906d-00e1-4572-986e-e0e80ebdff77"
   },
   "outputs": [
    {
     "data": {
      "text/plain": [
       "RandomForestClassifier(bootstrap=True, ccp_alpha=0.0, class_weight=None,\n",
       "                       criterion='entropy', max_depth=50, max_features='sqrt',\n",
       "                       max_leaf_nodes=None, max_samples=None,\n",
       "                       min_impurity_decrease=0.0, min_impurity_split=None,\n",
       "                       min_samples_leaf=1, min_samples_split=2,\n",
       "                       min_weight_fraction_leaf=0.0, n_estimators=50,\n",
       "                       n_jobs=None, oob_score=False, random_state=None,\n",
       "                       verbose=0, warm_start=False)"
      ]
     },
     "execution_count": 86,
     "metadata": {
      "tags": []
     },
     "output_type": "execute_result"
    }
   ],
   "source": [
    "# best random forest parameters found\n",
    "small_rfc = RandomForestClassifier(n_estimators=50, criterion='entropy', max_depth=50, max_features='sqrt')\n",
    "small_rfc.fit(tfidf_X_small, y_small)"
   ]
  },
  {
   "cell_type": "code",
   "execution_count": 0,
   "metadata": {
    "ExecuteTime": {
     "end_time": "2020-05-14T03:29:05.246852Z",
     "start_time": "2020-05-14T03:28:04.019832Z"
    },
    "colab": {},
    "colab_type": "code",
    "hidden": true,
    "id": "DgU8_msNAIcl",
    "outputId": "4a4df662-133b-43b6-c901-b9a0179a6f6c"
   },
   "outputs": [
    {
     "data": {
      "text/plain": [
       "(0.94484, 0.9381246704880704)"
      ]
     },
     "execution_count": 87,
     "metadata": {
      "tags": []
     },
     "output_type": "execute_result"
    }
   ],
   "source": [
    "# training scores\n",
    "accuracy_score(y_small, small_rfc.predict(tfidf_X_small)), f1_score(y_small, small_rfc.predict(tfidf_X_small))"
   ]
  },
  {
   "cell_type": "code",
   "execution_count": 0,
   "metadata": {
    "ExecuteTime": {
     "end_time": "2020-05-14T05:45:09.147149Z",
     "start_time": "2020-05-14T05:44:27.469597Z"
    },
    "colab": {},
    "colab_type": "code",
    "hidden": true,
    "id": "RHbBBONlAIcw"
   },
   "outputs": [],
   "source": [
    "small_rfc_y_prob = small_rfc.predict_proba(tfidf_X_small_t)[:,1]\n",
    "small_rfc_y_hat = small_rfc.predict(tfidf_X_small_t)"
   ]
  },
  {
   "cell_type": "code",
   "execution_count": 0,
   "metadata": {
    "ExecuteTime": {
     "end_time": "2020-05-14T03:54:16.528300Z",
     "start_time": "2020-05-14T03:54:16.492069Z"
    },
    "colab": {},
    "colab_type": "code",
    "hidden": true,
    "id": "SFiJuHePAIc4",
    "outputId": "2273c4d8-b625-4d42-c205-36ea521e6d4e"
   },
   "outputs": [
    {
     "data": {
      "text/plain": [
       "(0.7953, 0.7596458680694174)"
      ]
     },
     "execution_count": 94,
     "metadata": {
      "tags": []
     },
     "output_type": "execute_result"
    }
   ],
   "source": [
    "# test scores\n",
    "accuracy_score(y_small_t, small_rfc_y_hat), f1_score(y_small_t, small_rfc_y_hat)"
   ]
  },
  {
   "cell_type": "markdown",
   "metadata": {
    "colab_type": "text",
    "hidden": true,
    "id": "PEnsVrpqAIdH"
   },
   "source": [
    "#### Gradient Boosting Classifier"
   ]
  },
  {
   "cell_type": "code",
   "execution_count": 0,
   "metadata": {
    "ExecuteTime": {
     "end_time": "2020-05-14T03:33:13.896464Z",
     "start_time": "2020-05-14T03:29:14.373850Z"
    },
    "colab": {},
    "colab_type": "code",
    "hidden": true,
    "id": "iwdhgKQ-AIdH",
    "outputId": "c5eb33c7-5893-42cb-9665-3037c943c1b0"
   },
   "outputs": [
    {
     "data": {
      "text/plain": [
       "GradientBoostingClassifier(ccp_alpha=0.0, criterion='friedman_mse', init=None,\n",
       "                           learning_rate=0.1, loss='deviance', max_depth=5,\n",
       "                           max_features='sqrt', max_leaf_nodes=None,\n",
       "                           min_impurity_decrease=0.0, min_impurity_split=None,\n",
       "                           min_samples_leaf=1, min_samples_split=2,\n",
       "                           min_weight_fraction_leaf=0.0, n_estimators=50,\n",
       "                           n_iter_no_change=None, presort='deprecated',\n",
       "                           random_state=None, subsample=1.0, tol=0.0001,\n",
       "                           validation_fraction=0.1, verbose=0,\n",
       "                           warm_start=False)"
      ]
     },
     "execution_count": 88,
     "metadata": {
      "tags": []
     },
     "output_type": "execute_result"
    }
   ],
   "source": [
    "small_gbc = GradientBoostingClassifier(learning_rate=0.1,\n",
    "                                  n_estimators=50,\n",
    "                                  max_depth=5,\n",
    "                                max_features='sqrt')\n",
    "small_gbc.fit(tfidf_X_small, y_small)\n"
   ]
  },
  {
   "cell_type": "code",
   "execution_count": 0,
   "metadata": {
    "ExecuteTime": {
     "end_time": "2020-05-14T03:48:22.648643Z",
     "start_time": "2020-05-14T03:47:38.363826Z"
    },
    "colab": {},
    "colab_type": "code",
    "hidden": true,
    "id": "C0bIp-XaAIdV",
    "outputId": "7bdfa0f5-6aec-4792-c95c-822a3174f90d"
   },
   "outputs": [
    {
     "data": {
      "text/plain": [
       "(0.776795, 0.7277606005720314)"
      ]
     },
     "execution_count": 89,
     "metadata": {
      "tags": []
     },
     "output_type": "execute_result"
    }
   ],
   "source": [
    "accuracy_score(y_small, small_gbc.predict(tfidf_X_small)), f1_score(y_small, small_gbc.predict(tfidf_X_small))"
   ]
  },
  {
   "cell_type": "code",
   "execution_count": 0,
   "metadata": {
    "ExecuteTime": {
     "end_time": "2020-05-14T03:48:28.480370Z",
     "start_time": "2020-05-14T03:48:22.670016Z"
    },
    "colab": {},
    "colab_type": "code",
    "hidden": true,
    "id": "2C5WDmlDAIdt"
   },
   "outputs": [],
   "source": [
    "small_gbc_y_hat = small_gbc.predict(tfidf_X_small_t)\n",
    "small_gbc_y_prob = small_gbc.predict_proba(tfidf_X_small_t)[:,1]"
   ]
  },
  {
   "cell_type": "code",
   "execution_count": 0,
   "metadata": {
    "ExecuteTime": {
     "end_time": "2020-05-14T03:48:28.543063Z",
     "start_time": "2020-05-14T03:48:28.487970Z"
    },
    "colab": {},
    "colab_type": "code",
    "hidden": true,
    "id": "huB8oeEGAId6",
    "outputId": "6910bc32-d104-42c6-bf87-ad2b9ed286d4"
   },
   "outputs": [
    {
     "data": {
      "text/plain": [
       "(0.77714, 0.7282393971172842)"
      ]
     },
     "execution_count": 91,
     "metadata": {
      "tags": []
     },
     "output_type": "execute_result"
    }
   ],
   "source": [
    "accuracy_score(y_small_t, small_gbc_y_hat), f1_score(y_small_t, small_gbc_y_hat)"
   ]
  },
  {
   "cell_type": "markdown",
   "metadata": {
    "colab_type": "text",
    "hidden": true,
    "id": "4WddkkcCAIfJ"
   },
   "source": [
    "#### AdaBoost Classifier"
   ]
  },
  {
   "cell_type": "code",
   "execution_count": 0,
   "metadata": {
    "ExecuteTime": {
     "end_time": "2020-05-14T05:28:39.411278Z",
     "start_time": "2020-05-14T03:55:07.642692Z"
    },
    "colab": {},
    "colab_type": "code",
    "hidden": true,
    "id": "Ey_H2BxLAIfL"
   },
   "outputs": [],
   "source": [
    "abc = AdaBoostClassifier(learning_rate=0.2, n_estimators=50)\n",
    "abc.fit(tfidf_X_small, y_small)"
   ]
  },
  {
   "cell_type": "code",
   "execution_count": 0,
   "metadata": {
    "ExecuteTime": {
     "end_time": "2020-05-14T03:48:22.648643Z",
     "start_time": "2020-05-14T03:47:38.363826Z"
    },
    "colab": {},
    "colab_type": "code",
    "hidden": true,
    "id": "XP4KJ2GtAJZT"
   },
   "outputs": [],
   "source": [
    "accuracy_score(y_small, abc.predict(tfidf_X_small)), f1_score(y_small, abc.predict(tfidf_X_small))"
   ]
  },
  {
   "cell_type": "code",
   "execution_count": 0,
   "metadata": {
    "ExecuteTime": {
     "end_time": "2020-05-14T03:48:28.480370Z",
     "start_time": "2020-05-14T03:48:22.670016Z"
    },
    "colab": {},
    "colab_type": "code",
    "hidden": true,
    "id": "vlFrejD2AJZk"
   },
   "outputs": [],
   "source": [
    "small_abc_y_hat = abc.predict(tfidf_X_small_t)\n",
    "small_abc_y_prob = abc.predict_proba(tfidf_X_small_t)[:,1]"
   ]
  },
  {
   "cell_type": "code",
   "execution_count": 0,
   "metadata": {
    "ExecuteTime": {
     "end_time": "2020-05-14T03:48:28.543063Z",
     "start_time": "2020-05-14T03:48:28.487970Z"
    },
    "colab": {},
    "colab_type": "code",
    "hidden": true,
    "id": "5nZvwPXSAJZn"
   },
   "outputs": [],
   "source": [
    "accuracy_score(y_small_t, small_abc_y_hat), f1_score(y_small_t, small_abc_y_hat)"
   ]
  },
  {
   "cell_type": "markdown",
   "metadata": {
    "colab_type": "text",
    "hidden": true,
    "id": "809NoZFcAJZx"
   },
   "source": [
    "#### Naive Bayes Model"
   ]
  },
  {
   "cell_type": "code",
   "execution_count": 0,
   "metadata": {
    "ExecuteTime": {
     "end_time": "2020-05-14T03:03:21.388278Z",
     "start_time": "2020-05-14T03:02:47.323156Z"
    },
    "colab": {},
    "colab_type": "code",
    "hidden": true,
    "id": "jbxXcPYAAJZy"
   },
   "outputs": [],
   "source": [
    "small_nbc = MultinomialNB().fit(tfidf_X_small, y_small)"
   ]
  },
  {
   "cell_type": "code",
   "execution_count": 0,
   "metadata": {
    "ExecuteTime": {
     "end_time": "2020-05-14T03:07:35.886326Z",
     "start_time": "2020-05-14T03:07:00.458471Z"
    },
    "colab": {},
    "colab_type": "code",
    "hidden": true,
    "id": "GmrsmRS-AJZ1",
    "outputId": "b32837be-155c-478d-ed21-b6866268c603"
   },
   "outputs": [
    {
     "data": {
      "text/plain": [
       "(0.8039, 0.7750553471672575)"
      ]
     },
     "execution_count": 82,
     "metadata": {
      "tags": []
     },
     "output_type": "execute_result"
    }
   ],
   "source": [
    "accuracy_score(y_small, small_nbc.predict(tfidf_X_small)), f1_score(y_small, small_nbc.predict(tfidf_X_small))"
   ]
  },
  {
   "cell_type": "code",
   "execution_count": 0,
   "metadata": {
    "ExecuteTime": {
     "end_time": "2020-05-14T03:07:40.299194Z",
     "start_time": "2020-05-14T03:07:35.905462Z"
    },
    "colab": {},
    "colab_type": "code",
    "hidden": true,
    "id": "uXxXYUD7AJaG"
   },
   "outputs": [],
   "source": [
    "small_nbc_y_hat = small_nbc.predict(tfidf_X_small_t)\n",
    "small_nbc_y_prob = small_nbc.predict_proba(tfidf_X_small_t)[:,1]"
   ]
  },
  {
   "cell_type": "code",
   "execution_count": 0,
   "metadata": {
    "ExecuteTime": {
     "end_time": "2020-05-14T03:08:14.336649Z",
     "start_time": "2020-05-14T03:08:14.286671Z"
    },
    "colab": {},
    "colab_type": "code",
    "hidden": true,
    "id": "yxgcIhGXAJaN",
    "outputId": "9c20eb69-a3a7-474b-f76b-757be6092003"
   },
   "outputs": [
    {
     "data": {
      "text/plain": [
       "(0.80134, 0.7713555693667564)"
      ]
     },
     "execution_count": 85,
     "metadata": {
      "tags": []
     },
     "output_type": "execute_result"
    }
   ],
   "source": [
    "accuracy_score(y_small_t, small_nbc_y_hat), f1_score(y_small_t, small_nbc_y_hat)"
   ]
  },
  {
   "cell_type": "markdown",
   "metadata": {
    "colab_type": "text",
    "heading_collapsed": true,
    "hidden": true,
    "id": "sFdfUsWNAJaQ"
   },
   "source": [
    "### Models with Half Train Dataset"
   ]
  },
  {
   "cell_type": "markdown",
   "metadata": {
    "colab_type": "text",
    "heading_collapsed": true,
    "hidden": true,
    "id": "ndMfvuBaAJaS"
   },
   "source": [
    "#### Logistic Regression (solver=lbfgs)"
   ]
  },
  {
   "cell_type": "code",
   "execution_count": 0,
   "metadata": {
    "ExecuteTime": {
     "end_time": "2020-05-14T20:57:20.042379Z",
     "start_time": "2020-05-14T20:57:20.011182Z"
    },
    "colab": {},
    "colab_type": "code",
    "hidden": true,
    "id": "tCm7R9FcAJaT"
   },
   "outputs": [],
   "source": [
    "half_log = LogisticRegression()"
   ]
  },
  {
   "cell_type": "code",
   "execution_count": 55,
   "metadata": {
    "ExecuteTime": {
     "start_time": "2020-05-14T20:57:20.779Z"
    },
    "colab": {
     "base_uri": "https://localhost:8080/",
     "height": 104
    },
    "colab_type": "code",
    "hidden": true,
    "id": "knnHMW7QAJaV",
    "outputId": "ebeb52ca-f0bf-4ab0-93e6-90d9f86ee56f"
   },
   "outputs": [
    {
     "data": {
      "text/plain": [
       "LogisticRegression(C=1.0, class_weight=None, dual=False, fit_intercept=True,\n",
       "                   intercept_scaling=1, l1_ratio=None, max_iter=100,\n",
       "                   multi_class='auto', n_jobs=None, penalty='l2',\n",
       "                   random_state=None, solver='lbfgs', tol=0.0001, verbose=0,\n",
       "                   warm_start=False)"
      ]
     },
     "execution_count": 55,
     "metadata": {
      "tags": []
     },
     "output_type": "execute_result"
    }
   ],
   "source": [
    "half_log.fit(tfidf_X_half_1, y_half_1)"
   ]
  },
  {
   "cell_type": "code",
   "execution_count": 56,
   "metadata": {
    "ExecuteTime": {
     "end_time": "2020-05-14T15:42:41.201523Z",
     "start_time": "2020-05-14T15:42:18.185008Z"
    },
    "colab": {
     "base_uri": "https://localhost:8080/",
     "height": 35
    },
    "colab_type": "code",
    "hidden": true,
    "id": "zTUdNBv_AJaf",
    "outputId": "0b488b03-7822-438c-b29b-023ce0327336"
   },
   "outputs": [
    {
     "data": {
      "text/plain": [
       "(0.8220336486530719, 0.7999330295130105)"
      ]
     },
     "execution_count": 56,
     "metadata": {
      "tags": []
     },
     "output_type": "execute_result"
    }
   ],
   "source": [
    "# training scores\n",
    "accuracy_score(y_half_1, half_log.predict(tfidf_X_half_1)), f1_score(y_half_1, half_log.predict(tfidf_X_half_1))"
   ]
  },
  {
   "cell_type": "code",
   "execution_count": 0,
   "metadata": {
    "ExecuteTime": {
     "end_time": "2020-05-14T15:42:48.765517Z",
     "start_time": "2020-05-14T15:42:45.442897Z"
    },
    "colab": {},
    "colab_type": "code",
    "hidden": true,
    "id": "ZOWCO-o0AJdX"
   },
   "outputs": [],
   "source": [
    "log_y_half_1_prob = half_log.predict_proba(tfidf_X_half_1_t)[:,1]\n",
    "log_y_half_1_hat = half_log.predict(tfidf_X_half_1_t)"
   ]
  },
  {
   "cell_type": "code",
   "execution_count": 58,
   "metadata": {
    "ExecuteTime": {
     "end_time": "2020-05-14T15:44:46.650001Z",
     "start_time": "2020-05-14T15:44:46.508913Z"
    },
    "colab": {
     "base_uri": "https://localhost:8080/",
     "height": 35
    },
    "colab_type": "code",
    "hidden": true,
    "id": "jQH_4EMQAJde",
    "outputId": "82cc63d1-3788-4efa-fca2-ccb45624aae8"
   },
   "outputs": [
    {
     "data": {
      "text/plain": [
       "(0.819775, 0.7974857784956809)"
      ]
     },
     "execution_count": 58,
     "metadata": {
      "tags": []
     },
     "output_type": "execute_result"
    }
   ],
   "source": [
    "# test scores\n",
    "accuracy_score(y_half_1_t, log_y_half_1_hat), f1_score(y_half_1_t, log_y_half_1_hat)"
   ]
  },
  {
   "cell_type": "code",
   "execution_count": 59,
   "metadata": {
    "colab": {
     "base_uri": "https://localhost:8080/",
     "height": 35
    },
    "colab_type": "code",
    "hidden": true,
    "id": "wbTNEyKAAJdj",
    "outputId": "dee0cb70-17fe-410d-daf9-82e5e4fb08b4"
   },
   "outputs": [
    {
     "data": {
      "text/plain": [
       "0.9018504427656988"
      ]
     },
     "execution_count": 59,
     "metadata": {
      "tags": []
     },
     "output_type": "execute_result"
    }
   ],
   "source": [
    "roc_auc_score(y_half_1_t, log_y_half_1_prob)"
   ]
  },
  {
   "cell_type": "markdown",
   "metadata": {
    "colab_type": "text",
    "heading_collapsed": true,
    "hidden": true,
    "id": "a8ExtHKcAJdu"
   },
   "source": [
    "#### Logistic Regression (solver=saga)"
   ]
  },
  {
   "cell_type": "code",
   "execution_count": 0,
   "metadata": {
    "ExecuteTime": {
     "end_time": "2020-05-14T15:26:29.549136Z",
     "start_time": "2020-05-14T15:26:29.516217Z"
    },
    "colab": {},
    "colab_type": "code",
    "hidden": true,
    "id": "5OI6QuhXAJdu"
   },
   "outputs": [],
   "source": [
    "half_saga = LogisticRegression(n_jobs=-1, solver='saga')"
   ]
  },
  {
   "cell_type": "code",
   "execution_count": 61,
   "metadata": {
    "ExecuteTime": {
     "end_time": "2020-05-14T15:41:50.459554Z",
     "start_time": "2020-05-14T15:26:31.754024Z"
    },
    "colab": {
     "base_uri": "https://localhost:8080/",
     "height": 104
    },
    "colab_type": "code",
    "hidden": true,
    "id": "1r8QYATHAJdy",
    "outputId": "ad176c7d-5d7d-4f49-ab9a-534ac555e534"
   },
   "outputs": [
    {
     "data": {
      "text/plain": [
       "LogisticRegression(C=1.0, class_weight=None, dual=False, fit_intercept=True,\n",
       "                   intercept_scaling=1, l1_ratio=None, max_iter=100,\n",
       "                   multi_class='auto', n_jobs=-1, penalty='l2',\n",
       "                   random_state=None, solver='saga', tol=0.0001, verbose=0,\n",
       "                   warm_start=False)"
      ]
     },
     "execution_count": 61,
     "metadata": {
      "tags": []
     },
     "output_type": "execute_result"
    }
   ],
   "source": [
    "half_saga.fit(tfidf_X_half_1, y_half_1)"
   ]
  },
  {
   "cell_type": "code",
   "execution_count": 62,
   "metadata": {
    "ExecuteTime": {
     "end_time": "2020-05-14T15:42:41.201523Z",
     "start_time": "2020-05-14T15:42:18.185008Z"
    },
    "colab": {
     "base_uri": "https://localhost:8080/",
     "height": 35
    },
    "colab_type": "code",
    "hidden": true,
    "id": "P21XFB_6AJd-",
    "outputId": "e1dda0d0-6346-4273-b596-31dc4451644f"
   },
   "outputs": [
    {
     "data": {
      "text/plain": [
       "(0.8220254656148734, 0.7999227259346482)"
      ]
     },
     "execution_count": 62,
     "metadata": {
      "tags": []
     },
     "output_type": "execute_result"
    }
   ],
   "source": [
    "# training scores\n",
    "accuracy_score(y_half_1, half_saga.predict(tfidf_X_half_1)), f1_score(y_half_1, half_saga.predict(tfidf_X_half_1))"
   ]
  },
  {
   "cell_type": "code",
   "execution_count": 0,
   "metadata": {
    "ExecuteTime": {
     "end_time": "2020-05-14T15:42:48.765517Z",
     "start_time": "2020-05-14T15:42:45.442897Z"
    },
    "colab": {},
    "colab_type": "code",
    "hidden": true,
    "id": "c0vbb9oOAJeQ"
   },
   "outputs": [],
   "source": [
    "saga_y_half_1_prob = half_saga.predict_proba(tfidf_X_half_1_t)[:,1]\n",
    "saga_y_half_1_hat = half_saga.predict(tfidf_X_half_1_t)"
   ]
  },
  {
   "cell_type": "code",
   "execution_count": 64,
   "metadata": {
    "ExecuteTime": {
     "end_time": "2020-05-14T15:44:46.650001Z",
     "start_time": "2020-05-14T15:44:46.508913Z"
    },
    "colab": {
     "base_uri": "https://localhost:8080/",
     "height": 35
    },
    "colab_type": "code",
    "hidden": true,
    "id": "H_nGY1RrAJfg",
    "outputId": "fc876564-486c-4a6a-9c67-6a50fe74e5ca"
   },
   "outputs": [
    {
     "data": {
      "text/plain": [
       "(0.819775, 0.7974829339551085)"
      ]
     },
     "execution_count": 64,
     "metadata": {
      "tags": []
     },
     "output_type": "execute_result"
    }
   ],
   "source": [
    "# test scores\n",
    "accuracy_score(y_half_1_t, saga_y_half_1_hat), f1_score(y_half_1_t, saga_y_half_1_hat)"
   ]
  },
  {
   "cell_type": "code",
   "execution_count": 65,
   "metadata": {
    "colab": {
     "base_uri": "https://localhost:8080/",
     "height": 35
    },
    "colab_type": "code",
    "hidden": true,
    "id": "D-Nb_KFPAJfu",
    "outputId": "2f965ac5-0de9-4fac-d68d-bb925bc3729f"
   },
   "outputs": [
    {
     "data": {
      "text/plain": [
       "0.9018498290385171"
      ]
     },
     "execution_count": 65,
     "metadata": {
      "tags": []
     },
     "output_type": "execute_result"
    }
   ],
   "source": [
    "roc_auc_score(y_half_1_t, saga_y_half_1_prob)"
   ]
  },
  {
   "cell_type": "markdown",
   "metadata": {
    "colab_type": "text",
    "heading_collapsed": true,
    "hidden": true,
    "id": "5B2y7ULdAJgY"
   },
   "source": [
    "#### Random Forest"
   ]
  },
  {
   "cell_type": "code",
   "execution_count": 66,
   "metadata": {
    "ExecuteTime": {
     "end_time": "2020-05-14T15:57:44.232917Z",
     "start_time": "2020-05-14T15:45:24.832258Z"
    },
    "colab": {
     "base_uri": "https://localhost:8080/",
     "height": 156
    },
    "colab_type": "code",
    "hidden": true,
    "id": "whyrvLXgAJgZ",
    "outputId": "f580025b-4359-4a70-d733-123329d264e7"
   },
   "outputs": [
    {
     "data": {
      "text/plain": [
       "RandomForestClassifier(bootstrap=True, ccp_alpha=0.0, class_weight=None,\n",
       "                       criterion='entropy', max_depth=50, max_features='log2',\n",
       "                       max_leaf_nodes=None, max_samples=None,\n",
       "                       min_impurity_decrease=0.0, min_impurity_split=None,\n",
       "                       min_samples_leaf=1, min_samples_split=2,\n",
       "                       min_weight_fraction_leaf=0.0, n_estimators=50,\n",
       "                       n_jobs=None, oob_score=False, random_state=None,\n",
       "                       verbose=0, warm_start=False)"
      ]
     },
     "execution_count": 66,
     "metadata": {
      "tags": []
     },
     "output_type": "execute_result"
    }
   ],
   "source": [
    "# best random forest parameters found with gridsearch\n",
    "half_rfc = RandomForestClassifier(n_estimators=50, criterion='entropy', max_depth=50, max_features='log2')\n",
    "half_rfc.fit(tfidf_X_half_1, y_half_1)"
   ]
  },
  {
   "cell_type": "code",
   "execution_count": 67,
   "metadata": {
    "ExecuteTime": {
     "end_time": "2020-05-14T15:59:17.740677Z",
     "start_time": "2020-05-14T15:57:50.975311Z"
    },
    "colab": {
     "base_uri": "https://localhost:8080/",
     "height": 35
    },
    "colab_type": "code",
    "hidden": true,
    "id": "yRt-1wlWAJgk",
    "outputId": "cffd4de0-c932-4dd6-c5a1-005eb89b57f4"
   },
   "outputs": [
    {
     "data": {
      "text/plain": [
       "(0.9219780039933226, 0.9138040453680047)"
      ]
     },
     "execution_count": 67,
     "metadata": {
      "tags": []
     },
     "output_type": "execute_result"
    }
   ],
   "source": [
    "# training scores\n",
    "accuracy_score(y_half_1, half_rfc.predict(tfidf_X_half_1)), f1_score(y_half_1, half_rfc.predict(tfidf_X_half_1))"
   ]
  },
  {
   "cell_type": "code",
   "execution_count": 0,
   "metadata": {
    "ExecuteTime": {
     "end_time": "2020-05-14T16:24:11.181915Z",
     "start_time": "2020-05-14T16:23:57.137503Z"
    },
    "colab": {},
    "colab_type": "code",
    "hidden": true,
    "id": "4QENIKGlAJgm"
   },
   "outputs": [],
   "source": [
    "rfc_y_half_1_prob = half_rfc.predict_proba(tfidf_X_half_1_t)[:,1]\n",
    "rfc_y_half_1_hat = half_rfc.predict(tfidf_X_half_1_t)"
   ]
  },
  {
   "cell_type": "code",
   "execution_count": 69,
   "metadata": {
    "ExecuteTime": {
     "end_time": "2020-05-14T16:24:37.247334Z",
     "start_time": "2020-05-14T16:24:37.124037Z"
    },
    "colab": {
     "base_uri": "https://localhost:8080/",
     "height": 35
    },
    "colab_type": "code",
    "hidden": true,
    "id": "sL6kyPECAJgp",
    "outputId": "1fe0b655-db56-480f-e43d-e41004e81457"
   },
   "outputs": [
    {
     "data": {
      "text/plain": [
       "(0.7922125, 0.7573426369263109)"
      ]
     },
     "execution_count": 69,
     "metadata": {
      "tags": []
     },
     "output_type": "execute_result"
    }
   ],
   "source": [
    "# test scores\n",
    "accuracy_score(y_half_1_t, rfc_y_half_1_hat), f1_score(y_half_1_t, rfc_y_half_1_hat)"
   ]
  },
  {
   "cell_type": "code",
   "execution_count": 70,
   "metadata": {
    "colab": {
     "base_uri": "https://localhost:8080/",
     "height": 35
    },
    "colab_type": "code",
    "hidden": true,
    "id": "0NzRITOsAJgz",
    "outputId": "5eedffa2-e763-4b80-95de-9daadc81fec3"
   },
   "outputs": [
    {
     "data": {
      "text/plain": [
       "0.8755906970652194"
      ]
     },
     "execution_count": 70,
     "metadata": {
      "tags": []
     },
     "output_type": "execute_result"
    }
   ],
   "source": [
    "roc_auc_score(y_half_1_t, rfc_y_half_1_prob)"
   ]
  },
  {
   "cell_type": "code",
   "execution_count": 71,
   "metadata": {
    "ExecuteTime": {
     "end_time": "2020-05-14T15:59:53.000053Z",
     "start_time": "2020-05-14T15:59:52.668300Z"
    },
    "colab": {
     "base_uri": "https://localhost:8080/",
     "height": 35
    },
    "colab_type": "code",
    "hidden": true,
    "id": "YiK7zx9CAJg1",
    "outputId": "7f63edbe-7952-4cc7-b83e-62feebc8ba9f"
   },
   "outputs": [
    {
     "data": {
      "text/plain": [
       "1000"
      ]
     },
     "execution_count": 71,
     "metadata": {
      "tags": []
     },
     "output_type": "execute_result"
    }
   ],
   "source": [
    "half_importances = half_rfc.feature_importances_; len(half_importances)"
   ]
  },
  {
   "cell_type": "code",
   "execution_count": 0,
   "metadata": {
    "ExecuteTime": {
     "end_time": "2020-05-14T15:59:53.037262Z",
     "start_time": "2020-05-14T15:59:53.008181Z"
    },
    "colab": {},
    "colab_type": "code",
    "hidden": true,
    "id": "j4JTa81mAJg6"
   },
   "outputs": [],
   "source": [
    "half_indices = half_importances.argsort()[::-1]"
   ]
  },
  {
   "cell_type": "code",
   "execution_count": 73,
   "metadata": {
    "ExecuteTime": {
     "end_time": "2020-05-14T15:59:53.467426Z",
     "start_time": "2020-05-14T15:59:53.304598Z"
    },
    "colab": {
     "base_uri": "https://localhost:8080/",
     "height": 191
    },
    "colab_type": "code",
    "hidden": true,
    "id": "gmRftfNZAJhB",
    "outputId": "ed83b487-0499-44e2-aaf3-71560acadb95"
   },
   "outputs": [
    {
     "data": {
      "text/plain": [
       "['amaz',\n",
       " 'best',\n",
       " 'great',\n",
       " 'love',\n",
       " 'delici',\n",
       " 'worst',\n",
       " 'ok',\n",
       " 'definit',\n",
       " 'perfect',\n",
       " 'bad']"
      ]
     },
     "execution_count": 73,
     "metadata": {
      "tags": []
     },
     "output_type": "execute_result"
    }
   ],
   "source": [
    "# top 500 features in the model\n",
    "X_half_1_df.columns[half_indices].tolist()[:10]"
   ]
  },
  {
   "cell_type": "markdown",
   "metadata": {
    "colab_type": "text",
    "heading_collapsed": true,
    "hidden": true,
    "id": "cBVvOxi8AJhF"
   },
   "source": [
    "#### Gradient Boosting Classifier"
   ]
  },
  {
   "cell_type": "code",
   "execution_count": 74,
   "metadata": {
    "ExecuteTime": {
     "end_time": "2020-05-14T16:07:45.377426Z",
     "start_time": "2020-05-14T16:00:08.212326Z"
    },
    "colab": {
     "base_uri": "https://localhost:8080/",
     "height": 191
    },
    "colab_type": "code",
    "hidden": true,
    "id": "OHykZ0_yAJhG",
    "outputId": "41cc5635-a184-475e-852d-ef0b4dd3c80e"
   },
   "outputs": [
    {
     "data": {
      "text/plain": [
       "GradientBoostingClassifier(ccp_alpha=0.0, criterion='friedman_mse', init=None,\n",
       "                           learning_rate=0.1, loss='deviance', max_depth=5,\n",
       "                           max_features='sqrt', max_leaf_nodes=None,\n",
       "                           min_impurity_decrease=0.0, min_impurity_split=None,\n",
       "                           min_samples_leaf=1, min_samples_split=2,\n",
       "                           min_weight_fraction_leaf=0.0, n_estimators=50,\n",
       "                           n_iter_no_change=None, presort='deprecated',\n",
       "                           random_state=None, subsample=1.0, tol=0.0001,\n",
       "                           validation_fraction=0.1, verbose=0,\n",
       "                           warm_start=False)"
      ]
     },
     "execution_count": 74,
     "metadata": {
      "tags": []
     },
     "output_type": "execute_result"
    }
   ],
   "source": [
    "half_gbc = GradientBoostingClassifier(learning_rate=0.1,\n",
    "                                  n_estimators=50,\n",
    "                                  max_depth=5,\n",
    "                                max_features='sqrt')\n",
    "half_gbc.fit(tfidf_X_half_1, y_half_1)\n"
   ]
  },
  {
   "cell_type": "code",
   "execution_count": 75,
   "metadata": {
    "ExecuteTime": {
     "end_time": "2020-05-14T16:09:45.684690Z",
     "start_time": "2020-05-14T16:09:01.597942Z"
    },
    "colab": {
     "base_uri": "https://localhost:8080/",
     "height": 35
    },
    "colab_type": "code",
    "hidden": true,
    "id": "erfpU7dTAJhL",
    "outputId": "801f9dd6-0b11-470f-a01b-3bfad8f9e549"
   },
   "outputs": [
    {
     "data": {
      "text/plain": [
       "(0.7791741677850152, 0.7366853685905255)"
      ]
     },
     "execution_count": 75,
     "metadata": {
      "tags": []
     },
     "output_type": "execute_result"
    }
   ],
   "source": [
    "accuracy_score(y_half_1, half_gbc.predict(tfidf_X_half_1)), f1_score(y_half_1, half_gbc.predict(tfidf_X_half_1))"
   ]
  },
  {
   "cell_type": "code",
   "execution_count": 0,
   "metadata": {
    "ExecuteTime": {
     "end_time": "2020-05-14T16:25:07.681338Z",
     "start_time": "2020-05-14T16:25:03.540632Z"
    },
    "colab": {},
    "colab_type": "code",
    "hidden": true,
    "id": "ORJsY0TaAJhR"
   },
   "outputs": [],
   "source": [
    "gbc_y_half_1_prob = half_gbc.predict_proba(tfidf_X_half_1_t)[:,1]\n",
    "gbc_y_half_1_hat = half_gbc.predict(tfidf_X_half_1_t)"
   ]
  },
  {
   "cell_type": "code",
   "execution_count": 77,
   "metadata": {
    "ExecuteTime": {
     "end_time": "2020-05-14T16:25:13.653564Z",
     "start_time": "2020-05-14T16:25:13.526926Z"
    },
    "colab": {
     "base_uri": "https://localhost:8080/",
     "height": 35
    },
    "colab_type": "code",
    "hidden": true,
    "id": "nkwAjshOAJhX",
    "outputId": "cda50cdb-c698-4523-e46e-e4b1a4d63433"
   },
   "outputs": [
    {
     "data": {
      "text/plain": [
       "(0.77665, 0.7340359024738768)"
      ]
     },
     "execution_count": 77,
     "metadata": {
      "tags": []
     },
     "output_type": "execute_result"
    }
   ],
   "source": [
    "accuracy_score(y_half_1_t, gbc_y_half_1_hat), f1_score(y_half_1_t, gbc_y_half_1_hat)"
   ]
  },
  {
   "cell_type": "code",
   "execution_count": 78,
   "metadata": {
    "colab": {
     "base_uri": "https://localhost:8080/",
     "height": 35
    },
    "colab_type": "code",
    "hidden": true,
    "id": "J5opi4WmAJhZ",
    "outputId": "f1ea89af-2991-4c71-d524-0bce332ef571"
   },
   "outputs": [
    {
     "data": {
      "text/plain": [
       "0.8606125550624273"
      ]
     },
     "execution_count": 78,
     "metadata": {
      "tags": []
     },
     "output_type": "execute_result"
    }
   ],
   "source": [
    "roc_auc_score(y_half_1_t, gbc_y_half_1_prob)"
   ]
  },
  {
   "cell_type": "markdown",
   "metadata": {
    "colab_type": "text",
    "heading_collapsed": true,
    "hidden": true,
    "id": "IejOA4y9AJhk"
   },
   "source": [
    "#### Naive Bayes Model"
   ]
  },
  {
   "cell_type": "code",
   "execution_count": 0,
   "metadata": {
    "ExecuteTime": {
     "end_time": "2020-05-14T16:10:36.954682Z",
     "start_time": "2020-05-14T16:10:11.226431Z"
    },
    "colab": {},
    "colab_type": "code",
    "hidden": true,
    "id": "fPANKqowAJhn"
   },
   "outputs": [],
   "source": [
    "half_nbc = MultinomialNB().fit(tfidf_X_half_1, y_half_1)"
   ]
  },
  {
   "cell_type": "code",
   "execution_count": 80,
   "metadata": {
    "ExecuteTime": {
     "end_time": "2020-05-14T16:11:14.409397Z",
     "start_time": "2020-05-14T16:10:44.173520Z"
    },
    "colab": {
     "base_uri": "https://localhost:8080/",
     "height": 35
    },
    "colab_type": "code",
    "hidden": true,
    "id": "lJpYMSTrAJh5",
    "outputId": "398829e9-35c9-45ce-886a-e62ce386b613"
   },
   "outputs": [
    {
     "data": {
      "text/plain": [
       "(0.7982635592942948, 0.766297907838732)"
      ]
     },
     "execution_count": 80,
     "metadata": {
      "tags": []
     },
     "output_type": "execute_result"
    }
   ],
   "source": [
    "accuracy_score(y_half_1, half_nbc.predict(tfidf_X_half_1)), f1_score(y_half_1, half_nbc.predict(tfidf_X_half_1))"
   ]
  },
  {
   "cell_type": "code",
   "execution_count": 0,
   "metadata": {
    "ExecuteTime": {
     "end_time": "2020-05-14T16:26:02.527162Z",
     "start_time": "2020-05-14T16:26:01.604649Z"
    },
    "colab": {},
    "colab_type": "code",
    "hidden": true,
    "id": "LLTrx-M6AJiB"
   },
   "outputs": [],
   "source": [
    "nbc_y_half_1_prob = half_nbc.predict_proba(tfidf_X_half_1_t)[:,1]\n",
    "nbc_y_half_1_hat = half_nbc.predict(tfidf_X_half_1_t)"
   ]
  },
  {
   "cell_type": "code",
   "execution_count": 82,
   "metadata": {
    "ExecuteTime": {
     "end_time": "2020-05-14T16:26:08.614585Z",
     "start_time": "2020-05-14T16:26:08.488399Z"
    },
    "colab": {
     "base_uri": "https://localhost:8080/",
     "height": 35
    },
    "colab_type": "code",
    "hidden": true,
    "id": "PVeSznsYAJiv",
    "outputId": "d441190f-472d-4a10-8343-c4e76b74031c"
   },
   "outputs": [
    {
     "data": {
      "text/plain": [
       "(0.7970375, 0.7649672862023044)"
      ]
     },
     "execution_count": 82,
     "metadata": {
      "tags": []
     },
     "output_type": "execute_result"
    }
   ],
   "source": [
    "accuracy_score(y_half_1_t, nbc_y_half_1_hat), f1_score(y_half_1_t, nbc_y_half_1_hat)"
   ]
  },
  {
   "cell_type": "code",
   "execution_count": 83,
   "metadata": {
    "colab": {
     "base_uri": "https://localhost:8080/",
     "height": 35
    },
    "colab_type": "code",
    "hidden": true,
    "id": "_3J_vPmZAJi8",
    "outputId": "63277bbd-3be5-48fe-95e5-bc7fb5722714"
   },
   "outputs": [
    {
     "data": {
      "text/plain": [
       "0.8818869246965937"
      ]
     },
     "execution_count": 83,
     "metadata": {
      "tags": []
     },
     "output_type": "execute_result"
    }
   ],
   "source": [
    "roc_auc_score(y_half_1_t, nbc_y_half_1_prob)"
   ]
  },
  {
   "cell_type": "markdown",
   "metadata": {
    "colab_type": "text",
    "heading_collapsed": true,
    "hidden": true,
    "id": "fxE5AhXDAJkI"
   },
   "source": [
    "#### Support Vector Machine (SVM)"
   ]
  },
  {
   "cell_type": "code",
   "execution_count": 0,
   "metadata": {
    "ExecuteTime": {
     "end_time": "2020-05-14T17:01:12.646327Z",
     "start_time": "2020-05-14T17:01:12.625224Z"
    },
    "colab": {},
    "colab_type": "code",
    "hidden": true,
    "id": "O5f-XkDfAJkJ"
   },
   "outputs": [],
   "source": [
    "# Support Vector Machine (SVM)\n",
    "from sklearn import svm"
   ]
  },
  {
   "cell_type": "code",
   "execution_count": 0,
   "metadata": {
    "ExecuteTime": {
     "start_time": "2020-05-14T18:26:39.146Z"
    },
    "colab": {},
    "colab_type": "code",
    "hidden": true,
    "id": "zceXaqM-AJkb"
   },
   "outputs": [],
   "source": [
    "half_svc = svm.SVC(C=1.0, kernel='linear', degree=3, gamma='auto') # Linear Kernel \n",
    "\n",
    "#Train the model using the training sets\n",
    "half_svc.fit(tfidf_X_half_1, y_half_1)"
   ]
  },
  {
   "cell_type": "code",
   "execution_count": 0,
   "metadata": {
    "ExecuteTime": {
     "end_time": "2020-05-14T16:11:14.409397Z",
     "start_time": "2020-05-14T16:10:44.173520Z"
    },
    "colab": {},
    "colab_type": "code",
    "hidden": true,
    "id": "UmGF4VGnAJkh"
   },
   "outputs": [],
   "source": [
    "accuracy_score(y_half_1, half_svc.predict(tfidf_X_half_1)), f1_score(y_half_1, half_svc.predict(tfidf_X_half_1))"
   ]
  },
  {
   "cell_type": "code",
   "execution_count": 0,
   "metadata": {
    "ExecuteTime": {
     "end_time": "2020-05-14T16:26:02.527162Z",
     "start_time": "2020-05-14T16:26:01.604649Z"
    },
    "colab": {},
    "colab_type": "code",
    "hidden": true,
    "id": "NDFAqHv0AJkq"
   },
   "outputs": [],
   "source": [
    "svc_y_half_1_prob = half_svc.predict_proba(tfidf_X_half_1_t)[:,1]\n",
    "svc_y_half_1_hat = half_svc.predict(tfidf_X_half_1_t)"
   ]
  },
  {
   "cell_type": "code",
   "execution_count": 0,
   "metadata": {
    "ExecuteTime": {
     "end_time": "2020-05-14T16:26:08.614585Z",
     "start_time": "2020-05-14T16:26:08.488399Z"
    },
    "colab": {},
    "colab_type": "code",
    "hidden": true,
    "id": "h6AuotpZAJkw"
   },
   "outputs": [],
   "source": [
    "accuracy_score(y_half_1_t, svc_y_half_1_hat), f1_score(y_half_1_t, svc_y_half_1_hat)"
   ]
  },
  {
   "cell_type": "code",
   "execution_count": 0,
   "metadata": {
    "colab": {},
    "colab_type": "code",
    "hidden": true,
    "id": "ZMfVhrTfAJk_"
   },
   "outputs": [],
   "source": [
    "roc_auc_score(y_half_1_t, svc_y_half_1_prob)"
   ]
  },
  {
   "cell_type": "markdown",
   "metadata": {
    "colab_type": "text",
    "heading_collapsed": true,
    "hidden": true,
    "id": "FZdA1_MeAJlf"
   },
   "source": [
    "### ROC Curve"
   ]
  },
  {
   "cell_type": "code",
   "execution_count": 0,
   "metadata": {
    "ExecuteTime": {
     "end_time": "2020-05-14T16:26:31.577444Z",
     "start_time": "2020-05-14T16:26:31.569355Z"
    },
    "colab": {},
    "colab_type": "code",
    "hidden": true,
    "id": "Hwl9Zij0AJlh"
   },
   "outputs": [],
   "source": [
    "# y_prob = probabilities and y_test = labels\n",
    "\n",
    "def ROC_curve(probabilities, labels):\n",
    "    \n",
    "    #Sort instances by their prediction strength (the probabilities)\n",
    "    thresholds = np.sort(probabilities)\n",
    "    \n",
    "    TPRs = []\n",
    "    FPRs = []\n",
    "    \n",
    "    num_positive_cases = sum(labels)\n",
    "    num_negative_cases = len(labels) - num_positive_cases\n",
    "    \n",
    "    #For every instance in increasing order of probability:\n",
    "    for idx, threshold in enumerate(thresholds):\n",
    "        \n",
    "        #Set everything above the threshold to the positive class\n",
    "        predicted_positive = probabilities >= threshold\n",
    "        \n",
    "        # Calculate the number of correctly predicted positive cases\n",
    "        true_positives = np.sum(predicted_positive * labels)\n",
    "        \n",
    "        # Calculate the number of incorrectly predicted positive cases\n",
    "        false_positives = np.sum(predicted_positive) - true_positives\n",
    "        \n",
    "        #Calculate the True Positive Rate (aka sensitivity or recall)\n",
    "        #True positives divided by positive cases\n",
    "        TPR = true_positives / num_positive_cases\n",
    "        TPRs.append(TPR)\n",
    "        \n",
    "        #Calculate the False Positive Rate (1 - specificity)\n",
    "        FPR = false_positives / num_negative_cases\n",
    "        FPRs.append(FPR)\n",
    "    \n",
    "    #Return three lists: TPRs, FPRs, thresholds\n",
    "    return TPRs, FPRs, thresholds"
   ]
  },
  {
   "cell_type": "code",
   "execution_count": 85,
   "metadata": {
    "ExecuteTime": {
     "end_time": "2020-05-14T16:40:59.387785Z",
     "start_time": "2020-05-14T16:26:37.438500Z"
    },
    "colab": {
     "base_uri": "https://localhost:8080/",
     "height": 431
    },
    "colab_type": "code",
    "hidden": true,
    "id": "ppx1C0d4AJl4",
    "outputId": "b08e1d20-f48b-4650-c1e3-0ff6aac779f3"
   },
   "outputs": [
    {
     "data": {
      "text/plain": [
       "''"
      ]
     },
     "execution_count": 85,
     "metadata": {
      "tags": []
     },
     "output_type": "execute_result"
    },
    {
     "data": {
      "image/png": "[encoded data removed]",
      "text/plain": [
       "<Figure size 720x432 with 1 Axes>"
      ]
     },
     "metadata": {
      "needs_background": "light",
      "tags": []
     },
     "output_type": "display_data"
    }
   ],
   "source": [
    "# Valiation ROC Curve\n",
    "\n",
    "TPRs_log, FPRs_log, thresholds_log = ROC_curve(log_y_half_1_prob, y_half_1_t)\n",
    "\n",
    "TPRs_rfc, FPRs_rfc, thresholds_rfc = ROC_curve(rfc_y_half_1_prob, y_half_1_t)\n",
    "TPRs_gbc, FPRs_gbc, thresholds_gbc = ROC_curve(gbc_y_half_1_prob, y_half_1_t)\n",
    "TPRs_nbc, FPRs_nbc, thresholds_nbc = ROC_curve(nbc_y_half_1_prob, y_half_1_t)\n",
    "\n",
    "\n",
    "fig, ax = plt.subplots(figsize=(10,6))\n",
    "ax.plot(FPRs_log, TPRs_log, label='Logistic Regression')\n",
    "ax.plot(FPRs_rfc, TPRs_rfc, label='Random Forest Classifier')\n",
    "ax.plot(FPRs_gbc, TPRs_gbc, label='Gradient Boosting Classifier')\n",
    "ax.plot(FPRs_nbc, TPRs_nbc, label='Naive Bayes Classifier')\n",
    "\n",
    "ax.set_xlabel('False Positive Rate', fontsize=14)\n",
    "ax.set_ylabel('True Positive Rate', fontsize=14)\n",
    "ax.set_title('Model Comparison ROC Curve', fontsize=20)\n",
    "\n",
    "ax.legend()\n",
    "#plt.savefig('../img/roc_curve_half.png')\n",
    ";"
   ]
  },
  {
   "cell_type": "markdown",
   "metadata": {
    "colab_type": "text",
    "heading_collapsed": true,
    "hidden": true,
    "id": "WyzWt2_FAJmU"
   },
   "source": [
    "### Final Model"
   ]
  },
  {
   "cell_type": "markdown",
   "metadata": {
    "colab_type": "text",
    "hidden": true,
    "id": "gnpYBLzrAJmV"
   },
   "source": [
    "#### Logistic Regression"
   ]
  },
  {
   "cell_type": "code",
   "execution_count": 0,
   "metadata": {
    "ExecuteTime": {
     "end_time": "2020-05-14T15:26:29.549136Z",
     "start_time": "2020-05-14T15:26:29.516217Z"
    },
    "colab": {},
    "colab_type": "code",
    "hidden": true,
    "id": "s4-6dCOHAJmV"
   },
   "outputs": [],
   "source": [
    "final_log = LogisticRegression(n_jobs=-1, solver='saga')"
   ]
  },
  {
   "cell_type": "code",
   "execution_count": 42,
   "metadata": {
    "ExecuteTime": {
     "end_time": "2020-05-14T15:41:50.459554Z",
     "start_time": "2020-05-14T15:26:31.754024Z"
    },
    "colab": {
     "base_uri": "https://localhost:8080/",
     "height": 104
    },
    "colab_type": "code",
    "hidden": true,
    "id": "DgxjOCNmAJmg",
    "outputId": "a6cec866-45bd-48e5-ee8f-cdfc137a6685"
   },
   "outputs": [
    {
     "data": {
      "text/plain": [
       "LogisticRegression(C=1.0, class_weight=None, dual=False, fit_intercept=True,\n",
       "                   intercept_scaling=1, l1_ratio=None, max_iter=100,\n",
       "                   multi_class='auto', n_jobs=-1, penalty='l2',\n",
       "                   random_state=None, solver='saga', tol=0.0001, verbose=0,\n",
       "                   warm_start=False)"
      ]
     },
     "execution_count": 42,
     "metadata": {
      "tags": []
     },
     "output_type": "execute_result"
    }
   ],
   "source": [
    "final_log.fit(tfidf_X_train, final_y_train)"
   ]
  },
  {
   "cell_type": "code",
   "execution_count": 43,
   "metadata": {
    "ExecuteTime": {
     "end_time": "2020-05-14T15:42:41.201523Z",
     "start_time": "2020-05-14T15:42:18.185008Z"
    },
    "colab": {
     "base_uri": "https://localhost:8080/",
     "height": 35
    },
    "colab_type": "code",
    "hidden": true,
    "id": "HPIlGFejAJml",
    "outputId": "5e2bc258-a599-4563-e137-07aa6bbfbd01"
   },
   "outputs": [
    {
     "data": {
      "text/plain": [
       "(0.8210260237406692, 0.7989546631564723)"
      ]
     },
     "execution_count": 43,
     "metadata": {
      "tags": []
     },
     "output_type": "execute_result"
    }
   ],
   "source": [
    "# training scores\n",
    "accuracy_score(final_y_train, final_log.predict(tfidf_X_train)), f1_score(final_y_train, final_log.predict(tfidf_X_train))"
   ]
  },
  {
   "cell_type": "code",
   "execution_count": 0,
   "metadata": {
    "ExecuteTime": {
     "end_time": "2020-05-14T15:42:48.765517Z",
     "start_time": "2020-05-14T15:42:45.442897Z"
    },
    "colab": {},
    "colab_type": "code",
    "hidden": true,
    "id": "a3_rpwHnAJmv"
   },
   "outputs": [],
   "source": [
    "log_y_final_prob = final_log.predict_proba(tfidf_X_test)[:,1]\n",
    "log_y_final_hat = final_log.predict(tfidf_X_test)"
   ]
  },
  {
   "cell_type": "code",
   "execution_count": 45,
   "metadata": {
    "ExecuteTime": {
     "end_time": "2020-05-14T15:44:46.650001Z",
     "start_time": "2020-05-14T15:44:46.508913Z"
    },
    "colab": {
     "base_uri": "https://localhost:8080/",
     "height": 35
    },
    "colab_type": "code",
    "hidden": true,
    "id": "uxCo4sjUAJm1",
    "outputId": "63e43dbe-0e97-432b-c53e-dbaba8aa427b"
   },
   "outputs": [
    {
     "data": {
      "text/plain": [
       "(0.8199502471277536, 0.7981046272201077)"
      ]
     },
     "execution_count": 45,
     "metadata": {
      "tags": []
     },
     "output_type": "execute_result"
    }
   ],
   "source": [
    "# test scores\n",
    "accuracy_score(final_y_test, log_y_final_hat), f1_score(final_y_test, log_y_final_hat)"
   ]
  },
  {
   "cell_type": "code",
   "execution_count": 49,
   "metadata": {
    "colab": {
     "base_uri": "https://localhost:8080/",
     "height": 35
    },
    "colab_type": "code",
    "hidden": true,
    "id": "0n5gLi0ycBgr",
    "outputId": "ccde6119-bca8-4073-cafd-ab8d596a745b"
   },
   "outputs": [
    {
     "data": {
      "text/plain": [
       "0.9021954515669544"
      ]
     },
     "execution_count": 49,
     "metadata": {
      "tags": []
     },
     "output_type": "execute_result"
    }
   ],
   "source": [
    "roc_auc_score(final_y_test, log_y_final_prob)"
   ]
  },
  {
   "cell_type": "markdown",
   "metadata": {
    "colab_type": "text",
    "hidden": true,
    "id": "VQFdTV01AJm4"
   },
   "source": [
    "#### ROC Curve"
   ]
  },
  {
   "cell_type": "code",
   "execution_count": 48,
   "metadata": {
    "colab": {
     "base_uri": "https://localhost:8080/",
     "height": 431
    },
    "colab_type": "code",
    "hidden": true,
    "id": "HtjgU69wAJm5",
    "outputId": "5ce24d46-734b-48c2-8058-7b8558b15c88"
   },
   "outputs": [
    {
     "data": {
      "text/plain": [
       "<matplotlib.legend.Legend at 0x7f733ee3b860>"
      ]
     },
     "execution_count": 48,
     "metadata": {
      "tags": []
     },
     "output_type": "execute_result"
    },
    {
     "data": {
      "image/png": "[encoded data removed]",
      "text/plain": [
       "<Figure size 720x432 with 1 Axes>"
      ]
     },
     "metadata": {
      "needs_background": "light",
      "tags": []
     },
     "output_type": "display_data"
    }
   ],
   "source": [
    "# Final Model ROC\n",
    "\n",
    "TPRs_final, FPRs_final, thresholds_final = ROC_curve(log_y_final_prob, final_y_test)\n",
    "\n",
    "\n",
    "fig, ax = plt.subplots(figsize=(10,6))\n",
    "ax.plot(FPRs_final, TPRs_final, label='Logistic Regression')\n",
    "\n",
    "ax.set_xlabel('False Positive Rate', fontsize=14)\n",
    "ax.set_ylabel('True Positive Rate', fontsize=14)\n",
    "ax.set_title('Final Model ROC Curve', fontsize=20)\n",
    "\n",
    "ax.legend()\n",
    "#plt.savefig('../img/roc_curve_final.png')"
   ]
  },
  {
   "cell_type": "markdown",
   "metadata": {
    "colab_type": "text",
    "heading_collapsed": true,
    "hidden": true,
    "id": "9l4QI5Z1AJnI"
   },
   "source": [
    "## Additional Exploratory Data Analysis"
   ]
  },
  {
   "cell_type": "code",
   "execution_count": 0,
   "metadata": {
    "colab": {},
    "colab_type": "code",
    "hidden": true,
    "id": "wwHW3zBRAJnJ"
   },
   "outputs": [],
   "source": [
    "# Word Cloud for Reviews\n",
    "\n",
    "comment_words = '' \n",
    "#stopwords = set(STOPWORDS) \n",
    "# stopwords = sw\n",
    "  \n",
    "# iterate through the csv file \n",
    "for val in X_small: \n",
    "      \n",
    "    # typecaste each val to string \n",
    "    val = str(val) \n",
    "  \n",
    "    # split the value \n",
    "    tokens = tokenizer(val) \n",
    "      \n",
    "    comment_words += \" \".join(tokens)+\" \""
   ]
  },
  {
   "cell_type": "code",
   "execution_count": 0,
   "metadata": {
    "code_folding": [],
    "colab": {},
    "colab_type": "code",
    "hidden": true,
    "id": "g7V1gwpPAJnQ",
    "outputId": "9a7f8a58-09e8-430b-c882-83475752f55f"
   },
   "outputs": [
    {
     "data": {
      "image/png": "[encoded data removed]",
      "text/plain": [
       "<Figure size 576x576 with 1 Axes>"
      ]
     },
     "metadata": {
      "needs_background": "light",
      "tags": []
     },
     "output_type": "display_data"
    }
   ],
   "source": [
    "wordcloud = WordCloud(width = 800, height = 600, \n",
    "                background_color ='white', \n",
    "                stopwords = sw, \n",
    "                min_font_size = 10).generate(comment_words) \n",
    "  \n",
    "# plot the WordCloud image                        \n",
    "plt.figure(figsize = (8, 8), facecolor = None) \n",
    "plt.imshow(wordcloud) \n",
    "plt.axis(\"off\") \n",
    "plt.tight_layout(pad = 0) \n",
    "  \n",
    "plt.show()"
   ]
  }
 ],
 "metadata": {
  "accelerator": "GPU",
  "colab": {
   "collapsed_sections": [
    "uVoH5ZP0AHyV",
    "QUhX7YCuAH4V",
    "f1e-zqIjAH9k",
    "RdDsta3NAH-j",
    "Q4SjMjPeAIEL",
    "QrKfgJHfAIH5",
    "GeFC28omAIKm",
    "y5zG7DnlAIL7",
    "Ima0oOZTAIVE",
    "uBZf0dsnAIXc",
    "k7ssakRLAIY1",
    "JUkpiKOqAIY2",
    "7hxBmK_OAIcR",
    "PEnsVrpqAIdH",
    "4WddkkcCAIfJ",
    "809NoZFcAJZx",
    "ndMfvuBaAJaS",
    "a8ExtHKcAJdu",
    "5B2y7ULdAJgY",
    "cBVvOxi8AJhF",
    "IejOA4y9AJhk",
    "9l4QI5Z1AJnI"
   ],
   "machine_shape": "hm",
   "name": "colab_NLP_and_Models.ipynb",
   "provenance": []
  },
  "kernelspec": {
   "display_name": "Python 3",
   "language": "python",
   "name": "python3"
  },
  "language_info": {
   "codemirror_mode": {
    "name": "ipython",
    "version": 3
   },
   "file_extension": ".py",
   "mimetype": "text/x-python",
   "name": "python",
   "nbconvert_exporter": "python",
   "pygments_lexer": "ipython3",
   "version": "3.7.6"
  }
 },
 "nbformat": 4,
 "nbformat_minor": 1
}
